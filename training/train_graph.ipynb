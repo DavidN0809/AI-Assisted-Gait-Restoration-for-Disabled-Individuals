{
 "cells": [
  {
   "cell_type": "code",
   "execution_count": 1,
   "id": "05f5e636-6c57-4eba-8474-0160ff7443be",
   "metadata": {},
   "outputs": [],
   "source": [
    "import os\n",
    "os.chdir('..')\n",
    "import numpy as np\n",
    "import pandas as pd\n",
    "from tqdm.auto import tqdm\n",
    "import matplotlib.pyplot as plt\n",
    "\n",
    "import torch\n",
    "import torch.nn as nn\n",
    "import torch.nn.functional as F\n",
    "from torch.utils.data import Dataset, DataLoader\n",
    "from torch.utils.data import random_split\n",
    "from torch_geometric.nn import GCNConv\n",
    "import torch.optim as optim\n",
    "from torch_geometric.data import Data\n",
    "\n",
    "device = torch.device(\"cuda\" if torch.cuda.is_available() else \"cpu\")\n",
    "from utils.datasets import SkeletonEMGDataset"
   ]
  },
  {
   "cell_type": "code",
   "execution_count": null,
   "id": "d8957fbf-f054-4631-9197-519f476bb6e5",
   "metadata": {},
   "outputs": [],
   "source": []
  },
  {
   "cell_type": "code",
   "execution_count": 2,
   "id": "d5af9db2-2a4c-4780-8dcb-3fb7eecec238",
   "metadata": {},
   "outputs": [],
   "source": [
    "# dataset = SkeletonEMGDataset(csv_file=\"emg_skel.csv\", window_size=10)\n",
    "\n",
    "# skel, label = dataset.__getitem__(12)\n",
    "# print(skel[0])"
   ]
  },
  {
   "cell_type": "code",
   "execution_count": 22,
   "id": "dd1bab32-58ed-46e3-859c-fa10b846d9f7",
   "metadata": {},
   "outputs": [],
   "source": [
    "class Skeleton3DConvNet(nn.Module):\n",
    "    def __init__(self, output_num):\n",
    "        super(Skeleton3DConvNet, self).__init__()\n",
    "        \n",
    "        self.num_emgs = 8\n",
    "        self.output_num = output_num\n",
    "        \n",
    "        # Define the layers of the network\n",
    "        self.conv1 = nn.Conv3d(in_channels=3, out_channels=16, kernel_size=(3, 3, 3), padding=(1, 1, 1))\n",
    "        self.bn1 = nn.BatchNorm3d(16)\n",
    "        self.relu1 = nn.ReLU(inplace=True)\n",
    "        \n",
    "        self.conv2 = nn.Conv3d(in_channels=16, out_channels=32, kernel_size=(3, 3, 3), padding=(1, 1, 1))\n",
    "        self.bn2 = nn.BatchNorm3d(32)\n",
    "        self.relu2 = nn.ReLU(inplace=True)\n",
    "        \n",
    "        self.conv3 = nn.Conv3d(in_channels=32, out_channels=64, kernel_size=(3, 3, 3), padding=(1, 1, 1))\n",
    "        self.bn3 = nn.BatchNorm3d(64)\n",
    "        self.relu3 = nn.ReLU(inplace=True)\n",
    "        \n",
    "        self.pool = nn.MaxPool3d(kernel_size=(2, 2, 2), stride=(2, 2, 2))\n",
    "        self.drop = nn.Dropout(0.3)\n",
    "        \n",
    "        # 15360\n",
    "        self.fc1 = nn.LazyLinear(4096)\n",
    "        self.relu4 = nn.ReLU(inplace=True)\n",
    "        \n",
    "        self.fc2 = nn.LazyLinear(1024)\n",
    "        self.relu5 = nn.ReLU(inplace=True)\n",
    "        \n",
    "        self.fc2 = nn.LazyLinear(256)\n",
    "        self.relu5 = nn.ReLU(inplace=True)\n",
    "        \n",
    "        \n",
    "        self.fc3 = nn.LazyLinear(self.num_emgs * output_num)\n",
    "        \n",
    "    def forward(self, x):\n",
    "        # Input shape: (batch_size, sequence_length, num_joints, 3)\n",
    "        x = torch.permute(x, (0, 3, 1, 2))\n",
    "        x = x.unsqueeze(3)\n",
    "        \n",
    "        # Apply convolutional layers\n",
    "        x = self.conv1(x)\n",
    "        x = self.bn1(x)\n",
    "        x = self.relu1(x)\n",
    "        \n",
    "        x = self.conv2(x)\n",
    "        x = self.bn2(x)\n",
    "        x = self.relu2(x)\n",
    "        \n",
    "        x = self.conv3(x)\n",
    "        x = self.bn3(x)\n",
    "        x = self.relu3(x)\n",
    "        \n",
    "        \n",
    "        # Flatten the output for the fully connected layers\n",
    "        x = x.reshape(x.size(0), -1)\n",
    "        \n",
    "        # Apply fully connected layers\n",
    "        x = self.fc1(x)\n",
    "        x = self.relu4(x)\n",
    "        x = self.drop(x)\n",
    "        \n",
    "        x = self.fc2(x)\n",
    "        x = self.relu5(x)\n",
    "        x = self.drop(x)\n",
    "        \n",
    "        x = self.fc3(x)\n",
    "        x = x.view(x.size(0), self.num_emgs, self.output_num)\n",
    "        \n",
    "        return x\n",
    "\n",
    "\n",
    "def create_edge_index():\n",
    "    coco_edges = [\n",
    "        (0, 1), (0, 2), (1, 3), (2, 4), (3, 5), (4, 6), (5, 6), \n",
    "        (5, 7), (7, 9), (6, 8), (8, 10), (5, 11), (6, 12), \n",
    "        (11, 12), (11, 13), (13, 15), (12, 14), (14, 16)\n",
    "    ]\n",
    "    for i in range(17):\n",
    "        coco_edges.append((i, i))\n",
    "        \n",
    "    row, col = torch.tensor(coco_edges).t()\n",
    "    return torch.stack([row, col], dim=0)\n",
    "\n",
    "\n",
    "class GCNLayer(nn.Module):\n",
    "    def __init__(self, in_channels, out_channels):\n",
    "        super(GCNLayer, self).__init__()\n",
    "        self.gcn = GCNConv(in_channels, out_channels)\n",
    "\n",
    "    def forward(self, x, edge_index):\n",
    "        return self.gcn(x, edge_index)\n",
    "    \n",
    "class GCNNSkeleton(torch.nn.Module):\n",
    "    def __init__(self, num_features, hidden_channels, output_channels, num_keypoints, output_num):\n",
    "        super(GCNNSkeleton, self).__init__()\n",
    "        \n",
    "        self.num_keypoints = num_keypoints\n",
    "        self.output_num = output_num\n",
    "        self.num_emgs = 8\n",
    "        \n",
    "        self.gcn1 = GCNConv(num_features, hidden_channels)\n",
    "        self.gcn2 = GCNConv(hidden_channels, hidden_channels)\n",
    "        self.gcn3 = GCNConv(hidden_channels, output_channels)\n",
    "        self.relu = nn.ReLU()\n",
    "\n",
    "        self.fc = nn.Sequential(\n",
    "            nn.LazyLinear(1024),\n",
    "            \n",
    "            nn.ReLU(),\n",
    "            nn.LazyLinear(512),\n",
    "            nn.ReLU(),\n",
    "            nn.LazyLinear(128),\n",
    "            nn.ReLU(),\n",
    "            nn.LazyLinear(self.num_emgs * output_num),\n",
    "        )\n",
    "\n",
    "    def forward(self, x, edge_index):\n",
    "        x = self.gcn1(x, edge_index)\n",
    "        x = self.relu(x)\n",
    "        x = self.gcn2(x, edge_index)\n",
    "        x = self.relu(x)\n",
    "        x = self.gcn3(x, edge_index)\n",
    "        \n",
    "        x = x.view(x.size(0), -1)\n",
    "        x = self.fc(x)\n",
    "        x = x.view(x.size(0), self.num_emgs, self.output_num)\n",
    "        \n",
    "        return x"
   ]
  },
  {
   "cell_type": "code",
   "execution_count": 9,
   "id": "77431947-0056-4934-b495-e5e6eb77a2b2",
   "metadata": {
    "scrolled": true,
    "tags": []
   },
   "outputs": [
    {
     "name": "stdout",
     "output_type": "stream",
     "text": [
      "(1920, 1920)\n",
      "tensor(0.9997)\n",
      "tensor([[[0.0000, 0.0000, 0.0000],\n",
      "         [0.2478, 0.1161, 0.0456],\n",
      "         [0.2543, 0.1149, 0.0625],\n",
      "         [0.2156, 0.1156, 0.7413],\n",
      "         [0.2734, 0.1148, 0.7516],\n",
      "         [0.1854, 0.1736, 0.9948],\n",
      "         [0.2976, 0.1740, 0.9956],\n",
      "         [0.1602, 0.2746, 0.9789],\n",
      "         [0.3209, 0.2726, 0.9845],\n",
      "         [0.1669, 0.3589, 0.9398],\n",
      "         [0.3351, 0.3558, 0.9491],\n",
      "         [0.1988, 0.3338, 0.9996],\n",
      "         [0.2717, 0.3326, 0.9996],\n",
      "         [0.1989, 0.4743, 0.9991],\n",
      "         [0.2612, 0.4747, 0.9993],\n",
      "         [0.1992, 0.6012, 0.9914],\n",
      "         [0.2409, 0.6043, 0.9927]],\n",
      "\n",
      "        [[0.0000, 0.0000, 0.0000],\n",
      "         [0.2484, 0.1165, 0.0520],\n",
      "         [0.2548, 0.1153, 0.0632],\n",
      "         [0.2165, 0.1153, 0.7609],\n",
      "         [0.2742, 0.1143, 0.7395],\n",
      "         [0.1862, 0.1724, 0.9954],\n",
      "         [0.2997, 0.1727, 0.9955],\n",
      "         [0.1637, 0.2746, 0.9816],\n",
      "         [0.3223, 0.2713, 0.9835],\n",
      "         [0.1679, 0.3610, 0.9467],\n",
      "         [0.3348, 0.3573, 0.9483],\n",
      "         [0.2019, 0.3318, 0.9996],\n",
      "         [0.2760, 0.3313, 0.9996],\n",
      "         [0.1994, 0.4712, 0.9992],\n",
      "         [0.2645, 0.4766, 0.9993],\n",
      "         [0.1982, 0.5980, 0.9918],\n",
      "         [0.2425, 0.6091, 0.9927]],\n",
      "\n",
      "        [[0.0000, 0.0000, 0.0000],\n",
      "         [0.2500, 0.1159, 0.0477],\n",
      "         [0.2594, 0.1143, 0.0629],\n",
      "         [0.2196, 0.1141, 0.6171],\n",
      "         [0.2755, 0.1117, 0.5764],\n",
      "         [0.1919, 0.1694, 0.9880],\n",
      "         [0.2989, 0.1702, 0.9890],\n",
      "         [0.1673, 0.2737, 0.9644],\n",
      "         [0.3264, 0.2718, 0.9738],\n",
      "         [0.1706, 0.3620, 0.9191],\n",
      "         [0.3346, 0.3630, 0.9336],\n",
      "         [0.2107, 0.3331, 0.9985],\n",
      "         [0.2806, 0.3328, 0.9987],\n",
      "         [0.1994, 0.4689, 0.9964],\n",
      "         [0.2681, 0.4775, 0.9973],\n",
      "         [0.1952, 0.5882, 0.9662],\n",
      "         [0.2474, 0.6092, 0.9718]],\n",
      "\n",
      "        [[0.0000, 0.0000, 0.0000],\n",
      "         [0.2497, 0.1129, 0.0413],\n",
      "         [0.2590, 0.1117, 0.0513],\n",
      "         [0.2215, 0.1119, 0.6070],\n",
      "         [0.2770, 0.1098, 0.5420],\n",
      "         [0.1935, 0.1677, 0.9877],\n",
      "         [0.3012, 0.1693, 0.9891],\n",
      "         [0.1700, 0.2735, 0.9668],\n",
      "         [0.3277, 0.2724, 0.9762],\n",
      "         [0.1699, 0.3624, 0.9266],\n",
      "         [0.3313, 0.3652, 0.9410],\n",
      "         [0.2113, 0.3311, 0.9987],\n",
      "         [0.2813, 0.3319, 0.9989],\n",
      "         [0.1997, 0.4658, 0.9968],\n",
      "         [0.2675, 0.4811, 0.9976],\n",
      "         [0.1968, 0.5790, 0.9684],\n",
      "         [0.2479, 0.6117, 0.9740]],\n",
      "\n",
      "        [[0.0000, 0.0000, 0.0000],\n",
      "         [0.2455, 0.1097, 0.0504],\n",
      "         [0.2519, 0.1093, 0.0435],\n",
      "         [0.2202, 0.1096, 0.7783],\n",
      "         [0.2768, 0.1089, 0.6552],\n",
      "         [0.1925, 0.1675, 0.9954],\n",
      "         [0.3055, 0.1707, 0.9951],\n",
      "         [0.1727, 0.2720, 0.9845],\n",
      "         [0.3279, 0.2734, 0.9836],\n",
      "         [0.1687, 0.3624, 0.9563],\n",
      "         [0.3284, 0.3625, 0.9530],\n",
      "         [0.2094, 0.3281, 0.9997],\n",
      "         [0.2834, 0.3304, 0.9997],\n",
      "         [0.2021, 0.4623, 0.9993],\n",
      "         [0.2653, 0.4824, 0.9994],\n",
      "         [0.2012, 0.5800, 0.9933],\n",
      "         [0.2446, 0.6161, 0.9939]],\n",
      "\n",
      "        [[0.0000, 0.0000, 0.0000],\n",
      "         [0.2466, 0.1115, 0.0422],\n",
      "         [0.2564, 0.1109, 0.0463],\n",
      "         [0.2222, 0.1091, 0.6109],\n",
      "         [0.2784, 0.1074, 0.5014],\n",
      "         [0.1966, 0.1636, 0.9861],\n",
      "         [0.3031, 0.1668, 0.9882],\n",
      "         [0.1728, 0.2708, 0.9645],\n",
      "         [0.3278, 0.2728, 0.9755],\n",
      "         [0.1680, 0.3626, 0.9244],\n",
      "         [0.3263, 0.3646, 0.9412],\n",
      "         [0.2120, 0.3298, 0.9986],\n",
      "         [0.2807, 0.3314, 0.9989],\n",
      "         [0.2012, 0.4636, 0.9970],\n",
      "         [0.2650, 0.4823, 0.9979],\n",
      "         [0.2011, 0.5796, 0.9715],\n",
      "         [0.2463, 0.6178, 0.9773]],\n",
      "\n",
      "        [[0.0000, 0.0000, 0.0000],\n",
      "         [0.2496, 0.1088, 0.0364],\n",
      "         [0.2591, 0.1082, 0.0433],\n",
      "         [0.2236, 0.1064, 0.5808],\n",
      "         [0.2795, 0.1054, 0.4999],\n",
      "         [0.1961, 0.1612, 0.9837],\n",
      "         [0.3039, 0.1659, 0.9868],\n",
      "         [0.1724, 0.2688, 0.9587],\n",
      "         [0.3276, 0.2736, 0.9732],\n",
      "         [0.1685, 0.3612, 0.9149],\n",
      "         [0.3230, 0.3654, 0.9363],\n",
      "         [0.2109, 0.3280, 0.9985],\n",
      "         [0.2805, 0.3304, 0.9988],\n",
      "         [0.2013, 0.4622, 0.9970],\n",
      "         [0.2651, 0.4826, 0.9979],\n",
      "         [0.2000, 0.5810, 0.9728],\n",
      "         [0.2449, 0.6219, 0.9784]],\n",
      "\n",
      "        [[0.0000, 0.0000, 0.0000],\n",
      "         [0.2497, 0.1088, 0.0417],\n",
      "         [0.2595, 0.1082, 0.0468],\n",
      "         [0.2240, 0.1060, 0.6062],\n",
      "         [0.2811, 0.1051, 0.5128],\n",
      "         [0.1976, 0.1610, 0.9853],\n",
      "         [0.3045, 0.1659, 0.9871],\n",
      "         [0.1738, 0.2697, 0.9617],\n",
      "         [0.3260, 0.2767, 0.9723],\n",
      "         [0.1679, 0.3628, 0.9187],\n",
      "         [0.3184, 0.3699, 0.9344],\n",
      "         [0.2099, 0.3286, 0.9984],\n",
      "         [0.2788, 0.3306, 0.9987],\n",
      "         [0.2031, 0.4641, 0.9965],\n",
      "         [0.2656, 0.4821, 0.9975],\n",
      "         [0.2038, 0.5854, 0.9671],\n",
      "         [0.2457, 0.6217, 0.9733]],\n",
      "\n",
      "        [[0.0000, 0.0000, 0.0000],\n",
      "         [0.2499, 0.1051, 0.0544],\n",
      "         [0.2552, 0.1052, 0.0513],\n",
      "         [0.2248, 0.1027, 0.7675],\n",
      "         [0.2790, 0.1037, 0.6900],\n",
      "         [0.1957, 0.1598, 0.9948],\n",
      "         [0.3066, 0.1662, 0.9950],\n",
      "         [0.1752, 0.2664, 0.9819],\n",
      "         [0.3252, 0.2771, 0.9828],\n",
      "         [0.1685, 0.3603, 0.9507],\n",
      "         [0.3137, 0.3676, 0.9517],\n",
      "         [0.2057, 0.3250, 0.9996],\n",
      "         [0.2783, 0.3281, 0.9996],\n",
      "         [0.2042, 0.4640, 0.9992],\n",
      "         [0.2651, 0.4838, 0.9994],\n",
      "         [0.2036, 0.5900, 0.9924],\n",
      "         [0.2453, 0.6245, 0.9933]],\n",
      "\n",
      "        [[0.0000, 0.0000, 0.0000],\n",
      "         [0.2495, 0.1030, 0.0837],\n",
      "         [0.2551, 0.1036, 0.0716],\n",
      "         [0.2258, 0.1011, 0.7498],\n",
      "         [0.2766, 0.1037, 0.6240],\n",
      "         [0.1964, 0.1585, 0.9906],\n",
      "         [0.3040, 0.1689, 0.9898],\n",
      "         [0.1730, 0.2682, 0.9672],\n",
      "         [0.3211, 0.2836, 0.9627],\n",
      "         [0.1673, 0.3637, 0.9246],\n",
      "         [0.3062, 0.3657, 0.9154],\n",
      "         [0.2065, 0.3255, 0.9990],\n",
      "         [0.2766, 0.3305, 0.9990],\n",
      "         [0.2039, 0.4630, 0.9987],\n",
      "         [0.2649, 0.4856, 0.9988],\n",
      "         [0.2042, 0.5918, 0.9902],\n",
      "         [0.2465, 0.6293, 0.9908]]])\n"
     ]
    }
   ],
   "source": [
    "dataset = SkeletonEMGDataset(csv_file=\"emg_skel.csv\", window_size=10)\n",
    "X, Y = dataset.__getitem__(8)\n",
    "print(torch.max(X))\n",
    "print(X)"
   ]
  },
  {
   "cell_type": "code",
   "execution_count": 10,
   "id": "97599a34-bcdb-4357-b264-3bd8aff0320e",
   "metadata": {},
   "outputs": [
    {
     "name": "stdout",
     "output_type": "stream",
     "text": [
      "(1920, 1920)\n",
      "tensor([[ 0,  0,  1,  2,  3,  4,  5,  5,  7,  6,  8,  5,  6, 11, 11, 13, 12, 14,\n",
      "          0,  1,  2,  3,  4,  5,  6,  7,  8,  9, 10, 11, 12, 13, 14, 15, 16],\n",
      "        [ 1,  2,  3,  4,  5,  6,  6,  7,  9,  8, 10, 11, 12, 12, 13, 15, 14, 16,\n",
      "          0,  1,  2,  3,  4,  5,  6,  7,  8,  9, 10, 11, 12, 13, 14, 15, 16]],\n",
      "       device='cuda:0')\n",
      "[ 1778  3556  5334  7112  8890 10668 12446 14224 16002 17780 19558 21336\n",
      " 23114 24892 26670 28448 30226 32004 33782 35560 37338 39116 40894 42672\n",
      " 44450]\n"
     ]
    }
   ],
   "source": [
    "# Create dataset and data loader\n",
    "dataset = SkeletonEMGDataset(csv_file=\"emg_skel.csv\", n_ahead=12, window_size=10)\n",
    "\n",
    "train_dataset, valid_dataset, test_dataset = random_split(dataset, [0.7, 0.1, 0.2])\n",
    "trainLoader = DataLoader(train_dataset, batch_size=64, num_workers=8, shuffle=True)\n",
    "validLoader = DataLoader(valid_dataset, batch_size=64, num_workers=4, shuffle=False)\n",
    "testLoader = DataLoader(test_dataset, batch_size=64, num_workers=0, shuffle=True)\n",
    "\n",
    "edge_index = create_edge_index().to(device)\n",
    "print(edge_index)\n",
    "\n",
    "print(dataset.cumulative_num_samples)"
   ]
  },
  {
   "cell_type": "code",
   "execution_count": 12,
   "id": "ec23e945-9548-4f6b-a1e2-ec79fe8f21d7",
   "metadata": {},
   "outputs": [],
   "source": [
    "# Create model and optimizer\n",
    "input_channels = 3\n",
    "hidden_channels = 16\n",
    "output_channels = 32\n",
    "num_keypoints = 17\n",
    "output_num = train_dataset.dataset.n_ahead\n",
    "\n",
    "model = GCNNSkeleton(input_channels, hidden_channels, output_channels, num_keypoints, output_num).to(device)\n",
    "\n",
    "# model = Skeleton3DConvNet().to(device)\n",
    "optimizer = optim.Adam(model.parameters(), lr=0.01)\n",
    "\n",
    "# Define loss function\n",
    "criterion = nn.MSELoss()"
   ]
  },
  {
   "cell_type": "code",
   "execution_count": 13,
   "id": "27a5f4d1-f4bf-49a4-a9c6-a803881acb26",
   "metadata": {},
   "outputs": [
    {
     "name": "stdout",
     "output_type": "stream",
     "text": [
      "torch.Size([64, 8, 12])\n",
      "torch.Size([64, 8, 12])\n"
     ]
    }
   ],
   "source": [
    "x = None\n",
    "for i, b in testLoader:\n",
    "    print(b.shape)\n",
    "    i = i.to(device)\n",
    "    print(model(i, edge_index).shape)\n",
    "    break"
   ]
  },
  {
   "cell_type": "code",
   "execution_count": 9,
   "id": "db1ce853-f3b3-4c12-b779-0b5d58fb957c",
   "metadata": {
    "scrolled": true,
    "tags": []
   },
   "outputs": [
    {
     "data": {
      "application/vnd.jupyter.widget-view+json": {
       "model_id": "30caf3c2f1164524928abff9f0a6081e",
       "version_major": 2,
       "version_minor": 0
      },
      "text/plain": [
       "  0%|          | 0/487 [00:11<?, ?it/s]"
      ]
     },
     "metadata": {},
     "output_type": "display_data"
    },
    {
     "data": {
      "application/vnd.jupyter.widget-view+json": {
       "model_id": "a62a44f2ff97400cb6e2a3e4b51317bc",
       "version_major": 2,
       "version_minor": 0
      },
      "text/plain": [
       "  0%|          | 0/70 [00:00<?, ?it/s]"
      ]
     },
     "metadata": {},
     "output_type": "display_data"
    },
    {
     "name": "stdout",
     "output_type": "stream",
     "text": [
      "Epoch 1/30: Train Loss: 0.137322 - Validation Loss: 0.024487\n"
     ]
    },
    {
     "data": {
      "application/vnd.jupyter.widget-view+json": {
       "model_id": "8ca41047255b420e803fd50770cddedd",
       "version_major": 2,
       "version_minor": 0
      },
      "text/plain": [
       "  0%|          | 0/487 [00:11<?, ?it/s]"
      ]
     },
     "metadata": {},
     "output_type": "display_data"
    },
    {
     "data": {
      "application/vnd.jupyter.widget-view+json": {
       "model_id": "f98e138cfaf7499aaedb4a927b8704ba",
       "version_major": 2,
       "version_minor": 0
      },
      "text/plain": [
       "  0%|          | 0/70 [00:00<?, ?it/s]"
      ]
     },
     "metadata": {},
     "output_type": "display_data"
    },
    {
     "name": "stdout",
     "output_type": "stream",
     "text": [
      "Epoch 2/30: Train Loss: 0.025129 - Validation Loss: 0.024674\n"
     ]
    },
    {
     "data": {
      "application/vnd.jupyter.widget-view+json": {
       "model_id": "3ab24ba6e1e44ef0ac68c5ad55dda295",
       "version_major": 2,
       "version_minor": 0
      },
      "text/plain": [
       "  0%|          | 0/487 [00:11<?, ?it/s]"
      ]
     },
     "metadata": {},
     "output_type": "display_data"
    },
    {
     "data": {
      "application/vnd.jupyter.widget-view+json": {
       "model_id": "d06caefefef74397be5126c17f0a7d3c",
       "version_major": 2,
       "version_minor": 0
      },
      "text/plain": [
       "  0%|          | 0/70 [00:00<?, ?it/s]"
      ]
     },
     "metadata": {},
     "output_type": "display_data"
    },
    {
     "name": "stdout",
     "output_type": "stream",
     "text": [
      "Epoch 3/30: Train Loss: 0.024348 - Validation Loss: 0.024201\n"
     ]
    },
    {
     "data": {
      "application/vnd.jupyter.widget-view+json": {
       "model_id": "e7b614d5fd1b4934a6336110d9b43eae",
       "version_major": 2,
       "version_minor": 0
      },
      "text/plain": [
       "  0%|          | 0/487 [00:11<?, ?it/s]"
      ]
     },
     "metadata": {},
     "output_type": "display_data"
    },
    {
     "data": {
      "application/vnd.jupyter.widget-view+json": {
       "model_id": "b01ee0a2386c42a2af6f4411c6e64756",
       "version_major": 2,
       "version_minor": 0
      },
      "text/plain": [
       "  0%|          | 0/70 [00:00<?, ?it/s]"
      ]
     },
     "metadata": {},
     "output_type": "display_data"
    },
    {
     "name": "stdout",
     "output_type": "stream",
     "text": [
      "Epoch 4/30: Train Loss: 0.024888 - Validation Loss: 0.024455\n"
     ]
    },
    {
     "data": {
      "application/vnd.jupyter.widget-view+json": {
       "model_id": "da0bbc14e9244f83a7fb82efdd77447c",
       "version_major": 2,
       "version_minor": 0
      },
      "text/plain": [
       "  0%|          | 0/487 [00:11<?, ?it/s]"
      ]
     },
     "metadata": {},
     "output_type": "display_data"
    },
    {
     "data": {
      "application/vnd.jupyter.widget-view+json": {
       "model_id": "296ada84fa8e430bae2ec643e0f09ea8",
       "version_major": 2,
       "version_minor": 0
      },
      "text/plain": [
       "  0%|          | 0/70 [00:00<?, ?it/s]"
      ]
     },
     "metadata": {},
     "output_type": "display_data"
    },
    {
     "name": "stdout",
     "output_type": "stream",
     "text": [
      "Epoch 5/30: Train Loss: 0.024181 - Validation Loss: 0.023925\n"
     ]
    },
    {
     "data": {
      "application/vnd.jupyter.widget-view+json": {
       "model_id": "3ff79ed2045644a8b18924014e1166ef",
       "version_major": 2,
       "version_minor": 0
      },
      "text/plain": [
       "  0%|          | 0/487 [00:11<?, ?it/s]"
      ]
     },
     "metadata": {},
     "output_type": "display_data"
    },
    {
     "data": {
      "application/vnd.jupyter.widget-view+json": {
       "model_id": "bb850593d9ec450b9a4022df3a796e20",
       "version_major": 2,
       "version_minor": 0
      },
      "text/plain": [
       "  0%|          | 0/70 [00:00<?, ?it/s]"
      ]
     },
     "metadata": {},
     "output_type": "display_data"
    },
    {
     "name": "stdout",
     "output_type": "stream",
     "text": [
      "Epoch 6/30: Train Loss: 0.023944 - Validation Loss: 0.023803\n"
     ]
    },
    {
     "data": {
      "application/vnd.jupyter.widget-view+json": {
       "model_id": "983c8d00e0804507a081b44a6c5f6cac",
       "version_major": 2,
       "version_minor": 0
      },
      "text/plain": [
       "  0%|          | 0/487 [00:11<?, ?it/s]"
      ]
     },
     "metadata": {},
     "output_type": "display_data"
    },
    {
     "data": {
      "application/vnd.jupyter.widget-view+json": {
       "model_id": "0849b6cc319545bcaa00cf0faf22276f",
       "version_major": 2,
       "version_minor": 0
      },
      "text/plain": [
       "  0%|          | 0/70 [00:00<?, ?it/s]"
      ]
     },
     "metadata": {},
     "output_type": "display_data"
    },
    {
     "name": "stdout",
     "output_type": "stream",
     "text": [
      "Epoch 7/30: Train Loss: 0.023767 - Validation Loss: 0.024358\n"
     ]
    },
    {
     "data": {
      "application/vnd.jupyter.widget-view+json": {
       "model_id": "079400c448e246a8baa1f6ab7d139bcb",
       "version_major": 2,
       "version_minor": 0
      },
      "text/plain": [
       "  0%|          | 0/487 [00:11<?, ?it/s]"
      ]
     },
     "metadata": {},
     "output_type": "display_data"
    },
    {
     "data": {
      "application/vnd.jupyter.widget-view+json": {
       "model_id": "2a32846006cf4fccae831ba01e32c96f",
       "version_major": 2,
       "version_minor": 0
      },
      "text/plain": [
       "  0%|          | 0/70 [00:00<?, ?it/s]"
      ]
     },
     "metadata": {},
     "output_type": "display_data"
    },
    {
     "name": "stdout",
     "output_type": "stream",
     "text": [
      "Epoch 8/30: Train Loss: 0.023802 - Validation Loss: 0.024020\n"
     ]
    },
    {
     "data": {
      "application/vnd.jupyter.widget-view+json": {
       "model_id": "ce48d542f9554270959207855cee6bb3",
       "version_major": 2,
       "version_minor": 0
      },
      "text/plain": [
       "  0%|          | 0/487 [00:11<?, ?it/s]"
      ]
     },
     "metadata": {},
     "output_type": "display_data"
    },
    {
     "data": {
      "application/vnd.jupyter.widget-view+json": {
       "model_id": "0408006044b74d00920d06e8777fe56f",
       "version_major": 2,
       "version_minor": 0
      },
      "text/plain": [
       "  0%|          | 0/70 [00:00<?, ?it/s]"
      ]
     },
     "metadata": {},
     "output_type": "display_data"
    },
    {
     "name": "stdout",
     "output_type": "stream",
     "text": [
      "Epoch 9/30: Train Loss: 0.023741 - Validation Loss: 0.024284\n"
     ]
    },
    {
     "data": {
      "application/vnd.jupyter.widget-view+json": {
       "model_id": "bf52773eb00645288b27296815c50508",
       "version_major": 2,
       "version_minor": 0
      },
      "text/plain": [
       "  0%|          | 0/487 [00:11<?, ?it/s]"
      ]
     },
     "metadata": {},
     "output_type": "display_data"
    },
    {
     "data": {
      "application/vnd.jupyter.widget-view+json": {
       "model_id": "1bc9899232f3470887d43ad74a77fed4",
       "version_major": 2,
       "version_minor": 0
      },
      "text/plain": [
       "  0%|          | 0/70 [00:00<?, ?it/s]"
      ]
     },
     "metadata": {},
     "output_type": "display_data"
    },
    {
     "name": "stdout",
     "output_type": "stream",
     "text": [
      "Epoch 10/30: Train Loss: 0.023523 - Validation Loss: 0.023473\n"
     ]
    },
    {
     "name": "stderr",
     "output_type": "stream",
     "text": [
      "Exception ignored in: <function _MultiProcessingDataLoaderIter.__del__ at 0x000001B1995E3010>\n",
      "Traceback (most recent call last):\n",
      "  File \"C:\\Users\\gmald\\anaconda3\\envs\\genml\\lib\\site-packages\\torch\\utils\\data\\dataloader.py\", line 1466, in __del__\n",
      "    self._shutdown_workers()\n",
      "  File \"C:\\Users\\gmald\\anaconda3\\envs\\genml\\lib\\site-packages\\torch\\utils\\data\\dataloader.py\", line 1430, in _shutdown_workers\n",
      "    w.join(timeout=_utils.MP_STATUS_CHECK_INTERVAL)\n",
      "  File \"C:\\Users\\gmald\\anaconda3\\envs\\genml\\lib\\multiprocessing\\process.py\", line 149, in join\n",
      "    res = self._popen.wait(timeout)\n",
      "  File \"C:\\Users\\gmald\\anaconda3\\envs\\genml\\lib\\multiprocessing\\popen_spawn_win32.py\", line 108, in wait\n",
      "    res = _winapi.WaitForSingleObject(int(self._handle), msecs)\n",
      "KeyboardInterrupt: \n"
     ]
    },
    {
     "data": {
      "image/png": "[encoded data removed]",
      "text/plain": [
       "<Figure size 640x480 with 1 Axes>"
      ]
     },
     "metadata": {},
     "output_type": "display_data"
    }
   ],
   "source": [
    "# Train model\n",
    "\n",
    "edge_index.to(device)\n",
    "train_losses = []\n",
    "valid_losses = []\n",
    "\n",
    "for epoch in range(10):\n",
    "    # Training\n",
    "    running_loss = 0.0\n",
    "    model.train()\n",
    "\n",
    "    for data in tqdm(trainLoader):\n",
    "        # Get inputs and labels\n",
    "        inputs, labels = data\n",
    "        inputs = inputs.to(device)\n",
    "        labels = labels.to(device)\n",
    "\n",
    "        # Zero the parameter gradients\n",
    "        optimizer.zero_grad()\n",
    "\n",
    "        # Forward + backward + optimize\n",
    "        outputs = model(inputs, edge_index)\n",
    "        loss = criterion(outputs, labels)\n",
    "\n",
    "        # Check if loss is NaN\n",
    "        if np.isnan(loss.item()):\n",
    "            # print(\"Skipping iteration due to NaN loss\")\n",
    "            continue\n",
    "\n",
    "        loss.backward()\n",
    "        optimizer.step()\n",
    "\n",
    "        running_loss += loss.item()\n",
    "\n",
    "    train_loss = running_loss / len(trainLoader)\n",
    "    train_losses.append(train_loss)\n",
    "\n",
    "    # Validation\n",
    "    running_loss = 0.0\n",
    "    model.eval()\n",
    "\n",
    "    with torch.no_grad():\n",
    "        for data in tqdm(validLoader):\n",
    "            # Get inputs and labels\n",
    "            inputs, labels = data\n",
    "            inputs = inputs.to(device)\n",
    "            labels = labels.to(device)\n",
    "\n",
    "            # Forward\n",
    "            outputs = model(inputs, edge_index)\n",
    "            loss = criterion(outputs, labels)\n",
    "\n",
    "            # Check if loss is NaN\n",
    "            if np.isnan(loss.item()):\n",
    "                # print(\"Skipping iteration due to NaN loss\")\n",
    "                continue\n",
    "\n",
    "            running_loss += loss.item()\n",
    "\n",
    "    valid_loss = running_loss / len(validLoader)\n",
    "    valid_losses.append(valid_loss)\n",
    "\n",
    "    print(f\"Epoch {epoch+1}/{30}: Train Loss: {train_loss:.6f} - Validation Loss: {valid_loss:.6f}\")\n",
    "\n",
    "# Plot the losses\n",
    "plt.plot(train_losses, label='Training Loss')\n",
    "plt.plot(valid_losses, label='Validation Loss')\n",
    "plt.legend()\n",
    "plt.show()"
   ]
  },
  {
   "cell_type": "code",
   "execution_count": null,
   "id": "35f44fd5-274c-43b4-b370-b9958b873792",
   "metadata": {},
   "outputs": [],
   "source": []
  },
  {
   "cell_type": "code",
   "execution_count": 23,
   "id": "2870db7f-b5bf-4754-837d-bba5791643e6",
   "metadata": {},
   "outputs": [],
   "source": [
    "# Create model and optimizer\n",
    "output_num = train_dataset.dataset.n_ahead\n",
    "\n",
    "model2 = Skeleton3DConvNet(output_num).to(device)\n",
    "\n",
    "# model = Skeleton3DConvNet().to(device)\n",
    "optimizer = optim.Adam(model2.parameters(), lr=0.01)\n",
    "\n",
    "# Define loss function\n",
    "criterion = nn.MSELoss()"
   ]
  },
  {
   "cell_type": "code",
   "execution_count": 24,
   "id": "24dc1ef5-4cfe-4b70-85b2-0deec40504bd",
   "metadata": {},
   "outputs": [
    {
     "name": "stdout",
     "output_type": "stream",
     "text": [
      "torch.Size([64, 8, 12])\n",
      "torch.Size([64, 8, 12])\n"
     ]
    }
   ],
   "source": [
    "x = None\n",
    "for i, b in testLoader:\n",
    "    print(b.shape)\n",
    "    i = i.to(device)\n",
    "    print(model2(i).shape)\n",
    "    break\n",
    "    \n",
    "train_losses = []\n",
    "valid_losses = []"
   ]
  },
  {
   "cell_type": "code",
   "execution_count": 25,
   "id": "24555901-0cb6-428c-8764-c02dc80380cf",
   "metadata": {
    "scrolled": true,
    "tags": []
   },
   "outputs": [
    {
     "data": {
      "application/vnd.jupyter.widget-view+json": {
       "model_id": "086feaf6e8564e6ea655a862e977779a",
       "version_major": 2,
       "version_minor": 0
      },
      "text/plain": [
       "  0%|          | 0/487 [00:11<?, ?it/s]"
      ]
     },
     "metadata": {},
     "output_type": "display_data"
    },
    {
     "data": {
      "application/vnd.jupyter.widget-view+json": {
       "model_id": "5f4218612ee34ebea2655089222e5500",
       "version_major": 2,
       "version_minor": 0
      },
      "text/plain": [
       "  0%|          | 0/70 [00:00<?, ?it/s]"
      ]
     },
     "metadata": {},
     "output_type": "display_data"
    },
    {
     "name": "stdout",
     "output_type": "stream",
     "text": [
      "Epoch 1/30: Train Loss: 388.599044 - Validation Loss: 0.067985\n"
     ]
    },
    {
     "data": {
      "application/vnd.jupyter.widget-view+json": {
       "model_id": "4ec2dd36aee3460badee46b14c47806f",
       "version_major": 2,
       "version_minor": 0
      },
      "text/plain": [
       "  0%|          | 0/487 [00:11<?, ?it/s]"
      ]
     },
     "metadata": {},
     "output_type": "display_data"
    },
    {
     "data": {
      "application/vnd.jupyter.widget-view+json": {
       "model_id": "df332f45ea634c9eb25b38acd2fb6100",
       "version_major": 2,
       "version_minor": 0
      },
      "text/plain": [
       "  0%|          | 0/70 [00:00<?, ?it/s]"
      ]
     },
     "metadata": {},
     "output_type": "display_data"
    },
    {
     "name": "stdout",
     "output_type": "stream",
     "text": [
      "Epoch 2/30: Train Loss: 0.056306 - Validation Loss: 0.045403\n"
     ]
    },
    {
     "data": {
      "application/vnd.jupyter.widget-view+json": {
       "model_id": "58e38b274af24bc38b4b431f4e1c70e6",
       "version_major": 2,
       "version_minor": 0
      },
      "text/plain": [
       "  0%|          | 0/487 [00:11<?, ?it/s]"
      ]
     },
     "metadata": {},
     "output_type": "display_data"
    },
    {
     "data": {
      "application/vnd.jupyter.widget-view+json": {
       "model_id": "56f874b9484b4395b75accdb402953ed",
       "version_major": 2,
       "version_minor": 0
      },
      "text/plain": [
       "  0%|          | 0/70 [00:00<?, ?it/s]"
      ]
     },
     "metadata": {},
     "output_type": "display_data"
    },
    {
     "name": "stdout",
     "output_type": "stream",
     "text": [
      "Epoch 3/30: Train Loss: 0.037973 - Validation Loss: 0.031934\n"
     ]
    },
    {
     "data": {
      "application/vnd.jupyter.widget-view+json": {
       "model_id": "a4b90507bc90405a9faeee9e4651287f",
       "version_major": 2,
       "version_minor": 0
      },
      "text/plain": [
       "  0%|          | 0/487 [00:11<?, ?it/s]"
      ]
     },
     "metadata": {},
     "output_type": "display_data"
    },
    {
     "data": {
      "application/vnd.jupyter.widget-view+json": {
       "model_id": "6001df170f504d259bfd7feab4d1cab0",
       "version_major": 2,
       "version_minor": 0
      },
      "text/plain": [
       "  0%|          | 0/70 [00:00<?, ?it/s]"
      ]
     },
     "metadata": {},
     "output_type": "display_data"
    },
    {
     "name": "stdout",
     "output_type": "stream",
     "text": [
      "Epoch 4/30: Train Loss: 0.032015 - Validation Loss: 0.026359\n"
     ]
    },
    {
     "data": {
      "application/vnd.jupyter.widget-view+json": {
       "model_id": "428cea7abb034a93a4c00d99f42c1011",
       "version_major": 2,
       "version_minor": 0
      },
      "text/plain": [
       "  0%|          | 0/487 [00:11<?, ?it/s]"
      ]
     },
     "metadata": {},
     "output_type": "display_data"
    },
    {
     "data": {
      "application/vnd.jupyter.widget-view+json": {
       "model_id": "33c75e0c0fdc4f7db82362aba7e1327a",
       "version_major": 2,
       "version_minor": 0
      },
      "text/plain": [
       "  0%|          | 0/70 [00:00<?, ?it/s]"
      ]
     },
     "metadata": {},
     "output_type": "display_data"
    },
    {
     "name": "stdout",
     "output_type": "stream",
     "text": [
      "Epoch 5/30: Train Loss: 0.025441 - Validation Loss: 0.024745\n"
     ]
    },
    {
     "data": {
      "application/vnd.jupyter.widget-view+json": {
       "model_id": "463d10749f4646f5895c61aa1e5b4b45",
       "version_major": 2,
       "version_minor": 0
      },
      "text/plain": [
       "  0%|          | 0/487 [00:11<?, ?it/s]"
      ]
     },
     "metadata": {},
     "output_type": "display_data"
    },
    {
     "data": {
      "application/vnd.jupyter.widget-view+json": {
       "model_id": "40c90a9f15f340e3a3662c7f8664f816",
       "version_major": 2,
       "version_minor": 0
      },
      "text/plain": [
       "  0%|          | 0/70 [00:00<?, ?it/s]"
      ]
     },
     "metadata": {},
     "output_type": "display_data"
    },
    {
     "name": "stdout",
     "output_type": "stream",
     "text": [
      "Epoch 6/30: Train Loss: 0.024606 - Validation Loss: 0.024416\n"
     ]
    },
    {
     "data": {
      "application/vnd.jupyter.widget-view+json": {
       "model_id": "4bb4105fde904af2a4c525e663110d59",
       "version_major": 2,
       "version_minor": 0
      },
      "text/plain": [
       "  0%|          | 0/487 [00:11<?, ?it/s]"
      ]
     },
     "metadata": {},
     "output_type": "display_data"
    },
    {
     "name": "stderr",
     "output_type": "stream",
     "text": [
      "Exception ignored in: <function _MultiProcessingDataLoaderIter.__del__ at 0x0000026F07187010>\n",
      "Traceback (most recent call last):\n",
      "  File \"C:\\Users\\gmald\\anaconda3\\envs\\genml\\lib\\site-packages\\torch\\utils\\data\\dataloader.py\", line 1466, in __del__\n",
      "    self._shutdown_workers()\n",
      "  File \"C:\\Users\\gmald\\anaconda3\\envs\\genml\\lib\\site-packages\\torch\\utils\\data\\dataloader.py\", line 1430, in _shutdown_workers\n",
      "    w.join(timeout=_utils.MP_STATUS_CHECK_INTERVAL)\n",
      "  File \"C:\\Users\\gmald\\anaconda3\\envs\\genml\\lib\\multiprocessing\\process.py\", line 149, in join\n",
      "    res = self._popen.wait(timeout)\n",
      "  File \"C:\\Users\\gmald\\anaconda3\\envs\\genml\\lib\\multiprocessing\\popen_spawn_win32.py\", line 108, in wait\n",
      "    res = _winapi.WaitForSingleObject(int(self._handle), msecs)\n",
      "KeyboardInterrupt: \n",
      "Exception ignored in: <function _MultiProcessingDataLoaderIter.__del__ at 0x0000026F07187010>\n",
      "Traceback (most recent call last):\n",
      "  File \"C:\\Users\\gmald\\anaconda3\\envs\\genml\\lib\\site-packages\\torch\\utils\\data\\dataloader.py\", line 1466, in __del__\n",
      "    self._shutdown_workers()\n",
      "  File \"C:\\Users\\gmald\\anaconda3\\envs\\genml\\lib\\site-packages\\torch\\utils\\data\\dataloader.py\", line 1430, in _shutdown_workers\n",
      "    w.join(timeout=_utils.MP_STATUS_CHECK_INTERVAL)\n",
      "  File \"C:\\Users\\gmald\\anaconda3\\envs\\genml\\lib\\multiprocessing\\process.py\", line 149, in join\n",
      "    res = self._popen.wait(timeout)\n",
      "  File \"C:\\Users\\gmald\\anaconda3\\envs\\genml\\lib\\multiprocessing\\popen_spawn_win32.py\", line 108, in wait\n",
      "    res = _winapi.WaitForSingleObject(int(self._handle), msecs)\n",
      "KeyboardInterrupt: \n",
      "Exception ignored in: <function _MultiProcessingDataLoaderIter.__del__ at 0x0000026F07187010>\n",
      "Traceback (most recent call last):\n",
      "  File \"C:\\Users\\gmald\\anaconda3\\envs\\genml\\lib\\site-packages\\torch\\utils\\data\\dataloader.py\", line 1466, in __del__\n",
      "    self._shutdown_workers()\n",
      "  File \"C:\\Users\\gmald\\anaconda3\\envs\\genml\\lib\\site-packages\\torch\\utils\\data\\dataloader.py\", line 1430, in _shutdown_workers\n",
      "    w.join(timeout=_utils.MP_STATUS_CHECK_INTERVAL)\n",
      "  File \"C:\\Users\\gmald\\anaconda3\\envs\\genml\\lib\\multiprocessing\\process.py\", line 149, in join\n",
      "    res = self._popen.wait(timeout)\n",
      "  File \"C:\\Users\\gmald\\anaconda3\\envs\\genml\\lib\\multiprocessing\\popen_spawn_win32.py\", line 108, in wait\n",
      "    res = _winapi.WaitForSingleObject(int(self._handle), msecs)\n",
      "KeyboardInterrupt: \n",
      "Exception ignored in: <function _MultiProcessingDataLoaderIter.__del__ at 0x0000026F07187010>\n",
      "Traceback (most recent call last):\n",
      "  File \"C:\\Users\\gmald\\anaconda3\\envs\\genml\\lib\\site-packages\\torch\\utils\\data\\dataloader.py\", line 1466, in __del__\n",
      "    self._shutdown_workers()\n",
      "  File \"C:\\Users\\gmald\\anaconda3\\envs\\genml\\lib\\site-packages\\torch\\utils\\data\\dataloader.py\", line 1430, in _shutdown_workers\n",
      "    w.join(timeout=_utils.MP_STATUS_CHECK_INTERVAL)\n",
      "  File \"C:\\Users\\gmald\\anaconda3\\envs\\genml\\lib\\multiprocessing\\process.py\", line 149, in join\n",
      "    res = self._popen.wait(timeout)\n",
      "  File \"C:\\Users\\gmald\\anaconda3\\envs\\genml\\lib\\multiprocessing\\popen_spawn_win32.py\", line 108, in wait\n",
      "    res = _winapi.WaitForSingleObject(int(self._handle), msecs)\n",
      "KeyboardInterrupt: \n",
      "Exception ignored in: <function _MultiProcessingDataLoaderIter.__del__ at 0x0000026F07187010>\n",
      "Traceback (most recent call last):\n",
      "  File \"C:\\Users\\gmald\\anaconda3\\envs\\genml\\lib\\site-packages\\torch\\utils\\data\\dataloader.py\", line 1466, in __del__\n",
      "    self._shutdown_workers()\n",
      "  File \"C:\\Users\\gmald\\anaconda3\\envs\\genml\\lib\\site-packages\\torch\\utils\\data\\dataloader.py\", line 1430, in _shutdown_workers\n",
      "    w.join(timeout=_utils.MP_STATUS_CHECK_INTERVAL)\n",
      "  File \"C:\\Users\\gmald\\anaconda3\\envs\\genml\\lib\\multiprocessing\\process.py\", line 149, in join\n",
      "    res = self._popen.wait(timeout)\n",
      "  File \"C:\\Users\\gmald\\anaconda3\\envs\\genml\\lib\\multiprocessing\\popen_spawn_win32.py\", line 108, in wait\n",
      "    res = _winapi.WaitForSingleObject(int(self._handle), msecs)\n",
      "KeyboardInterrupt: \n",
      "\n",
      "KeyboardInterrupt\n",
      "\n"
     ]
    }
   ],
   "source": [
    "for epoch in range(10):\n",
    "    # Training\n",
    "    running_loss = 0.0\n",
    "    model2.train()\n",
    "\n",
    "    for data in tqdm(trainLoader):\n",
    "        # Get inputs and labels\n",
    "        inputs, labels = data\n",
    "        inputs = inputs.to(device)\n",
    "        labels = labels.to(device)\n",
    "\n",
    "        # Zero the parameter gradients\n",
    "        optimizer.zero_grad()\n",
    "\n",
    "        # Forward + backward + optimize\n",
    "        outputs = model2(inputs)\n",
    "        loss = criterion(outputs, labels)\n",
    "\n",
    "        # Check if loss is NaN\n",
    "        if np.isnan(loss.item()):\n",
    "            # print(\"Skipping iteration due to NaN loss\")\n",
    "            continue\n",
    "\n",
    "        loss.backward()\n",
    "        optimizer.step()\n",
    "\n",
    "        running_loss += loss.item()\n",
    "\n",
    "    train_loss = running_loss / len(trainLoader)\n",
    "    train_losses.append(train_loss)\n",
    "\n",
    "    # Validation\n",
    "    running_loss = 0.0\n",
    "    model2.eval()\n",
    "\n",
    "    with torch.no_grad():\n",
    "        for data in tqdm(validLoader):\n",
    "            # Get inputs and labels\n",
    "            inputs, labels = data\n",
    "            inputs = inputs.to(device)\n",
    "            labels = labels.to(device)\n",
    "\n",
    "            # Forward\n",
    "            outputs = model2(inputs)\n",
    "            loss = criterion(outputs, labels)\n",
    "\n",
    "            # Check if loss is NaN\n",
    "            if np.isnan(loss.item()):\n",
    "                # print(\"Skipping iteration due to NaN loss\")\n",
    "                continue\n",
    "\n",
    "            running_loss += loss.item()\n",
    "\n",
    "    valid_loss = running_loss / len(validLoader)\n",
    "    valid_losses.append(valid_loss)\n",
    "\n",
    "    print(f\"Epoch {epoch+1}/{30}: Train Loss: {train_loss:.6f} - Validation Loss: {valid_loss:.6f}\")\n",
    "\n",
    "# Plot the losses\n",
    "plt.plot(train_losses, label='Training Loss')\n",
    "plt.plot(valid_losses, label='Validation Loss')\n",
    "plt.legend()\n",
    "plt.show()"
   ]
  },
  {
   "cell_type": "code",
   "execution_count": 11,
   "id": "a97e10e9-d37d-496a-a7e3-0b966c7aeab7",
   "metadata": {},
   "outputs": [],
   "source": []
  },
  {
   "cell_type": "code",
   "execution_count": 12,
   "id": "23846345-fbcb-4149-8926-bfd020dcd4ca",
   "metadata": {},
   "outputs": [],
   "source": [
    "t.extend(train_losses)\n",
    "v.extend(valid_losses)"
   ]
  },
  {
   "cell_type": "code",
   "execution_count": 13,
   "id": "262c8881-db8f-4d57-a59e-d075dd5ee8cf",
   "metadata": {},
   "outputs": [
    {
     "data": {
      "text/plain": [
       "4"
      ]
     },
     "execution_count": 13,
     "metadata": {},
     "output_type": "execute_result"
    }
   ],
   "source": [
    "len(t)"
   ]
  },
  {
   "cell_type": "code",
   "execution_count": 28,
   "id": "38ee2182-7eb0-4953-8a54-49e24206d417",
   "metadata": {},
   "outputs": [
    {
     "name": "stderr",
     "output_type": "stream",
     "text": [
      "C:\\Users\\gmald\\anaconda3\\envs\\genml\\lib\\site-packages\\torch\\nn\\modules\\loss.py:536: UserWarning: Using a target size (torch.Size([64, 8, 12])) that is different to the input size (torch.Size([1, 8, 12])). This will likely lead to incorrect results due to broadcasting. Please ensure they have the same size.\n",
      "  return F.mse_loss(input, target, reduction=self.reduction)\n",
      "No artists with labels found to put in legend.  Note that artists whose label start with an underscore are ignored when legend() is called with no argument.\n"
     ]
    },
    {
     "name": "stdout",
     "output_type": "stream",
     "text": [
      "(4, 12) [[0.17901555 0.07111575 0.19618139 0.13977927 0.23139024 0.15782224\n",
      "  0.16832934 0.10824881 0.07602029 0.06288184 0.05973153 0.04992246]\n",
      " [0.27270144 0.524297   0.0930688  0.26350722 0.58110994 0.57029635\n",
      "  0.4277152  0.20669441 0.07547583 0.18152642 0.22725119 0.18937609]\n",
      " [0.4542773  0.09673635 0.11270315 0.02949851 0.08910433 0.08198709\n",
      "  0.05309735 0.05370612 0.2660955  0.23598813 0.18879053 0.30739343]\n",
      " [0.15919006 0.2870251  0.250996   0.27074388 0.11138127 0.11969443\n",
      "  0.06357253 0.16351911 0.41434273 0.49003986 0.19140756 0.35856578]]\n"
     ]
    },
    {
     "data": {
      "image/png": "[encoded data removed]",
      "text/plain": [
       "<Figure size 640x480 with 1 Axes>"
      ]
     },
     "metadata": {},
     "output_type": "display_data"
    }
   ],
   "source": [
    "for data, emg in testLoader:\n",
    "    \n",
    "    data = data[0].view(1, dataset.window_size, 17, 3).to(device)\n",
    "    emg = emg[0].view(1, 8, 12).to(device)\n",
    "    \n",
    "    with torch.no_grad():\n",
    "        outputs = model2(data)# , edge_index)\n",
    "        \n",
    "    loss = criterion(outputs, labels)\n",
    "    \n",
    "    pred = outputs.cpu().numpy()\n",
    "    target = labels.cpu().numpy()\n",
    "    \n",
    "    pred_plot = pred[0, 4:, :]\n",
    "    target_plot = target[0, 4:, :]\n",
    "    \n",
    "    print(pred_plot.shape, target_plot)\n",
    "    \n",
    "    # Plot the prediction and target data\n",
    "    plt.plot(pred_plot, 'b')\n",
    "    plt.plot(target_plot, 'g')\n",
    "    \n",
    "    # Calculate the difference between the prediction and target\n",
    "    \n",
    "    # Plot the difference as a separate line\n",
    "    \n",
    "    # Add a legend to the plot\n",
    "    plt.legend()\n",
    "    \n",
    "    # Show the plot\n",
    "    plt.show()\n",
    "    \n",
    "    break"
   ]
  },
  {
   "cell_type": "code",
   "execution_count": null,
   "id": "72e5222c-a32d-4488-a65b-057affb74169",
   "metadata": {},
   "outputs": [],
   "source": []
  }
 ],
 "metadata": {
  "kernelspec": {
   "display_name": "Python 3 (ipykernel)",
   "language": "python",
   "name": "python3"
  },
  "language_info": {
   "codemirror_mode": {
    "name": "ipython",
    "version": 3
   },
   "file_extension": ".py",
   "mimetype": "text/x-python",
   "name": "python",
   "nbconvert_exporter": "python",
   "pygments_lexer": "ipython3",
   "version": "3.10.9"
  }
 },
 "nbformat": 4,
 "nbformat_minor": 5
}
