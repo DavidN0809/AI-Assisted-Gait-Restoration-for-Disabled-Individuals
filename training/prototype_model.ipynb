{
 "cells": [
  {
   "cell_type": "code",
   "execution_count": 1,
   "id": "25b6d38d-1354-4efc-8824-72022196e77d",
   "metadata": {},
   "outputs": [],
   "source": [
    "import os\n",
    "os.chdir('..')\n",
    "\n",
    "import torch\n",
    "import torch.nn as nn\n",
    "import torch.nn.functional as F\n",
    "import numpy as np\n",
    "from tqdm import tqdm\n",
    "import matplotlib.pyplot as plt\n",
    "import pandas as pd\n",
    "from datetime import datetime\n",
    "from ptflops import get_model_complexity_info\n",
    "\n",
    "from torch.utils.data import random_split\n",
    "from torch.utils.data import TensorDataset, DataLoader\n",
    "from utils import ModelTrainer\n",
    "from models.models import BasicLSTM\n",
    "from utils.datasets import EMGO_dataset\n",
    "\n",
    "device = \"cuda\" if torch.cuda.is_available() else \"cpu\""
   ]
  },
  {
   "cell_type": "code",
   "execution_count": null,
   "id": "6c1b1180-cb59-4c4e-9f5e-68c8b3a644eb",
   "metadata": {},
   "outputs": [],
   "source": []
  },
  {
   "cell_type": "code",
   "execution_count": 2,
   "id": "c542cbe9-8713-4db4-b85e-15e0953fb14a",
   "metadata": {},
   "outputs": [],
   "source": [
    "# class EMG_dataset(torch.utils.data.Dataset):\n",
    "#     def __init__(self, csv, lag, n_ahead):\n",
    "#         self.csv = csv\n",
    "#         self.lag = lag\n",
    "#         self.n_ahead = n_ahead\n",
    "\n",
    "#     def __len__(self):\n",
    "#         return len(self.csv) - self.lag - self.n_ahead\n",
    "\n",
    "#     def __getitem__(self, idx):\n",
    "#         X = self.csv.iloc[idx:idx+self.lag, :4].values\n",
    "#         Y = self.csv.iloc[idx+self.lag:idx+self.lag+self.n_ahead, 4:].values\n",
    "        \n",
    "#         return (torch.Tensor(X), torch.Tensor(Y))\n",
    "\n"
   ]
  },
  {
   "cell_type": "code",
   "execution_count": null,
   "id": "6490cd43-0807-4465-b480-0369485eb5ad",
   "metadata": {},
   "outputs": [],
   "source": []
  },
  {
   "cell_type": "code",
   "execution_count": 3,
   "id": "0d117e6b-3162-449d-9b63-e01d1dd9f993",
   "metadata": {},
   "outputs": [],
   "source": [
    "def train_test_model(model, lr, trainLoader, validateLoader, testLoader, EPOCHS, noPrint=False):\n",
    "    Trainer = ModelTrainer(model, nn.MSELoss(), torch.optim.Adam(model.parameters(), lr=lr), nn.MSELoss(), \"Regression\",  device, 0, noPrint=noPrint)\n",
    "    t0 = datetime.now()\n",
    "    Trainer.fit(trainLoader, validateLoader, EPOCHS)\n",
    "    t1 = datetime.now()\n",
    "    Trainer.Test_Model(testLoader)\n",
    "    \n",
    "    if not noPrint:\n",
    "        print(\"\\nTest Loss:\", Trainer.Metrics[\"Test Loss\"], \"\\nTime to Train:\", t1 - t0)\n",
    "        Trainer.Graph_Metrics()\n",
    "    \n",
    "    macs, params = get_model_complexity_info(Trainer.model, (24, 4), as_strings=True, print_per_layer_stat=False, verbose=True)\n",
    "    Trainer.model.to(\"cpu\")\n",
    "    \n",
    "    return Trainer, (macs, params)"
   ]
  },
  {
   "cell_type": "code",
   "execution_count": 5,
   "id": "9af288f4-041d-403e-8d82-bf06f1c5d715",
   "metadata": {},
   "outputs": [
    {
     "data": {
      "text/html": [
       "<div>\n",
       "<style scoped>\n",
       "    .dataframe tbody tr th:only-of-type {\n",
       "        vertical-align: middle;\n",
       "    }\n",
       "\n",
       "    .dataframe tbody tr th {\n",
       "        vertical-align: top;\n",
       "    }\n",
       "\n",
       "    .dataframe thead th {\n",
       "        text-align: right;\n",
       "    }\n",
       "</style>\n",
       "<table border=\"1\" class=\"dataframe\">\n",
       "  <thead>\n",
       "    <tr style=\"text-align: right;\">\n",
       "      <th></th>\n",
       "      <th>EMG PATH</th>\n",
       "      <th>FRAMES</th>\n",
       "    </tr>\n",
       "  </thead>\n",
       "  <tbody>\n",
       "    <tr>\n",
       "      <th>0</th>\n",
       "      <td>M:/Datasets/shock_walk/processed/2.0mph.csv</td>\n",
       "      <td>1800</td>\n",
       "    </tr>\n",
       "    <tr>\n",
       "      <th>1</th>\n",
       "      <td>M:/Datasets/shock_walk/processed/2.5mph.csv</td>\n",
       "      <td>1800</td>\n",
       "    </tr>\n",
       "    <tr>\n",
       "      <th>2</th>\n",
       "      <td>M:/Datasets/shock_walk/processed/3.1mph.csv</td>\n",
       "      <td>1800</td>\n",
       "    </tr>\n",
       "    <tr>\n",
       "      <th>3</th>\n",
       "      <td>M:/Datasets/shock_walk/processed/Quiet_Stance_...</td>\n",
       "      <td>1800</td>\n",
       "    </tr>\n",
       "    <tr>\n",
       "      <th>4</th>\n",
       "      <td>M:/Datasets/shock_walk/processed/StandStop_2mp...</td>\n",
       "      <td>1800</td>\n",
       "    </tr>\n",
       "  </tbody>\n",
       "</table>\n",
       "</div>"
      ],
      "text/plain": [
       "                                            EMG PATH  FRAMES\n",
       "0        M:/Datasets/shock_walk/processed/2.0mph.csv    1800\n",
       "1        M:/Datasets/shock_walk/processed/2.5mph.csv    1800\n",
       "2        M:/Datasets/shock_walk/processed/3.1mph.csv    1800\n",
       "3  M:/Datasets/shock_walk/processed/Quiet_Stance_...    1800\n",
       "4  M:/Datasets/shock_walk/processed/StandStop_2mp...    1800"
      ]
     },
     "metadata": {},
     "output_type": "display_data"
    },
    {
     "name": "stdout",
     "output_type": "stream",
     "text": [
      "torch.Size([24, 4]) torch.Size([12, 4])\n",
      "torch.Size([12, 24, 4]) torch.Size([12, 12, 4])\n"
     ]
    },
    {
     "data": {
      "image/png": "[encoded data removed]",
      "text/plain": [
       "<Figure size 640x480 with 1 Axes>"
      ]
     },
     "metadata": {},
     "output_type": "display_data"
    }
   ],
   "source": [
    "dataset = EMGO_dataset(\"emg.csv\", lag=24, n_ahead=12)\n",
    "X, Y = dataset.__getitem__(0)\n",
    "print(X.shape, Y.shape)\n",
    "\n",
    "train_dataset, valid_dataset, test_dataset = random_split(dataset, [0.7, 0.1, 0.2])\n",
    "trainLoader = DataLoader(train_dataset, batch_size=12, num_workers=0, pin_memory=True, shuffle=False)\n",
    "validLoader = DataLoader(valid_dataset, batch_size=12, num_workers=0, pin_memory=True, shuffle=False)\n",
    "testLoader = DataLoader(test_dataset, batch_size=12, num_workers=0, pin_memory=True, shuffle=True)\n",
    "\n",
    "for X, Y in trainLoader:\n",
    "    print(X.shape, Y.shape)\n",
    "    \n",
    "    # Assume Extension \n",
    "    y_range = range(len(X[0]), len(X[0])+validLoader.dataset.dataset.n_ahead)\n",
    "    \n",
    "    # First Batch\n",
    "    plt.plot(X[0][:,0])\n",
    "    plt.plot(y_range, Y[0][:,0])\n",
    "    break"
   ]
  },
  {
   "cell_type": "code",
   "execution_count": 6,
   "id": "b1891512-566d-4587-9a65-30450216c6f5",
   "metadata": {},
   "outputs": [],
   "source": [
    "def test_parameters(EPOCHS=100, lr=0.001):\n",
    "    \n",
    "    dataset = EMG_dataset(total, lag=24, n_ahead=12)\n",
    "\n",
    "    train_dataset, valid_dataset, test_dataset = random_split(dataset, [0.7, 0.1, 0.2])\n",
    "    \n",
    "    \n",
    "    input_size = 4\n",
    "    hidden_sizes = [64, 96, 128]\n",
    "    num_layers = [3, 4, 5]\n",
    "    batch_sizes = [2, 3, 4]\n",
    "    output_size = train_dataset.dataset.n_ahead\n",
    "    \n",
    "    results = []\n",
    "    trainers = []\n",
    "    \n",
    "    for hidden_size in hidden_sizes:\n",
    "        for num_layer in num_layers:\n",
    "            for batch_size in batch_sizes:\n",
    "            \n",
    "                trainLoader = DataLoader(train_dataset, batch_size=batch_size, shuffle=False)\n",
    "                validLoader = DataLoader(valid_dataset, batch_size=batch_size, shuffle=False)\n",
    "                testLoader = DataLoader(test_dataset, batch_size=batch_size, shuffle=True)\n",
    "\n",
    "                model = BasicLSTM(input_size, hidden_size, num_layer, output_size)\n",
    "\n",
    "                Trainer, mp = train_test_model(model, lr, trainLoader, validLoader, testLoader, EPOCHS, noPrint=True)\n",
    "                trainers.append(Trainer)\n",
    "                \n",
    "                test_loss = Trainer.Metrics[\"Test Loss\"]\n",
    "                results.append(f\"Hidden: {hidden_size} | Layers: {num_layer} | Batch Size: {batch_size} | Macs: {mp[0]} | Params: {mp[1]} | Test Loss: {test_loss}\")\n",
    "                print(results[-1])\n",
    "                               \n",
    "    results = np.array(results)\n",
    "    \n",
    "    return results, trainers"
   ]
  },
  {
   "cell_type": "code",
   "execution_count": 11,
   "id": "60b603e6-4231-418e-9c56-7cf2acd944f6",
   "metadata": {
    "scrolled": true,
    "tags": []
   },
   "outputs": [
    {
     "name": "stdout",
     "output_type": "stream",
     "text": [
      "Hidden: 64 | Layers: 3 | Batch Size: 2 | Macs: 2.08 MMac | Params: 87.6 k | Test Loss: 0.03852829836886114\n",
      "Hidden: 64 | Layers: 3 | Batch Size: 3 | Macs: 2.08 MMac | Params: 87.6 k | Test Loss: 0.05379110254064391\n",
      "Hidden: 64 | Layers: 3 | Batch Size: 4 | Macs: 2.08 MMac | Params: 87.6 k | Test Loss: 0.05771690192684699\n",
      "Hidden: 64 | Layers: 4 | Batch Size: 2 | Macs: 2.89 MMac | Params: 120.88 k | Test Loss: 0.027474510929429194\n",
      "Hidden: 64 | Layers: 4 | Batch Size: 3 | Macs: 2.89 MMac | Params: 120.88 k | Test Loss: 0.0301073888780447\n",
      "Hidden: 64 | Layers: 4 | Batch Size: 4 | Macs: 2.89 MMac | Params: 120.88 k | Test Loss: 0.03353911740810014\n",
      "Hidden: 64 | Layers: 5 | Batch Size: 2 | Macs: 3.7 MMac | Params: 154.16 k | Test Loss: 0.19420315852047693\n",
      "Hidden: 64 | Layers: 5 | Batch Size: 3 | Macs: 3.7 MMac | Params: 154.16 k | Test Loss: 0.19426139073155602\n",
      "Hidden: 64 | Layers: 5 | Batch Size: 4 | Macs: 3.7 MMac | Params: 154.16 k | Test Loss: 0.027084436435043144\n",
      "Hidden: 96 | Layers: 3 | Batch Size: 2 | Macs: 4.59 MMac | Params: 192.82 k | Test Loss: 0.018354135989145915\n",
      "Hidden: 96 | Layers: 3 | Batch Size: 3 | Macs: 4.59 MMac | Params: 192.82 k | Test Loss: 0.023365079570671677\n",
      "Hidden: 96 | Layers: 3 | Batch Size: 4 | Macs: 4.59 MMac | Params: 192.82 k | Test Loss: 0.02599003931423754\n",
      "Hidden: 96 | Layers: 4 | Batch Size: 2 | Macs: 6.4 MMac | Params: 267.31 k | Test Loss: 0.02259094557055915\n",
      "Hidden: 96 | Layers: 4 | Batch Size: 3 | Macs: 6.4 MMac | Params: 267.31 k | Test Loss: 0.015441903353271856\n",
      "Hidden: 96 | Layers: 4 | Batch Size: 4 | Macs: 6.4 MMac | Params: 267.31 k | Test Loss: 0.015215227144948218\n",
      "Hidden: 96 | Layers: 5 | Batch Size: 2 | Macs: 8.21 MMac | Params: 341.81 k | Test Loss: 0.028138752559750853\n",
      "Hidden: 96 | Layers: 5 | Batch Size: 3 | Macs: 8.21 MMac | Params: 341.81 k | Test Loss: 0.01905760160580529\n",
      "Hidden: 96 | Layers: 5 | Batch Size: 4 | Macs: 8.21 MMac | Params: 341.81 k | Test Loss: 0.016250657833317358\n",
      "Hidden: 128 | Layers: 3 | Batch Size: 2 | Macs: 8.09 MMac | Params: 338.99 k | Test Loss: 0.01571980871548745\n",
      "Hidden: 128 | Layers: 3 | Batch Size: 3 | Macs: 8.09 MMac | Params: 338.99 k | Test Loss: 0.014225505634293527\n",
      "Hidden: 128 | Layers: 3 | Batch Size: 4 | Macs: 8.09 MMac | Params: 338.99 k | Test Loss: 0.01518362178990429\n",
      "Hidden: 128 | Layers: 4 | Batch Size: 2 | Macs: 11.29 MMac | Params: 471.09 k | Test Loss: 0.011967644840478898\n",
      "Hidden: 128 | Layers: 4 | Batch Size: 3 | Macs: 11.29 MMac | Params: 471.09 k | Test Loss: 0.013977898239602143\n",
      "Hidden: 128 | Layers: 4 | Batch Size: 4 | Macs: 11.29 MMac | Params: 471.09 k | Test Loss: 0.01380843789253928\n",
      "Hidden: 128 | Layers: 5 | Batch Size: 2 | Macs: 14.49 MMac | Params: 603.18 k | Test Loss: 0.014370669010029712\n",
      "Hidden: 128 | Layers: 5 | Batch Size: 3 | Macs: 14.49 MMac | Params: 603.18 k | Test Loss: 0.01119589042665146\n",
      "Hidden: 128 | Layers: 5 | Batch Size: 4 | Macs: 14.49 MMac | Params: 603.18 k | Test Loss: 0.012140138077371743\n"
     ]
    }
   ],
   "source": [
    "re, T = test_parameters(200)"
   ]
  },
  {
   "cell_type": "markdown",
   "id": "2a604feb-c1ee-4caf-88bb-2b352c61b186",
   "metadata": {},
   "source": [
    "Hidden: 64 | Layers: 2 | Batch Size: 4 | Macs: 1.26 MMac | Params: 54.32 k | Test Loss: 0.06733934581279755\n",
    "Hidden: 64 | Layers: 2 | Batch Size: 16 | Macs: 1.26 MMac | Params: 54.32 k | Test Loss: 0.0748613253235817\n",
    "Hidden: 64 | Layers: 2 | Batch Size: 32 | Macs: 1.26 MMac | Params: 54.32 k | Test Loss: 0.08276855945587158\n",
    "Hidden: 64 | Layers: 4 | Batch Size: 4 | Macs: 2.89 MMac | Params: 120.88 k | Test Loss: 0.05407020077109337\n",
    "Hidden: 64 | Layers: 4 | Batch Size: 16 | Macs: 2.89 MMac | Params: 120.88 k | Test Loss: 0.0663127526640892\n",
    "Hidden: 64 | Layers: 4 | Batch Size: 32 | Macs: 2.89 MMac | Params: 120.88 k | Test Loss: 0.07040233165025711\n",
    "Hidden: 64 | Layers: 6 | Batch Size: 4 | Macs: 4.52 MMac | Params: 187.44 k | Test Loss: 0.07566986978054047\n",
    "Hidden: 64 | Layers: 6 | Batch Size: 16 | Macs: 4.52 MMac | Params: 187.44 k | Test Loss: 0.19122886657714844\n",
    "Hidden: 64 | Layers: 6 | Batch Size: 32 | Macs: 4.52 MMac | Params: 187.44 k | Test Loss: 0.06731513887643814\n",
    "Hidden: 128 | Layers: 2 | Batch Size: 4 | Macs: 4.88 MMac | Params: 206.9 k | Test Loss: 0.04985114932060242\n",
    "Hidden: 128 | Layers: 2 | Batch Size: 16 | Macs: 4.88 MMac | Params: 206.9 k | Test Loss: 0.05833622068166733\n",
    "Hidden: 128 | Layers: 2 | Batch Size: 32 | Macs: 4.88 MMac | Params: 206.9 k | Test Loss: 0.06787940114736557\n",
    "Hidden: 128 | Layers: 4 | Batch Size: 4 | Macs: 11.29 MMac | Params: 471.09 k | Test Loss: 0.02661198005080223\n",
    "Hidden: 128 | Layers: 4 | Batch Size: 16 | Macs: 11.29 MMac | Params: 471.09 k | Test Loss: 0.04889538139104843\n",
    "Hidden: 128 | Layers: 4 | Batch Size: 32 | Macs: 11.29 MMac | Params: 471.09 k | Test Loss: 0.05771384760737419\n",
    "Hidden: 128 | Layers: 6 | Batch Size: 4 | Macs: 17.69 MMac | Params: 735.28 k | Test Loss: 0.19148249924182892\n",
    "Hidden: 128 | Layers: 6 | Batch Size: 16 | Macs: 17.69 MMac | Params: 735.28 k | Test Loss: 0.19151681661605835\n",
    "Hidden: 128 | Layers: 6 | Batch Size: 32 | Macs: 17.69 MMac | Params: 735.28 k | Test Loss: 0.05349093675613403\n",
    "Hidden: 256 | Layers: 2 | Batch Size: 4 | Macs: 19.21 MMac | Params: 806.96 k | Test Loss: 0.024070965126156807\n",
    "Hidden: 256 | Layers: 2 | Batch Size: 16 | Macs: 19.21 MMac | Params: 806.96 k | Test Loss: 0.046882450580596924\n",
    "Hidden: 256 | Layers: 2 | Batch Size: 32 | Macs: 19.21 MMac | Params: 806.96 k | Test Loss: 0.05703727528452873\n",
    "Hidden: 256 | Layers: 4 | Batch Size: 4 | Macs: 44.59 MMac | Params: 1.86 M | Test Loss: 0.014045578427612782\n",
    "Hidden: 256 | Layers: 4 | Batch Size: 16 | Macs: 44.59 MMac | Params: 1.86 M | Test Loss: 0.03199911490082741\n",
    "Hidden: 256 | Layers: 4 | Batch Size: 32 | Macs: 44.59 MMac | Params: 1.86 M | Test Loss: 0.05679785832762718\n",
    "Hidden: 256 | Layers: 6 | Batch Size: 4 | Macs: 69.98 MMac | Params: 2.91 M | Test Loss: 0.01443294994533062\n",
    "Hidden: 256 | Layers: 6 | Batch Size: 16 | Macs: 69.98 MMac | Params: 2.91 M | Test Loss: 0.19122442603111267\n",
    "Hidden: 256 | Layers: 6 | Batch Size: 32 | Macs: 69.98 MMac | Params: 2.91 M | Test Loss: 0.04160312935709953\n",
    "\n",
    "\n",
    "Hidden: 64 | Layers: 3 | Batch Size: 2 | Macs: 2.08 MMac | Params: 87.6 k | Test Loss: 0.03852829836886114 -------------- 22\n",
    "Hidden: 64 | Layers: 3 | Batch Size: 3 | Macs: 2.08 MMac | Params: 87.6 k | Test Loss: 0.05379110254064391\n",
    "Hidden: 64 | Layers: 3 | Batch Size: 4 | Macs: 2.08 MMac | Params: 87.6 k | Test Loss: 0.05771690192684699\n",
    "Hidden: 64 | Layers: 4 | Batch Size: 2 | Macs: 2.89 MMac | Params: 120.88 k | Test Loss: 0.027474510929429194 ----------- 44 \n",
    "Hidden: 64 | Layers: 4 | Batch Size: 3 | Macs: 2.89 MMac | Params: 120.88 k | Test Loss: 0.0301073888780447\n",
    "Hidden: 64 | Layers: 4 | Batch Size: 4 | Macs: 2.89 MMac | Params: 120.88 k | Test Loss: 0.03353911740810014\n",
    "Hidden: 64 | Layers: 5 | Batch Size: 2 | Macs: 3.7 MMac | Params: 154.16 k | Test Loss: 0.19420315852047693 \n",
    "Hidden: 64 | Layers: 5 | Batch Size: 3 | Macs: 3.7 MMac | Params: 154.16 k | Test Loss: 0.19426139073155602\n",
    "Hidden: 64 | Layers: 5 | Batch Size: 4 | Macs: 3.7 MMac | Params: 154.16 k | Test Loss: 0.027084436435043144\n",
    "Hidden: 96 | Layers: 3 | Batch Size: 2 | Macs: 4.59 MMac | Params: 192.82 k | Test Loss: 0.018354135989145915 ----------- 105 params/loss\n",
    "Hidden: 96 | Layers: 3 | Batch Size: 3 | Macs: 4.59 MMac | Params: 192.82 k | Test Loss: 0.023365079570671677\n",
    "Hidden: 96 | Layers: 3 | Batch Size: 4 | Macs: 4.59 MMac | Params: 192.82 k | Test Loss: 0.02599003931423754\n",
    "Hidden: 96 | Layers: 4 | Batch Size: 2 | Macs: 6.4 MMac | Params: 267.31 k | Test Loss: 0.02259094557055915 \n",
    "Hidden: 96 | Layers: 4 | Batch Size: 3 | Macs: 6.4 MMac | Params: 267.31 k | Test Loss: 0.015441903353271856 ------------ 178\n",
    "Hidden: 96 | Layers: 4 | Batch Size: 4 | Macs: 6.4 MMac | Params: 267.31 k | Test Loss: 0.015215227144948218\n",
    "Hidden: 96 | Layers: 5 | Batch Size: 2 | Macs: 8.21 MMac | Params: 341.81 k | Test Loss: 0.028138752559750853\n",
    "Hidden: 96 | Layers: 5 | Batch Size: 3 | Macs: 8.21 MMac | Params: 341.81 k | Test Loss: 0.01905760160580529\n",
    "Hidden: 96 | Layers: 5 | Batch Size: 4 | Macs: 8.21 MMac | Params: 341.81 k | Test Loss: 0.016250657833317358\n",
    "Hidden: 128 | Layers: 3 | Batch Size: 2 | Macs: 8.09 MMac | Params: 338.99 k | Test Loss: 0.01571980871548745\n",
    "Hidden: 128 | Layers: 3 | Batch Size: 3 | Macs: 8.09 MMac | Params: 338.99 k | Test Loss: 0.014225505634293527 ----------- 238\n",
    "Hidden: 128 | Layers: 3 | Batch Size: 4 | Macs: 8.09 MMac | Params: 338.99 k | Test Loss: 0.01518362178990429\n",
    "Hidden: 128 | Layers: 4 | Batch Size: 2 | Macs: 11.29 MMac | Params: 471.09 k | Test Loss: 0.011967644840478898\n",
    "Hidden: 128 | Layers: 4 | Batch Size: 3 | Macs: 11.29 MMac | Params: 471.09 k | Test Loss: 0.013977898239602143\n",
    "Hidden: 128 | Layers: 4 | Batch Size: 4 | Macs: 11.29 MMac | Params: 471.09 k | Test Loss: 0.01380843789253928\n",
    "Hidden: 128 | Layers: 5 | Batch Size: 2 | Macs: 14.49 MMac | Params: 603.18 k | Test Loss: 0.014370669010029712\n",
    "Hidden: 128 | Layers: 5 | Batch Size: 3 | Macs: 14.49 MMac | Params: 603.18 k | Test Loss: 0.01119589042665146 ------------- 543\n",
    "Hidden: 128 | Layers: 5 | Batch Size: 4 | Macs: 14.49 MMac | Params: 603.18 k | Test Loss: 0.012140138077371743\n"
   ]
  },
  {
   "cell_type": "code",
   "execution_count": 9,
   "id": "2c2e9f23-1b80-43c6-9d49-eac03b3b2db0",
   "metadata": {
    "scrolled": true,
    "tags": []
   },
   "outputs": [
    {
     "name": "stderr",
     "output_type": "stream",
     "text": [
      "100%|████████████████████████████████████████████████████████████████████████████████| 515/515 [00:11<00:00, 43.02it/s]\n"
     ]
    },
    {
     "name": "stdout",
     "output_type": "stream",
     "text": [
      "EPOCH: 1\n",
      "Training Loss: 0.03193459737575748  | Validation Loss: 0.022818760946393013\n"
     ]
    },
    {
     "name": "stderr",
     "output_type": "stream",
     "text": [
      "100%|████████████████████████████████████████████████████████████████████████████████| 515/515 [00:11<00:00, 43.26it/s]\n"
     ]
    },
    {
     "name": "stdout",
     "output_type": "stream",
     "text": [
      "EPOCH: 2\n",
      "Training Loss: 0.02376664359918208  | Validation Loss: 0.0215696282684803\n"
     ]
    },
    {
     "name": "stderr",
     "output_type": "stream",
     "text": [
      "100%|████████████████████████████████████████████████████████████████████████████████| 515/515 [00:11<00:00, 43.16it/s]\n"
     ]
    },
    {
     "name": "stdout",
     "output_type": "stream",
     "text": [
      "EPOCH: 3\n",
      "Training Loss: 0.022373955608209938  | Validation Loss: 0.020410481261441838\n"
     ]
    },
    {
     "name": "stderr",
     "output_type": "stream",
     "text": [
      "100%|████████████████████████████████████████████████████████████████████████████████| 515/515 [00:12<00:00, 42.89it/s]\n"
     ]
    },
    {
     "name": "stdout",
     "output_type": "stream",
     "text": [
      "EPOCH: 4\n",
      "Training Loss: 0.02179575264996406  | Validation Loss: 0.02010681011990921\n"
     ]
    },
    {
     "name": "stderr",
     "output_type": "stream",
     "text": [
      "100%|████████████████████████████████████████████████████████████████████████████████| 515/515 [00:12<00:00, 42.03it/s]\n"
     ]
    },
    {
     "name": "stdout",
     "output_type": "stream",
     "text": [
      "EPOCH: 5\n",
      "Training Loss: 0.021305070070604098  | Validation Loss: 0.02001741763858779\n"
     ]
    },
    {
     "name": "stderr",
     "output_type": "stream",
     "text": [
      "100%|████████████████████████████████████████████████████████████████████████████████| 515/515 [00:12<00:00, 42.75it/s]\n"
     ]
    },
    {
     "name": "stdout",
     "output_type": "stream",
     "text": [
      "EPOCH: 6\n",
      "Training Loss: 0.02097355452483719  | Validation Loss: 0.019823554236240482\n"
     ]
    },
    {
     "name": "stderr",
     "output_type": "stream",
     "text": [
      "100%|████████████████████████████████████████████████████████████████████████████████| 515/515 [00:12<00:00, 41.41it/s]\n"
     ]
    },
    {
     "name": "stdout",
     "output_type": "stream",
     "text": [
      "EPOCH: 7\n",
      "Training Loss: 0.02076556185821017  | Validation Loss: 0.01966205667200926\n"
     ]
    },
    {
     "name": "stderr",
     "output_type": "stream",
     "text": [
      "100%|████████████████████████████████████████████████████████████████████████████████| 515/515 [00:12<00:00, 42.74it/s]\n"
     ]
    },
    {
     "name": "stdout",
     "output_type": "stream",
     "text": [
      "EPOCH: 8\n",
      "Training Loss: 0.020441880355616216  | Validation Loss: 0.019598193932324648\n"
     ]
    },
    {
     "name": "stderr",
     "output_type": "stream",
     "text": [
      "100%|████████████████████████████████████████████████████████████████████████████████| 515/515 [00:12<00:00, 42.47it/s]\n"
     ]
    },
    {
     "name": "stdout",
     "output_type": "stream",
     "text": [
      "EPOCH: 9\n",
      "Training Loss: 0.020302457939290884  | Validation Loss: 0.019386308783715642\n"
     ]
    },
    {
     "name": "stderr",
     "output_type": "stream",
     "text": [
      "100%|████████████████████████████████████████████████████████████████████████████████| 515/515 [00:12<00:00, 42.87it/s]\n"
     ]
    },
    {
     "name": "stdout",
     "output_type": "stream",
     "text": [
      "EPOCH: 10\n",
      "Training Loss: 0.019991609383627627  | Validation Loss: 0.019076531375380786\n"
     ]
    },
    {
     "name": "stderr",
     "output_type": "stream",
     "text": [
      "100%|████████████████████████████████████████████████████████████████████████████████| 515/515 [00:12<00:00, 41.61it/s]\n"
     ]
    },
    {
     "name": "stdout",
     "output_type": "stream",
     "text": [
      "EPOCH: 11\n",
      "Training Loss: 0.019808022851504167  | Validation Loss: 0.018886528166665417\n"
     ]
    },
    {
     "name": "stderr",
     "output_type": "stream",
     "text": [
      "100%|████████████████████████████████████████████████████████████████████████████████| 515/515 [00:12<00:00, 40.91it/s]\n"
     ]
    },
    {
     "name": "stdout",
     "output_type": "stream",
     "text": [
      "EPOCH: 12\n",
      "Training Loss: 0.019557587581786138  | Validation Loss: 0.018724304170825996\n"
     ]
    },
    {
     "name": "stderr",
     "output_type": "stream",
     "text": [
      "100%|████████████████████████████████████████████████████████████████████████████████| 515/515 [00:12<00:00, 42.79it/s]\n"
     ]
    },
    {
     "name": "stdout",
     "output_type": "stream",
     "text": [
      "EPOCH: 13\n",
      "Training Loss: 0.019330616769136735  | Validation Loss: 0.01844954748663145\n"
     ]
    },
    {
     "name": "stderr",
     "output_type": "stream",
     "text": [
      "100%|████████████████████████████████████████████████████████████████████████████████| 515/515 [00:12<00:00, 42.82it/s]\n"
     ]
    },
    {
     "name": "stdout",
     "output_type": "stream",
     "text": [
      "EPOCH: 14\n",
      "Training Loss: 0.019136446396124017  | Validation Loss: 0.018426270387764718\n"
     ]
    },
    {
     "name": "stderr",
     "output_type": "stream",
     "text": [
      "100%|████████████████████████████████████████████████████████████████████████████████| 515/515 [00:12<00:00, 41.10it/s]\n"
     ]
    },
    {
     "name": "stdout",
     "output_type": "stream",
     "text": [
      "EPOCH: 15\n",
      "Training Loss: 0.018872305347575145  | Validation Loss: 0.018177332734135358\n"
     ]
    },
    {
     "name": "stderr",
     "output_type": "stream",
     "text": [
      "100%|████████████████████████████████████████████████████████████████████████████████| 515/515 [00:11<00:00, 42.96it/s]\n"
     ]
    },
    {
     "name": "stdout",
     "output_type": "stream",
     "text": [
      "EPOCH: 16\n",
      "Training Loss: 0.01865293793018582  | Validation Loss: 0.018037657870130765\n"
     ]
    },
    {
     "name": "stderr",
     "output_type": "stream",
     "text": [
      "100%|████████████████████████████████████████████████████████████████████████████████| 515/515 [00:12<00:00, 40.83it/s]\n"
     ]
    },
    {
     "name": "stdout",
     "output_type": "stream",
     "text": [
      "EPOCH: 17\n",
      "Training Loss: 0.018410211168591258  | Validation Loss: 0.017774407147757104\n"
     ]
    },
    {
     "name": "stderr",
     "output_type": "stream",
     "text": [
      "100%|████████████████████████████████████████████████████████████████████████████████| 515/515 [00:12<00:00, 41.42it/s]\n"
     ]
    },
    {
     "name": "stdout",
     "output_type": "stream",
     "text": [
      "EPOCH: 18\n",
      "Training Loss: 0.01808908970176595  | Validation Loss: 0.01751804074926956\n"
     ]
    },
    {
     "name": "stderr",
     "output_type": "stream",
     "text": [
      "100%|████████████████████████████████████████████████████████████████████████████████| 515/515 [00:11<00:00, 43.14it/s]\n"
     ]
    },
    {
     "name": "stdout",
     "output_type": "stream",
     "text": [
      "EPOCH: 19\n",
      "Training Loss: 0.017785862571044454  | Validation Loss: 0.017286640919140867\n"
     ]
    },
    {
     "name": "stderr",
     "output_type": "stream",
     "text": [
      "100%|████████████████████████████████████████████████████████████████████████████████| 515/515 [00:12<00:00, 42.67it/s]\n"
     ]
    },
    {
     "name": "stdout",
     "output_type": "stream",
     "text": [
      "EPOCH: 20\n",
      "Training Loss: 0.017450194818519272  | Validation Loss: 0.01700039503693178\n"
     ]
    },
    {
     "name": "stderr",
     "output_type": "stream",
     "text": [
      "100%|████████████████████████████████████████████████████████████████████████████████| 515/515 [00:12<00:00, 42.83it/s]\n"
     ]
    },
    {
     "name": "stdout",
     "output_type": "stream",
     "text": [
      "EPOCH: 21\n",
      "Training Loss: 0.01711699315211148  | Validation Loss: 0.016710419698643522\n"
     ]
    },
    {
     "name": "stderr",
     "output_type": "stream",
     "text": [
      "100%|████████████████████████████████████████████████████████████████████████████████| 515/515 [00:11<00:00, 43.06it/s]\n"
     ]
    },
    {
     "name": "stdout",
     "output_type": "stream",
     "text": [
      "EPOCH: 22\n",
      "Training Loss: 0.016853862507178366  | Validation Loss: 0.016496910965321836\n"
     ]
    },
    {
     "name": "stderr",
     "output_type": "stream",
     "text": [
      "100%|████████████████████████████████████████████████████████████████████████████████| 515/515 [00:11<00:00, 42.98it/s]\n"
     ]
    },
    {
     "name": "stdout",
     "output_type": "stream",
     "text": [
      "EPOCH: 23\n",
      "Training Loss: 0.016510049324229503  | Validation Loss: 0.016117499386136595\n"
     ]
    },
    {
     "name": "stderr",
     "output_type": "stream",
     "text": [
      "100%|████████████████████████████████████████████████████████████████████████████████| 515/515 [00:16<00:00, 31.74it/s]\n"
     ]
    },
    {
     "name": "stdout",
     "output_type": "stream",
     "text": [
      "EPOCH: 24\n",
      "Training Loss: 0.016152474691060563  | Validation Loss: 0.015885319434911817\n"
     ]
    },
    {
     "name": "stderr",
     "output_type": "stream",
     "text": [
      "100%|████████████████████████████████████████████████████████████████████████████████| 515/515 [00:12<00:00, 42.68it/s]\n"
     ]
    },
    {
     "name": "stdout",
     "output_type": "stream",
     "text": [
      "EPOCH: 25\n",
      "Training Loss: 0.015842961503681047  | Validation Loss: 0.015518576385000267\n"
     ]
    },
    {
     "name": "stderr",
     "output_type": "stream",
     "text": [
      "100%|████████████████████████████████████████████████████████████████████████████████| 515/515 [00:11<00:00, 42.95it/s]\n"
     ]
    },
    {
     "name": "stdout",
     "output_type": "stream",
     "text": [
      "EPOCH: 26\n",
      "Training Loss: 0.015505508731291131  | Validation Loss: 0.015268159073752325\n"
     ]
    },
    {
     "name": "stderr",
     "output_type": "stream",
     "text": [
      "100%|████████████████████████████████████████████████████████████████████████████████| 515/515 [00:12<00:00, 42.75it/s]\n"
     ]
    },
    {
     "name": "stdout",
     "output_type": "stream",
     "text": [
      "EPOCH: 27\n",
      "Training Loss: 0.015228896378313454  | Validation Loss: 0.015108252497943672\n"
     ]
    },
    {
     "name": "stderr",
     "output_type": "stream",
     "text": [
      "100%|████████████████████████████████████████████████████████████████████████████████| 515/515 [00:12<00:00, 40.69it/s]\n"
     ]
    },
    {
     "name": "stdout",
     "output_type": "stream",
     "text": [
      "EPOCH: 28\n",
      "Training Loss: 0.014929444444121667  | Validation Loss: 0.014788402307375863\n"
     ]
    },
    {
     "name": "stderr",
     "output_type": "stream",
     "text": [
      "100%|████████████████████████████████████████████████████████████████████████████████| 515/515 [00:12<00:00, 40.99it/s]\n"
     ]
    },
    {
     "name": "stdout",
     "output_type": "stream",
     "text": [
      "EPOCH: 29\n",
      "Training Loss: 0.01470001896626307  | Validation Loss: 0.014574974259311283\n"
     ]
    },
    {
     "name": "stderr",
     "output_type": "stream",
     "text": [
      "100%|████████████████████████████████████████████████████████████████████████████████| 515/515 [00:12<00:00, 42.85it/s]\n"
     ]
    },
    {
     "name": "stdout",
     "output_type": "stream",
     "text": [
      "EPOCH: 30\n",
      "Training Loss: 0.014374891621539893  | Validation Loss: 0.014199169554017685\n"
     ]
    },
    {
     "name": "stderr",
     "output_type": "stream",
     "text": [
      "100%|████████████████████████████████████████████████████████████████████████████████| 515/515 [00:12<00:00, 42.49it/s]\n"
     ]
    },
    {
     "name": "stdout",
     "output_type": "stream",
     "text": [
      "EPOCH: 31\n",
      "Training Loss: 0.014141166636955391  | Validation Loss: 0.014028714718045416\n"
     ]
    },
    {
     "name": "stderr",
     "output_type": "stream",
     "text": [
      "100%|████████████████████████████████████████████████████████████████████████████████| 515/515 [00:12<00:00, 42.81it/s]\n"
     ]
    },
    {
     "name": "stdout",
     "output_type": "stream",
     "text": [
      "EPOCH: 32\n",
      "Training Loss: 0.013896156040933525  | Validation Loss: 0.013678795922346212\n"
     ]
    },
    {
     "name": "stderr",
     "output_type": "stream",
     "text": [
      "100%|████████████████████████████████████████████████████████████████████████████████| 515/515 [00:12<00:00, 41.95it/s]\n"
     ]
    },
    {
     "name": "stdout",
     "output_type": "stream",
     "text": [
      "EPOCH: 33\n",
      "Training Loss: 0.013660971673874601  | Validation Loss: 0.013600810393187645\n"
     ]
    },
    {
     "name": "stderr",
     "output_type": "stream",
     "text": [
      "100%|████████████████████████████████████████████████████████████████████████████████| 515/515 [00:11<00:00, 42.96it/s]\n"
     ]
    },
    {
     "name": "stdout",
     "output_type": "stream",
     "text": [
      "EPOCH: 34\n",
      "Training Loss: 0.013461762613354666  | Validation Loss: 0.013345407580050666\n"
     ]
    },
    {
     "name": "stderr",
     "output_type": "stream",
     "text": [
      "100%|████████████████████████████████████████████████████████████████████████████████| 515/515 [00:12<00:00, 42.50it/s]\n"
     ]
    },
    {
     "name": "stdout",
     "output_type": "stream",
     "text": [
      "EPOCH: 35\n",
      "Training Loss: 0.013204744819877217  | Validation Loss: 0.013094260602736392\n"
     ]
    },
    {
     "name": "stderr",
     "output_type": "stream",
     "text": [
      "100%|████████████████████████████████████████████████████████████████████████████████| 515/515 [00:12<00:00, 42.85it/s]\n"
     ]
    },
    {
     "name": "stdout",
     "output_type": "stream",
     "text": [
      "EPOCH: 36\n",
      "Training Loss: 0.013041247016054044  | Validation Loss: 0.012781891424359905\n"
     ]
    },
    {
     "name": "stderr",
     "output_type": "stream",
     "text": [
      "100%|████████████████████████████████████████████████████████████████████████████████| 515/515 [00:12<00:00, 40.40it/s]\n"
     ]
    },
    {
     "name": "stdout",
     "output_type": "stream",
     "text": [
      "EPOCH: 37\n",
      "Training Loss: 0.012819018476253864  | Validation Loss: 0.012632914032233326\n"
     ]
    },
    {
     "name": "stderr",
     "output_type": "stream",
     "text": [
      "100%|████████████████████████████████████████████████████████████████████████████████| 515/515 [00:12<00:00, 42.05it/s]\n"
     ]
    },
    {
     "name": "stdout",
     "output_type": "stream",
     "text": [
      "EPOCH: 38\n",
      "Training Loss: 0.012651213955640504  | Validation Loss: 0.012420691002311336\n"
     ]
    },
    {
     "name": "stderr",
     "output_type": "stream",
     "text": [
      "100%|████████████████████████████████████████████████████████████████████████████████| 515/515 [00:12<00:00, 40.90it/s]\n"
     ]
    },
    {
     "name": "stdout",
     "output_type": "stream",
     "text": [
      "EPOCH: 39\n",
      "Training Loss: 0.012436307652048693  | Validation Loss: 0.012173475106120915\n"
     ]
    },
    {
     "name": "stderr",
     "output_type": "stream",
     "text": [
      "100%|████████████████████████████████████████████████████████████████████████████████| 515/515 [00:12<00:00, 42.84it/s]\n"
     ]
    },
    {
     "name": "stdout",
     "output_type": "stream",
     "text": [
      "EPOCH: 40\n",
      "Training Loss: 0.01233602912861456  | Validation Loss: 0.0120545566975567\n"
     ]
    },
    {
     "name": "stderr",
     "output_type": "stream",
     "text": [
      "100%|████████████████████████████████████████████████████████████████████████████████| 515/515 [00:11<00:00, 43.06it/s]\n"
     ]
    },
    {
     "name": "stdout",
     "output_type": "stream",
     "text": [
      "EPOCH: 41\n",
      "Training Loss: 0.012094482508243866  | Validation Loss: 0.011942275478882162\n"
     ]
    },
    {
     "name": "stderr",
     "output_type": "stream",
     "text": [
      "100%|████████████████████████████████████████████████████████████████████████████████| 515/515 [00:12<00:00, 42.57it/s]\n"
     ]
    },
    {
     "name": "stdout",
     "output_type": "stream",
     "text": [
      "EPOCH: 42\n",
      "Training Loss: 0.011933672803372724  | Validation Loss: 0.011586001533008105\n"
     ]
    },
    {
     "name": "stderr",
     "output_type": "stream",
     "text": [
      "100%|████████████████████████████████████████████████████████████████████████████████| 515/515 [00:12<00:00, 42.80it/s]\n"
     ]
    },
    {
     "name": "stdout",
     "output_type": "stream",
     "text": [
      "EPOCH: 43\n",
      "Training Loss: 0.011741696130846021  | Validation Loss: 0.011465415056492831\n"
     ]
    },
    {
     "name": "stderr",
     "output_type": "stream",
     "text": [
      "100%|████████████████████████████████████████████████████████████████████████████████| 515/515 [00:12<00:00, 42.80it/s]\n"
     ]
    },
    {
     "name": "stdout",
     "output_type": "stream",
     "text": [
      "EPOCH: 44\n",
      "Training Loss: 0.011573928383007212  | Validation Loss: 0.011187469183995918\n"
     ]
    },
    {
     "name": "stderr",
     "output_type": "stream",
     "text": [
      "100%|████████████████████████████████████████████████████████████████████████████████| 515/515 [00:11<00:00, 43.12it/s]\n"
     ]
    },
    {
     "name": "stdout",
     "output_type": "stream",
     "text": [
      "EPOCH: 45\n",
      "Training Loss: 0.011378775961986444  | Validation Loss: 0.01095204653746977\n"
     ]
    },
    {
     "name": "stderr",
     "output_type": "stream",
     "text": [
      "100%|████████████████████████████████████████████████████████████████████████████████| 515/515 [00:11<00:00, 43.22it/s]\n"
     ]
    },
    {
     "name": "stdout",
     "output_type": "stream",
     "text": [
      "EPOCH: 46\n",
      "Training Loss: 0.011176103017139203  | Validation Loss: 0.010631254590997423\n"
     ]
    },
    {
     "name": "stderr",
     "output_type": "stream",
     "text": [
      "100%|████████████████████████████████████████████████████████████████████████████████| 515/515 [00:12<00:00, 41.35it/s]\n"
     ]
    },
    {
     "name": "stdout",
     "output_type": "stream",
     "text": [
      "EPOCH: 47\n",
      "Training Loss: 0.011018214437170226  | Validation Loss: 0.010580859040035992\n"
     ]
    },
    {
     "name": "stderr",
     "output_type": "stream",
     "text": [
      "100%|████████████████████████████████████████████████████████████████████████████████| 515/515 [00:12<00:00, 40.94it/s]\n"
     ]
    },
    {
     "name": "stdout",
     "output_type": "stream",
     "text": [
      "EPOCH: 48\n",
      "Training Loss: 0.010790311786554103  | Validation Loss: 0.010215544859199104\n"
     ]
    },
    {
     "name": "stderr",
     "output_type": "stream",
     "text": [
      "100%|████████████████████████████████████████████████████████████████████████████████| 515/515 [00:11<00:00, 42.95it/s]\n"
     ]
    },
    {
     "name": "stdout",
     "output_type": "stream",
     "text": [
      "EPOCH: 49\n",
      "Training Loss: 0.010658005874567819  | Validation Loss: 0.009968054562656058\n"
     ]
    },
    {
     "name": "stderr",
     "output_type": "stream",
     "text": [
      "100%|████████████████████████████████████████████████████████████████████████████████| 515/515 [00:12<00:00, 40.99it/s]\n"
     ]
    },
    {
     "name": "stdout",
     "output_type": "stream",
     "text": [
      "EPOCH: 50\n",
      "Training Loss: 0.010473946197121178  | Validation Loss: 0.009712378708393993\n"
     ]
    },
    {
     "name": "stderr",
     "output_type": "stream",
     "text": [
      "100%|████████████████████████████████████████████████████████████████████████████████| 515/515 [00:11<00:00, 43.07it/s]\n"
     ]
    },
    {
     "name": "stdout",
     "output_type": "stream",
     "text": [
      "EPOCH: 51\n",
      "Training Loss: 0.010280330399575743  | Validation Loss: 0.009522429377948111\n"
     ]
    },
    {
     "name": "stderr",
     "output_type": "stream",
     "text": [
      "100%|████████████████████████████████████████████████████████████████████████████████| 515/515 [00:12<00:00, 41.18it/s]\n"
     ]
    },
    {
     "name": "stdout",
     "output_type": "stream",
     "text": [
      "EPOCH: 52\n",
      "Training Loss: 0.010159885718767504  | Validation Loss: 0.009392613884867044\n"
     ]
    },
    {
     "name": "stderr",
     "output_type": "stream",
     "text": [
      "100%|████████████████████████████████████████████████████████████████████████████████| 515/515 [00:11<00:00, 42.97it/s]\n"
     ]
    },
    {
     "name": "stdout",
     "output_type": "stream",
     "text": [
      "EPOCH: 53\n",
      "Training Loss: 0.010007880980745681  | Validation Loss: 0.009136815347733933\n"
     ]
    },
    {
     "name": "stderr",
     "output_type": "stream",
     "text": [
      "100%|████████████████████████████████████████████████████████████████████████████████| 515/515 [00:12<00:00, 42.84it/s]\n"
     ]
    },
    {
     "name": "stdout",
     "output_type": "stream",
     "text": [
      "EPOCH: 54\n",
      "Training Loss: 0.00988949525251406  | Validation Loss: 0.008972135510899731\n"
     ]
    },
    {
     "name": "stderr",
     "output_type": "stream",
     "text": [
      "100%|████████████████████████████████████████████████████████████████████████████████| 515/515 [00:12<00:00, 42.83it/s]\n"
     ]
    },
    {
     "name": "stdout",
     "output_type": "stream",
     "text": [
      "EPOCH: 55\n",
      "Training Loss: 0.0096900168932902  | Validation Loss: 0.008748273283394205\n"
     ]
    },
    {
     "name": "stderr",
     "output_type": "stream",
     "text": [
      "100%|████████████████████████████████████████████████████████████████████████████████| 515/515 [00:12<00:00, 41.23it/s]\n"
     ]
    },
    {
     "name": "stdout",
     "output_type": "stream",
     "text": [
      "EPOCH: 56\n",
      "Training Loss: 0.009532347018604429  | Validation Loss: 0.0085003523760148\n"
     ]
    },
    {
     "name": "stderr",
     "output_type": "stream",
     "text": [
      "100%|████████████████████████████████████████████████████████████████████████████████| 515/515 [00:11<00:00, 43.14it/s]\n"
     ]
    },
    {
     "name": "stdout",
     "output_type": "stream",
     "text": [
      "EPOCH: 57\n",
      "Training Loss: 0.009425788842033125  | Validation Loss: 0.008333459131520343\n"
     ]
    },
    {
     "name": "stderr",
     "output_type": "stream",
     "text": [
      "100%|████████████████████████████████████████████████████████████████████████████████| 515/515 [00:12<00:00, 41.90it/s]\n"
     ]
    },
    {
     "name": "stdout",
     "output_type": "stream",
     "text": [
      "EPOCH: 58\n",
      "Training Loss: 0.009242113719432099  | Validation Loss: 0.008271233084284374\n"
     ]
    },
    {
     "name": "stderr",
     "output_type": "stream",
     "text": [
      "100%|████████████████████████████████████████████████████████████████████████████████| 515/515 [00:12<00:00, 41.36it/s]\n"
     ]
    },
    {
     "name": "stdout",
     "output_type": "stream",
     "text": [
      "EPOCH: 59\n",
      "Training Loss: 0.009131252091124798  | Validation Loss: 0.007915267484841516\n"
     ]
    },
    {
     "name": "stderr",
     "output_type": "stream",
     "text": [
      "100%|████████████████████████████████████████████████████████████████████████████████| 515/515 [00:11<00:00, 42.94it/s]\n"
     ]
    },
    {
     "name": "stdout",
     "output_type": "stream",
     "text": [
      "EPOCH: 60\n",
      "Training Loss: 0.008916287341164154  | Validation Loss: 0.007833093020913971\n"
     ]
    },
    {
     "name": "stderr",
     "output_type": "stream",
     "text": [
      "100%|████████████████████████████████████████████████████████████████████████████████| 515/515 [00:11<00:00, 43.08it/s]\n"
     ]
    },
    {
     "name": "stdout",
     "output_type": "stream",
     "text": [
      "EPOCH: 61\n",
      "Training Loss: 0.00882422810112967  | Validation Loss: 0.007608407063762078\n"
     ]
    },
    {
     "name": "stderr",
     "output_type": "stream",
     "text": [
      "100%|████████████████████████████████████████████████████████████████████████████████| 515/515 [00:12<00:00, 42.84it/s]\n"
     ]
    },
    {
     "name": "stdout",
     "output_type": "stream",
     "text": [
      "EPOCH: 62\n",
      "Training Loss: 0.00864872579254861  | Validation Loss: 0.007306723509336243\n"
     ]
    },
    {
     "name": "stderr",
     "output_type": "stream",
     "text": [
      "100%|████████████████████████████████████████████████████████████████████████████████| 515/515 [00:11<00:00, 42.94it/s]\n"
     ]
    },
    {
     "name": "stdout",
     "output_type": "stream",
     "text": [
      "EPOCH: 63\n",
      "Training Loss: 0.008571894298696403  | Validation Loss: 0.007182334282284451\n"
     ]
    },
    {
     "name": "stderr",
     "output_type": "stream",
     "text": [
      "100%|████████████████████████████████████████████████████████████████████████████████| 515/515 [00:11<00:00, 43.04it/s]\n"
     ]
    },
    {
     "name": "stdout",
     "output_type": "stream",
     "text": [
      "EPOCH: 64\n",
      "Training Loss: 0.008425445652123794  | Validation Loss: 0.006986973502018766\n"
     ]
    },
    {
     "name": "stderr",
     "output_type": "stream",
     "text": [
      "100%|████████████████████████████████████████████████████████████████████████████████| 515/515 [00:11<00:00, 42.97it/s]\n"
     ]
    },
    {
     "name": "stdout",
     "output_type": "stream",
     "text": [
      "EPOCH: 65\n",
      "Training Loss: 0.008259288106764694  | Validation Loss: 0.00679811487616216\n"
     ]
    },
    {
     "name": "stderr",
     "output_type": "stream",
     "text": [
      "100%|████████████████████████████████████████████████████████████████████████████████| 515/515 [00:11<00:00, 43.12it/s]\n"
     ]
    },
    {
     "name": "stdout",
     "output_type": "stream",
     "text": [
      "EPOCH: 66\n",
      "Training Loss: 0.008109850386718234  | Validation Loss: 0.0065421414108493845\n"
     ]
    },
    {
     "name": "stderr",
     "output_type": "stream",
     "text": [
      "100%|████████████████████████████████████████████████████████████████████████████████| 515/515 [00:12<00:00, 42.81it/s]\n"
     ]
    },
    {
     "name": "stdout",
     "output_type": "stream",
     "text": [
      "EPOCH: 67\n",
      "Training Loss: 0.00795282926048758  | Validation Loss: 0.0063636251662329245\n"
     ]
    },
    {
     "name": "stderr",
     "output_type": "stream",
     "text": [
      "100%|████████████████████████████████████████████████████████████████████████████████| 515/515 [00:11<00:00, 43.02it/s]\n"
     ]
    },
    {
     "name": "stdout",
     "output_type": "stream",
     "text": [
      "EPOCH: 68\n",
      "Training Loss: 0.007844044451683182  | Validation Loss: 0.006219969750885424\n"
     ]
    },
    {
     "name": "stderr",
     "output_type": "stream",
     "text": [
      "100%|████████████████████████████████████████████████████████████████████████████████| 515/515 [00:12<00:00, 42.50it/s]\n"
     ]
    },
    {
     "name": "stdout",
     "output_type": "stream",
     "text": [
      "EPOCH: 69\n",
      "Training Loss: 0.007707312642551452  | Validation Loss: 0.005984254599850927\n"
     ]
    },
    {
     "name": "stderr",
     "output_type": "stream",
     "text": [
      "100%|████████████████████████████████████████████████████████████████████████████████| 515/515 [00:12<00:00, 42.07it/s]\n"
     ]
    },
    {
     "name": "stdout",
     "output_type": "stream",
     "text": [
      "EPOCH: 70\n",
      "Training Loss: 0.007500371956311673  | Validation Loss: 0.005822993273771292\n"
     ]
    },
    {
     "name": "stderr",
     "output_type": "stream",
     "text": [
      "100%|████████████████████████████████████████████████████████████████████████████████| 515/515 [00:12<00:00, 41.17it/s]\n"
     ]
    },
    {
     "name": "stdout",
     "output_type": "stream",
     "text": [
      "EPOCH: 71\n",
      "Training Loss: 0.00739272332985352  | Validation Loss: 0.0056177885397463235\n"
     ]
    },
    {
     "name": "stderr",
     "output_type": "stream",
     "text": [
      "100%|████████████████████████████████████████████████████████████████████████████████| 515/515 [00:12<00:00, 42.10it/s]\n"
     ]
    },
    {
     "name": "stdout",
     "output_type": "stream",
     "text": [
      "EPOCH: 72\n",
      "Training Loss: 0.007241651463747314  | Validation Loss: 0.005399145808926708\n"
     ]
    },
    {
     "name": "stderr",
     "output_type": "stream",
     "text": [
      "100%|████████████████████████████████████████████████████████████████████████████████| 515/515 [00:12<00:00, 41.46it/s]\n"
     ]
    },
    {
     "name": "stdout",
     "output_type": "stream",
     "text": [
      "EPOCH: 73\n",
      "Training Loss: 0.0071041408202891215  | Validation Loss: 0.005164215602358249\n"
     ]
    },
    {
     "name": "stderr",
     "output_type": "stream",
     "text": [
      "100%|████████████████████████████████████████████████████████████████████████████████| 515/515 [00:12<00:00, 42.02it/s]\n"
     ]
    },
    {
     "name": "stdout",
     "output_type": "stream",
     "text": [
      "EPOCH: 74\n",
      "Training Loss: 0.006961322525624656  | Validation Loss: 0.0050850022376540144\n"
     ]
    },
    {
     "name": "stderr",
     "output_type": "stream",
     "text": [
      "100%|████████████████████████████████████████████████████████████████████████████████| 515/515 [00:12<00:00, 42.80it/s]\n"
     ]
    },
    {
     "name": "stdout",
     "output_type": "stream",
     "text": [
      "EPOCH: 75\n",
      "Training Loss: 0.006879986266524178  | Validation Loss: 0.004941886536323944\n"
     ]
    },
    {
     "name": "stderr",
     "output_type": "stream",
     "text": [
      "100%|████████████████████████████████████████████████████████████████████████████████| 515/515 [00:11<00:00, 42.96it/s]\n"
     ]
    },
    {
     "name": "stdout",
     "output_type": "stream",
     "text": [
      "EPOCH: 76\n",
      "Training Loss: 0.006758507355613616  | Validation Loss: 0.004830213638047713\n"
     ]
    },
    {
     "name": "stderr",
     "output_type": "stream",
     "text": [
      "100%|████████████████████████████████████████████████████████████████████████████████| 515/515 [00:12<00:00, 40.85it/s]\n"
     ]
    },
    {
     "name": "stdout",
     "output_type": "stream",
     "text": [
      "EPOCH: 77\n",
      "Training Loss: 0.00664860941017571  | Validation Loss: 0.004594936419429409\n"
     ]
    },
    {
     "name": "stderr",
     "output_type": "stream",
     "text": [
      "100%|████████████████████████████████████████████████████████████████████████████████| 515/515 [00:12<00:00, 41.29it/s]\n"
     ]
    },
    {
     "name": "stdout",
     "output_type": "stream",
     "text": [
      "EPOCH: 78\n",
      "Training Loss: 0.006529610778557734  | Validation Loss: 0.004574545029852842\n"
     ]
    },
    {
     "name": "stderr",
     "output_type": "stream",
     "text": [
      "100%|████████████████████████████████████████████████████████████████████████████████| 515/515 [00:12<00:00, 42.30it/s]\n"
     ]
    },
    {
     "name": "stdout",
     "output_type": "stream",
     "text": [
      "EPOCH: 79\n",
      "Training Loss: 0.006457809912203585  | Validation Loss: 0.004391817442091131\n"
     ]
    },
    {
     "name": "stderr",
     "output_type": "stream",
     "text": [
      "100%|████████████████████████████████████████████████████████████████████████████████| 515/515 [00:12<00:00, 42.60it/s]\n"
     ]
    },
    {
     "name": "stdout",
     "output_type": "stream",
     "text": [
      "EPOCH: 80\n",
      "Training Loss: 0.006389224137749197  | Validation Loss: 0.004288866430067936\n"
     ]
    },
    {
     "name": "stderr",
     "output_type": "stream",
     "text": [
      "100%|████████████████████████████████████████████████████████████████████████████████| 515/515 [00:12<00:00, 41.66it/s]\n"
     ]
    },
    {
     "name": "stdout",
     "output_type": "stream",
     "text": [
      "EPOCH: 81\n",
      "Training Loss: 0.006298953319619437  | Validation Loss: 0.004114736588923512\n"
     ]
    },
    {
     "name": "stderr",
     "output_type": "stream",
     "text": [
      "100%|████████████████████████████████████████████████████████████████████████████████| 515/515 [00:12<00:00, 40.14it/s]\n"
     ]
    },
    {
     "name": "stdout",
     "output_type": "stream",
     "text": [
      "EPOCH: 82\n",
      "Training Loss: 0.006175030394484407  | Validation Loss: 0.004097448057822279\n"
     ]
    },
    {
     "name": "stderr",
     "output_type": "stream",
     "text": [
      "100%|████████████████████████████████████████████████████████████████████████████████| 515/515 [00:12<00:00, 40.31it/s]\n"
     ]
    },
    {
     "name": "stdout",
     "output_type": "stream",
     "text": [
      "EPOCH: 83\n",
      "Training Loss: 0.006086901199181103  | Validation Loss: 0.003950382208426458\n"
     ]
    },
    {
     "name": "stderr",
     "output_type": "stream",
     "text": [
      "100%|████████████████████████████████████████████████████████████████████████████████| 515/515 [00:12<00:00, 41.96it/s]\n"
     ]
    },
    {
     "name": "stdout",
     "output_type": "stream",
     "text": [
      "EPOCH: 84\n",
      "Training Loss: 0.005963401541168105  | Validation Loss: 0.003743869733896006\n"
     ]
    },
    {
     "name": "stderr",
     "output_type": "stream",
     "text": [
      "100%|████████████████████████████████████████████████████████████████████████████████| 515/515 [00:12<00:00, 41.88it/s]\n"
     ]
    },
    {
     "name": "stdout",
     "output_type": "stream",
     "text": [
      "EPOCH: 85\n",
      "Training Loss: 0.00591607217007832  | Validation Loss: 0.0036998088565982274\n"
     ]
    },
    {
     "name": "stderr",
     "output_type": "stream",
     "text": [
      "100%|████████████████████████████████████████████████████████████████████████████████| 515/515 [00:12<00:00, 42.46it/s]\n"
     ]
    },
    {
     "name": "stdout",
     "output_type": "stream",
     "text": [
      "EPOCH: 86\n",
      "Training Loss: 0.0058612216214278656  | Validation Loss: 0.0035281385722998027\n"
     ]
    },
    {
     "name": "stderr",
     "output_type": "stream",
     "text": [
      "100%|████████████████████████████████████████████████████████████████████████████████| 515/515 [00:12<00:00, 42.19it/s]\n"
     ]
    },
    {
     "name": "stdout",
     "output_type": "stream",
     "text": [
      "EPOCH: 87\n",
      "Training Loss: 0.0058699318564958075  | Validation Loss: 0.003513877538058001\n"
     ]
    },
    {
     "name": "stderr",
     "output_type": "stream",
     "text": [
      "100%|████████████████████████████████████████████████████████████████████████████████| 515/515 [00:12<00:00, 42.31it/s]\n"
     ]
    },
    {
     "name": "stdout",
     "output_type": "stream",
     "text": [
      "EPOCH: 88\n",
      "Training Loss: 0.00573281649662887  | Validation Loss: 0.003332091432467506\n"
     ]
    },
    {
     "name": "stderr",
     "output_type": "stream",
     "text": [
      "100%|████████████████████████████████████████████████████████████████████████████████| 515/515 [00:12<00:00, 42.18it/s]\n"
     ]
    },
    {
     "name": "stdout",
     "output_type": "stream",
     "text": [
      "EPOCH: 89\n",
      "Training Loss: 0.00562902235344631  | Validation Loss: 0.0032047934458918266\n"
     ]
    },
    {
     "name": "stderr",
     "output_type": "stream",
     "text": [
      "100%|████████████████████████████████████████████████████████████████████████████████| 515/515 [00:12<00:00, 41.22it/s]\n"
     ]
    },
    {
     "name": "stdout",
     "output_type": "stream",
     "text": [
      "EPOCH: 90\n",
      "Training Loss: 0.0055384324497353395  | Validation Loss: 0.0031928165101546896\n"
     ]
    },
    {
     "name": "stderr",
     "output_type": "stream",
     "text": [
      "100%|████████████████████████████████████████████████████████████████████████████████| 515/515 [00:12<00:00, 42.44it/s]\n"
     ]
    },
    {
     "name": "stdout",
     "output_type": "stream",
     "text": [
      "EPOCH: 91\n",
      "Training Loss: 0.005524933368455872  | Validation Loss: 0.0031810873219542003\n"
     ]
    },
    {
     "name": "stderr",
     "output_type": "stream",
     "text": [
      "100%|████████████████████████████████████████████████████████████████████████████████| 515/515 [00:15<00:00, 33.43it/s]\n"
     ]
    },
    {
     "name": "stdout",
     "output_type": "stream",
     "text": [
      "EPOCH: 92\n",
      "Training Loss: 0.005481880428540764  | Validation Loss: 0.0031679200725881636\n"
     ]
    },
    {
     "name": "stderr",
     "output_type": "stream",
     "text": [
      "100%|████████████████████████████████████████████████████████████████████████████████| 515/515 [00:12<00:00, 42.38it/s]\n"
     ]
    },
    {
     "name": "stdout",
     "output_type": "stream",
     "text": [
      "EPOCH: 93\n",
      "Training Loss: 0.005478181331915763  | Validation Loss: 0.0030477146470189297\n"
     ]
    },
    {
     "name": "stderr",
     "output_type": "stream",
     "text": [
      "100%|████████████████████████████████████████████████████████████████████████████████| 515/515 [00:12<00:00, 42.24it/s]\n"
     ]
    },
    {
     "name": "stdout",
     "output_type": "stream",
     "text": [
      "EPOCH: 94\n",
      "Training Loss: 0.005381935042808357  | Validation Loss: 0.002943720519102204\n"
     ]
    },
    {
     "name": "stderr",
     "output_type": "stream",
     "text": [
      "100%|████████████████████████████████████████████████████████████████████████████████| 515/515 [00:12<00:00, 41.61it/s]\n"
     ]
    },
    {
     "name": "stdout",
     "output_type": "stream",
     "text": [
      "EPOCH: 95\n",
      "Training Loss: 0.0053694432542559884  | Validation Loss: 0.0029371178652336065\n"
     ]
    },
    {
     "name": "stderr",
     "output_type": "stream",
     "text": [
      "100%|████████████████████████████████████████████████████████████████████████████████| 515/515 [00:12<00:00, 40.63it/s]\n"
     ]
    },
    {
     "name": "stdout",
     "output_type": "stream",
     "text": [
      "EPOCH: 96\n",
      "Training Loss: 0.005296165667004088  | Validation Loss: 0.0029581690732565884\n"
     ]
    },
    {
     "name": "stderr",
     "output_type": "stream",
     "text": [
      "100%|████████████████████████████████████████████████████████████████████████████████| 515/515 [00:12<00:00, 41.80it/s]\n"
     ]
    },
    {
     "name": "stdout",
     "output_type": "stream",
     "text": [
      "EPOCH: 97\n",
      "Training Loss: 0.005267804589809724  | Validation Loss: 0.0027149043067962535\n"
     ]
    },
    {
     "name": "stderr",
     "output_type": "stream",
     "text": [
      "100%|████████████████████████████████████████████████████████████████████████████████| 515/515 [00:12<00:00, 41.85it/s]\n"
     ]
    },
    {
     "name": "stdout",
     "output_type": "stream",
     "text": [
      "EPOCH: 98\n",
      "Training Loss: 0.005257027913608308  | Validation Loss: 0.002844915516057832\n"
     ]
    },
    {
     "name": "stderr",
     "output_type": "stream",
     "text": [
      "100%|████████████████████████████████████████████████████████████████████████████████| 515/515 [00:12<00:00, 42.35it/s]\n"
     ]
    },
    {
     "name": "stdout",
     "output_type": "stream",
     "text": [
      "EPOCH: 99\n",
      "Training Loss: 0.005305540368630035  | Validation Loss: 0.0029126134153606522\n"
     ]
    },
    {
     "name": "stderr",
     "output_type": "stream",
     "text": [
      "100%|████████████████████████████████████████████████████████████████████████████████| 515/515 [00:12<00:00, 41.24it/s]\n"
     ]
    },
    {
     "name": "stdout",
     "output_type": "stream",
     "text": [
      "EPOCH: 100\n",
      "Training Loss: 0.0052671030914248195  | Validation Loss: 0.002781462047022541\n"
     ]
    },
    {
     "name": "stderr",
     "output_type": "stream",
     "text": [
      "100%|████████████████████████████████████████████████████████████████████████████████| 515/515 [00:12<00:00, 41.95it/s]\n"
     ]
    },
    {
     "name": "stdout",
     "output_type": "stream",
     "text": [
      "EPOCH: 101\n",
      "Training Loss: 0.0052000920130030335  | Validation Loss: 0.0025915684810889936\n"
     ]
    },
    {
     "name": "stderr",
     "output_type": "stream",
     "text": [
      "100%|████████████████████████████████████████████████████████████████████████████████| 515/515 [00:12<00:00, 42.47it/s]\n"
     ]
    },
    {
     "name": "stdout",
     "output_type": "stream",
     "text": [
      "EPOCH: 102\n",
      "Training Loss: 0.005189072344795737  | Validation Loss: 0.0027739529283968985\n"
     ]
    },
    {
     "name": "stderr",
     "output_type": "stream",
     "text": [
      "100%|████████████████████████████████████████████████████████████████████████████████| 515/515 [00:12<00:00, 42.02it/s]\n"
     ]
    },
    {
     "name": "stdout",
     "output_type": "stream",
     "text": [
      "EPOCH: 103\n",
      "Training Loss: 0.005203513164543411  | Validation Loss: 0.0025960694089204677\n"
     ]
    },
    {
     "name": "stderr",
     "output_type": "stream",
     "text": [
      "100%|████████████████████████████████████████████████████████████████████████████████| 515/515 [00:12<00:00, 42.37it/s]\n"
     ]
    },
    {
     "name": "stdout",
     "output_type": "stream",
     "text": [
      "EPOCH: 104\n",
      "Training Loss: 0.005126519375073823  | Validation Loss: 0.0026023502027414536\n"
     ]
    },
    {
     "name": "stderr",
     "output_type": "stream",
     "text": [
      "100%|████████████████████████████████████████████████████████████████████████████████| 515/515 [00:12<00:00, 41.97it/s]\n"
     ]
    },
    {
     "name": "stdout",
     "output_type": "stream",
     "text": [
      "EPOCH: 105\n",
      "Training Loss: 0.005132460858202675  | Validation Loss: 0.002570438415844094\n"
     ]
    },
    {
     "name": "stderr",
     "output_type": "stream",
     "text": [
      "100%|████████████████████████████████████████████████████████████████████████████████| 515/515 [00:12<00:00, 41.20it/s]\n"
     ]
    },
    {
     "name": "stdout",
     "output_type": "stream",
     "text": [
      "EPOCH: 106\n",
      "Training Loss: 0.005045685941552363  | Validation Loss: 0.002535997150541359\n"
     ]
    },
    {
     "name": "stderr",
     "output_type": "stream",
     "text": [
      "100%|████████████████████████████████████████████████████████████████████████████████| 515/515 [00:12<00:00, 42.36it/s]\n"
     ]
    },
    {
     "name": "stdout",
     "output_type": "stream",
     "text": [
      "EPOCH: 107\n",
      "Training Loss: 0.004989561113501782  | Validation Loss: 0.002282939313256459\n"
     ]
    },
    {
     "name": "stderr",
     "output_type": "stream",
     "text": [
      "100%|████████████████████████████████████████████████████████████████████████████████| 515/515 [00:12<00:00, 42.23it/s]\n"
     ]
    },
    {
     "name": "stdout",
     "output_type": "stream",
     "text": [
      "EPOCH: 108\n",
      "Training Loss: 0.004911499275165854  | Validation Loss: 0.0022414234400777197\n"
     ]
    },
    {
     "name": "stderr",
     "output_type": "stream",
     "text": [
      "100%|████████████████████████████████████████████████████████████████████████████████| 515/515 [00:12<00:00, 41.90it/s]\n"
     ]
    },
    {
     "name": "stdout",
     "output_type": "stream",
     "text": [
      "EPOCH: 109\n",
      "Training Loss: 0.004884445953445093  | Validation Loss: 0.002692864811349962\n"
     ]
    },
    {
     "name": "stderr",
     "output_type": "stream",
     "text": [
      "100%|████████████████████████████████████████████████████████████████████████████████| 515/515 [00:12<00:00, 42.15it/s]\n"
     ]
    },
    {
     "name": "stdout",
     "output_type": "stream",
     "text": [
      "EPOCH: 110\n",
      "Training Loss: 0.004975298805686744  | Validation Loss: 0.0023344947871550715\n"
     ]
    },
    {
     "name": "stderr",
     "output_type": "stream",
     "text": [
      "100%|████████████████████████████████████████████████████████████████████████████████| 515/515 [00:13<00:00, 38.48it/s]\n"
     ]
    },
    {
     "name": "stdout",
     "output_type": "stream",
     "text": [
      "EPOCH: 111\n",
      "Training Loss: 0.004907897306443418  | Validation Loss: 0.0022291680750739134\n"
     ]
    },
    {
     "name": "stderr",
     "output_type": "stream",
     "text": [
      "100%|████████████████████████████████████████████████████████████████████████████████| 515/515 [00:12<00:00, 41.18it/s]\n"
     ]
    },
    {
     "name": "stdout",
     "output_type": "stream",
     "text": [
      "EPOCH: 112\n",
      "Training Loss: 0.004840712721721784  | Validation Loss: 0.002157693702060528\n"
     ]
    },
    {
     "name": "stderr",
     "output_type": "stream",
     "text": [
      "100%|████████████████████████████████████████████████████████████████████████████████| 515/515 [00:12<00:00, 42.18it/s]\n"
     ]
    },
    {
     "name": "stdout",
     "output_type": "stream",
     "text": [
      "EPOCH: 113\n",
      "Training Loss: 0.004812032911130815  | Validation Loss: 0.002162661785700333\n"
     ]
    },
    {
     "name": "stderr",
     "output_type": "stream",
     "text": [
      "100%|████████████████████████████████████████████████████████████████████████████████| 515/515 [00:12<00:00, 42.42it/s]\n"
     ]
    },
    {
     "name": "stdout",
     "output_type": "stream",
     "text": [
      "EPOCH: 114\n",
      "Training Loss: 0.004929394057038629  | Validation Loss: 0.0023068750129282677\n"
     ]
    },
    {
     "name": "stderr",
     "output_type": "stream",
     "text": [
      "100%|████████████████████████████████████████████████████████████████████████████████| 515/515 [00:12<00:00, 42.24it/s]\n"
     ]
    },
    {
     "name": "stdout",
     "output_type": "stream",
     "text": [
      "EPOCH: 115\n",
      "Training Loss: 0.004798231757182664  | Validation Loss: 0.0021051913515563953\n"
     ]
    },
    {
     "name": "stderr",
     "output_type": "stream",
     "text": [
      "100%|████████████████████████████████████████████████████████████████████████████████| 515/515 [00:12<00:00, 41.51it/s]\n"
     ]
    },
    {
     "name": "stdout",
     "output_type": "stream",
     "text": [
      "EPOCH: 116\n",
      "Training Loss: 0.004808071679300041  | Validation Loss: 0.002038389538741998\n"
     ]
    },
    {
     "name": "stderr",
     "output_type": "stream",
     "text": [
      "100%|████████████████████████████████████████████████████████████████████████████████| 515/515 [00:12<00:00, 42.36it/s]\n"
     ]
    },
    {
     "name": "stdout",
     "output_type": "stream",
     "text": [
      "EPOCH: 117\n",
      "Training Loss: 0.004778072604620196  | Validation Loss: 0.002040855506296597\n"
     ]
    },
    {
     "name": "stderr",
     "output_type": "stream",
     "text": [
      "100%|████████████████████████████████████████████████████████████████████████████████| 515/515 [00:12<00:00, 42.50it/s]\n"
     ]
    },
    {
     "name": "stdout",
     "output_type": "stream",
     "text": [
      "EPOCH: 118\n",
      "Training Loss: 0.004777693428388499  | Validation Loss: 0.002016538046174557\n"
     ]
    },
    {
     "name": "stderr",
     "output_type": "stream",
     "text": [
      "100%|████████████████████████████████████████████████████████████████████████████████| 515/515 [00:12<00:00, 40.95it/s]\n"
     ]
    },
    {
     "name": "stdout",
     "output_type": "stream",
     "text": [
      "EPOCH: 119\n",
      "Training Loss: 0.004733538068830967  | Validation Loss: 0.0020715532245466836\n"
     ]
    },
    {
     "name": "stderr",
     "output_type": "stream",
     "text": [
      "100%|████████████████████████████████████████████████████████████████████████████████| 515/515 [00:12<00:00, 39.76it/s]\n"
     ]
    },
    {
     "name": "stdout",
     "output_type": "stream",
     "text": [
      "EPOCH: 120\n",
      "Training Loss: 0.004676496810324997  | Validation Loss: 0.0020967747928020922\n"
     ]
    },
    {
     "name": "stderr",
     "output_type": "stream",
     "text": [
      "100%|████████████████████████████████████████████████████████████████████████████████| 515/515 [00:12<00:00, 42.16it/s]\n"
     ]
    },
    {
     "name": "stdout",
     "output_type": "stream",
     "text": [
      "EPOCH: 121\n",
      "Training Loss: 0.004668541064992258  | Validation Loss: 0.00199800097962489\n"
     ]
    },
    {
     "name": "stderr",
     "output_type": "stream",
     "text": [
      "100%|████████████████████████████████████████████████████████████████████████████████| 515/515 [00:12<00:00, 42.19it/s]\n"
     ]
    },
    {
     "name": "stdout",
     "output_type": "stream",
     "text": [
      "EPOCH: 122\n",
      "Training Loss: 0.004708301100102299  | Validation Loss: 0.0019181074080611201\n"
     ]
    },
    {
     "name": "stderr",
     "output_type": "stream",
     "text": [
      "100%|████████████████████████████████████████████████████████████████████████████████| 515/515 [00:12<00:00, 42.01it/s]\n"
     ]
    },
    {
     "name": "stdout",
     "output_type": "stream",
     "text": [
      "EPOCH: 123\n",
      "Training Loss: 0.004674446731082444  | Validation Loss: 0.0019568930839414934\n"
     ]
    },
    {
     "name": "stderr",
     "output_type": "stream",
     "text": [
      "100%|████████████████████████████████████████████████████████████████████████████████| 515/515 [00:12<00:00, 40.19it/s]\n"
     ]
    },
    {
     "name": "stdout",
     "output_type": "stream",
     "text": [
      "EPOCH: 124\n",
      "Training Loss: 0.004591690380017734  | Validation Loss: 0.0019627256646148256\n"
     ]
    },
    {
     "name": "stderr",
     "output_type": "stream",
     "text": [
      "100%|████████████████████████████████████████████████████████████████████████████████| 515/515 [00:12<00:00, 42.40it/s]\n"
     ]
    },
    {
     "name": "stdout",
     "output_type": "stream",
     "text": [
      "EPOCH: 125\n",
      "Training Loss: 0.004673630543939263  | Validation Loss: 0.0022181237377603916\n"
     ]
    },
    {
     "name": "stderr",
     "output_type": "stream",
     "text": [
      "100%|████████████████████████████████████████████████████████████████████████████████| 515/515 [00:12<00:00, 42.68it/s]\n"
     ]
    },
    {
     "name": "stdout",
     "output_type": "stream",
     "text": [
      "EPOCH: 126\n",
      "Training Loss: 0.004665967869997314  | Validation Loss: 0.0018452684901579207\n"
     ]
    },
    {
     "name": "stderr",
     "output_type": "stream",
     "text": [
      "100%|████████████████████████████████████████████████████████████████████████████████| 515/515 [00:12<00:00, 41.71it/s]\n"
     ]
    },
    {
     "name": "stdout",
     "output_type": "stream",
     "text": [
      "EPOCH: 127\n",
      "Training Loss: 0.004646377913310256  | Validation Loss: 0.0019434913615318569\n"
     ]
    },
    {
     "name": "stderr",
     "output_type": "stream",
     "text": [
      "100%|████████████████████████████████████████████████████████████████████████████████| 515/515 [00:12<00:00, 42.32it/s]\n"
     ]
    },
    {
     "name": "stdout",
     "output_type": "stream",
     "text": [
      "EPOCH: 128\n",
      "Training Loss: 0.004601865799338059  | Validation Loss: 0.0018818495430152965\n"
     ]
    },
    {
     "name": "stderr",
     "output_type": "stream",
     "text": [
      "100%|████████████████████████████████████████████████████████████████████████████████| 515/515 [00:12<00:00, 42.15it/s]\n"
     ]
    },
    {
     "name": "stdout",
     "output_type": "stream",
     "text": [
      "EPOCH: 129\n",
      "Training Loss: 0.004611844333449324  | Validation Loss: 0.0018581391589061634\n"
     ]
    },
    {
     "name": "stderr",
     "output_type": "stream",
     "text": [
      "100%|████████████████████████████████████████████████████████████████████████████████| 515/515 [00:12<00:00, 42.36it/s]\n"
     ]
    },
    {
     "name": "stdout",
     "output_type": "stream",
     "text": [
      "EPOCH: 130\n",
      "Training Loss: 0.004570117944996189  | Validation Loss: 0.0018165766377933323\n"
     ]
    },
    {
     "name": "stderr",
     "output_type": "stream",
     "text": [
      "100%|████████████████████████████████████████████████████████████████████████████████| 515/515 [00:12<00:00, 41.73it/s]\n"
     ]
    },
    {
     "name": "stdout",
     "output_type": "stream",
     "text": [
      "EPOCH: 131\n",
      "Training Loss: 0.004605445954315726  | Validation Loss: 0.0017992539671123832\n"
     ]
    },
    {
     "name": "stderr",
     "output_type": "stream",
     "text": [
      "100%|████████████████████████████████████████████████████████████████████████████████| 515/515 [00:12<00:00, 42.65it/s]\n"
     ]
    },
    {
     "name": "stdout",
     "output_type": "stream",
     "text": [
      "EPOCH: 132\n",
      "Training Loss: 0.0045495642222536424  | Validation Loss: 0.0017626336980233522\n"
     ]
    },
    {
     "name": "stderr",
     "output_type": "stream",
     "text": [
      "100%|████████████████████████████████████████████████████████████████████████████████| 515/515 [00:12<00:00, 40.48it/s]\n"
     ]
    },
    {
     "name": "stdout",
     "output_type": "stream",
     "text": [
      "EPOCH: 133\n",
      "Training Loss: 0.004577026661322679  | Validation Loss: 0.0018728174445395533\n"
     ]
    },
    {
     "name": "stderr",
     "output_type": "stream",
     "text": [
      "100%|████████████████████████████████████████████████████████████████████████████████| 515/515 [00:12<00:00, 42.21it/s]\n"
     ]
    },
    {
     "name": "stdout",
     "output_type": "stream",
     "text": [
      "EPOCH: 134\n",
      "Training Loss: 0.004562297038896715  | Validation Loss: 0.001738440542720963\n"
     ]
    },
    {
     "name": "stderr",
     "output_type": "stream",
     "text": [
      "100%|████████████████████████████████████████████████████████████████████████████████| 515/515 [00:12<00:00, 42.08it/s]\n"
     ]
    },
    {
     "name": "stdout",
     "output_type": "stream",
     "text": [
      "EPOCH: 135\n",
      "Training Loss: 0.0045320351495072965  | Validation Loss: 0.001707945390277215\n"
     ]
    },
    {
     "name": "stderr",
     "output_type": "stream",
     "text": [
      "100%|████████████████████████████████████████████████████████████████████████████████| 515/515 [00:12<00:00, 41.53it/s]\n"
     ]
    },
    {
     "name": "stdout",
     "output_type": "stream",
     "text": [
      "EPOCH: 136\n",
      "Training Loss: 0.004490012972100267  | Validation Loss: 0.0017070792587096425\n"
     ]
    },
    {
     "name": "stderr",
     "output_type": "stream",
     "text": [
      "100%|████████████████████████████████████████████████████████████████████████████████| 515/515 [00:12<00:00, 42.50it/s]\n"
     ]
    },
    {
     "name": "stdout",
     "output_type": "stream",
     "text": [
      "EPOCH: 137\n",
      "Training Loss: 0.004539076231184949  | Validation Loss: 0.0016025145431175023\n"
     ]
    },
    {
     "name": "stderr",
     "output_type": "stream",
     "text": [
      "100%|████████████████████████████████████████████████████████████████████████████████| 515/515 [00:12<00:00, 41.78it/s]\n"
     ]
    },
    {
     "name": "stdout",
     "output_type": "stream",
     "text": [
      "EPOCH: 138\n",
      "Training Loss: 0.004585744804494734  | Validation Loss: 0.001694724171397251\n"
     ]
    },
    {
     "name": "stderr",
     "output_type": "stream",
     "text": [
      "100%|████████████████████████████████████████████████████████████████████████████████| 515/515 [00:12<00:00, 42.31it/s]\n"
     ]
    },
    {
     "name": "stdout",
     "output_type": "stream",
     "text": [
      "EPOCH: 139\n",
      "Training Loss: 0.004513995062324752  | Validation Loss: 0.0016976442436586964\n"
     ]
    },
    {
     "name": "stderr",
     "output_type": "stream",
     "text": [
      "100%|████████████████████████████████████████████████████████████████████████████████| 515/515 [00:12<00:00, 42.73it/s]\n"
     ]
    },
    {
     "name": "stdout",
     "output_type": "stream",
     "text": [
      "EPOCH: 140\n",
      "Training Loss: 0.004483222327131814  | Validation Loss: 0.0016889501397648978\n"
     ]
    },
    {
     "name": "stderr",
     "output_type": "stream",
     "text": [
      "100%|████████████████████████████████████████████████████████████████████████████████| 515/515 [00:12<00:00, 41.93it/s]\n"
     ]
    },
    {
     "name": "stdout",
     "output_type": "stream",
     "text": [
      "EPOCH: 141\n",
      "Training Loss: 0.0045076535011017785  | Validation Loss: 0.001713359313136017\n"
     ]
    },
    {
     "name": "stderr",
     "output_type": "stream",
     "text": [
      "100%|████████████████████████████████████████████████████████████████████████████████| 515/515 [00:12<00:00, 41.56it/s]\n"
     ]
    },
    {
     "name": "stdout",
     "output_type": "stream",
     "text": [
      "EPOCH: 142\n",
      "Training Loss: 0.004510852759613574  | Validation Loss: 0.0016333775255023629\n",
      "Stopping Model Early\n",
      "\n",
      "Test Loss: 0.0016393973840539958 \n",
      "Time to Train: 0:38:25.993741\n",
      "('14.49 MMac', '603.18 k')\n"
     ]
    },
    {
     "data": {
      "image/png": "[encoded data removed]",
      "text/plain": [
       "<Figure size 1100x400 with 3 Axes>"
      ]
     },
     "metadata": {},
     "output_type": "display_data"
    }
   ],
   "source": [
    "input_size = 4\n",
    "hidden_size = 128\n",
    "num_layers = 5\n",
    "batch_size = 3\n",
    "output_size = train_dataset.dataset.n_ahead\n",
    "\n",
    "trainLoader = DataLoader(train_dataset, batch_size=12, num_workers=8, pin_memory=True, shuffle=False)\n",
    "validLoader = DataLoader(valid_dataset, batch_size=12, num_workers=8, pin_memory=True, shuffle=False)\n",
    "testLoader = DataLoader(test_dataset, batch_size=12, num_workers=0, pin_memory=True, shuffle=True)\n",
    "\n",
    "model = BasicLSTM(input_size, hidden_size, num_layers, output_size)\n",
    "\n",
    "Trainer, mp = train_test_model(model, 0.001, trainLoader, validLoader, testLoader, EPOCHS=300, noPrint=False)\n",
    "print(mp)"
   ]
  },
  {
   "cell_type": "code",
   "execution_count": 21,
   "id": "38407a2d-6211-4866-9921-29e5acd3411d",
   "metadata": {},
   "outputs": [
    {
     "name": "stdout",
     "output_type": "stream",
     "text": [
      "(12,) torch.Size([12, 12, 4]) torch.Size([24, 4])\n"
     ]
    },
    {
     "data": {
      "image/png": "[encoded data removed]",
      "text/plain": [
       "<Figure size 640x480 with 1 Axes>"
      ]
     },
     "metadata": {},
     "output_type": "display_data"
    }
   ],
   "source": [
    "model_path = \"./models/pre-trained/EMG_Last.pt\"\n",
    "model = BasicLSTM(input_size, hidden_size, num_layers, output_size)\n",
    "model.load_state_dict(torch.load(model_path))\n",
    "\n",
    "for X, Y in testLoader:\n",
    "    X = X\n",
    "    Y = Y\n",
    "    pred = model(X).detach().numpy()\n",
    "    \n",
    "    print(pred[0,:,0].shape, Y.shape, X[0].shape)\n",
    "    \n",
    "    # Assume Extension \n",
    "    y_range = range(len(X[0]), len(X[0])+validLoader.dataset.dataset.n_ahead)\n",
    "\n",
    "    \n",
    "    # plt.plot(X[0,:].detach().cpu())\n",
    "    plt.plot(y_range, pred[0,:], 'b')\n",
    "    plt.plot(y_range, Y[0,:], 'g')\n",
    "    \n",
    "    # Create Line2D objects representing the lines\n",
    "    line_pred = plt.Line2D([], [], color='blue')\n",
    "    line_Y = plt.Line2D([], [], color='green')\n",
    "\n",
    "    # Create the legend using the Line2D objects and labels\n",
    "    plt.legend([line_pred, line_Y], [\"Prediction\", \"Actual\"])\n",
    "    \n",
    "    break"
   ]
  },
  {
   "cell_type": "code",
   "execution_count": 13,
   "id": "14f33623-4371-4e02-a155-2c5214381db1",
   "metadata": {},
   "outputs": [
    {
     "name": "stdout",
     "output_type": "stream",
     "text": [
      "torch.Size([3, 24, 4]) torch.Size([3, 12, 3])\n"
     ]
    }
   ],
   "source": [
    "for x, y in trainLoader:\n",
    "    print(x.shape, y.shape)\n",
    "    break\n"
   ]
  },
  {
   "cell_type": "code",
   "execution_count": 11,
   "id": "d7bfdf96-2562-4813-a54e-ae5b085c2df7",
   "metadata": {},
   "outputs": [
    {
     "data": {
      "text/plain": [
       "60"
      ]
     },
     "execution_count": 11,
     "metadata": {},
     "output_type": "execute_result"
    }
   ],
   "source": [
    "len(testLoader)"
   ]
  },
  {
   "cell_type": "code",
   "execution_count": 9,
   "id": "1b3f3e62-a824-48f6-bec4-9a8bc4de6b2a",
   "metadata": {},
   "outputs": [
    {
     "data": {
      "text/plain": [
       "3.962974854046147"
      ]
     },
     "execution_count": 9,
     "metadata": {},
     "output_type": "execute_result"
    }
   ],
   "source": [
    "max((total.values).reshape(-1))"
   ]
  },
  {
   "cell_type": "code",
   "execution_count": 10,
   "id": "91ba3fa4-898d-41ca-9c33-c189d08cbe86",
   "metadata": {},
   "outputs": [],
   "source": [
    "torch.save(Trainer.model.state_dict(), \"models/EMG_Last.pt\")"
   ]
  },
  {
   "cell_type": "code",
   "execution_count": null,
   "id": "0a264e29-e63a-4d89-b88d-ed47b5ffa1ce",
   "metadata": {},
   "outputs": [],
   "source": []
  }
 ],
 "metadata": {
  "kernelspec": {
   "display_name": "Python 3 (ipykernel)",
   "language": "python",
   "name": "python3"
  },
  "language_info": {
   "codemirror_mode": {
    "name": "ipython",
    "version": 3
   },
   "file_extension": ".py",
   "mimetype": "text/x-python",
   "name": "python",
   "nbconvert_exporter": "python",
   "pygments_lexer": "ipython3",
   "version": "3.10.9"
  }
 },
 "nbformat": 4,
 "nbformat_minor": 5
}
