{
 "cells": [
  {
   "cell_type": "code",
   "execution_count": 14,
   "id": "25b6d38d-1354-4efc-8824-72022196e77d",
   "metadata": {},
   "outputs": [],
   "source": [
    "import torch\n",
    "import torch.nn as nn\n",
    "import torch.nn.functional as F\n",
    "import numpy as np\n",
    "from tqdm import tqdm\n",
    "import matplotlib.pyplot as plt\n",
    "import pandas as pd\n",
    "from datetime import datetime\n",
    "from ptflops import get_model_complexity_info\n",
    "\n",
    "from torch.utils.data import random_split\n",
    "from torch.utils.data import TensorDataset, DataLoader\n",
    "from utils.Trainer import ModelTrainer\n",
    "\n",
    "device = \"cuda\" if torch.cuda.is_available() else \"cpu\""
   ]
  },
  {
   "cell_type": "code",
   "execution_count": 15,
   "id": "6c1b1180-cb59-4c4e-9f5e-68c8b3a644eb",
   "metadata": {},
   "outputs": [],
   "source": [
    "class BasicLSTM(nn.Module):\n",
    "    def __init__(self, input_size, hidden_size, num_layers, output_size):\n",
    "        super(BasicLSTM, self).__init__()\n",
    "        \n",
    "        self.hidden_size = hidden_size\n",
    "        self.num_layers = num_layers\n",
    "        self.output_size = output_size\n",
    "        \n",
    "        self.lstm = nn.LSTM(input_size, hidden_size, num_layers, batch_first=True)\n",
    "        self.fc = nn.Linear(hidden_size, output_size*4)\n",
    "        self.Drop = nn.Dropout(0.3)\n",
    "        \n",
    "    def forward(self, x):\n",
    "        # Initialize hidden state with zeros\n",
    "        h0 = torch.zeros(self.num_layers, x.size(0), self.hidden_size).to(x.device)\n",
    "        \n",
    "        # Initialize cell state with zeros\n",
    "        c0 = torch.zeros(self.num_layers, x.size(0), self.hidden_size).to(x.device)\n",
    "        \n",
    "        out, _ = self.lstm(x, (h0, c0))\n",
    "        \n",
    "        out = self.Drop(out)\n",
    "        out = self.fc(out[:, -1, :])\n",
    "        out = out.view(-1, 4, self.output_size)  # reshape the output to [batch_size, output_size, 4]\n",
    "        out = out.permute(0, 2, 1)\n",
    "        \n",
    "        return out"
   ]
  },
  {
   "cell_type": "code",
   "execution_count": 16,
   "id": "c542cbe9-8713-4db4-b85e-15e0953fb14a",
   "metadata": {},
   "outputs": [],
   "source": [
    "class EMG_dataset(torch.utils.data.Dataset):\n",
    "    def __init__(self, csv, lag, n_ahead):\n",
    "        self.csv = csv\n",
    "        self.lag = lag\n",
    "        self.n_ahead = n_ahead\n",
    "\n",
    "    def __len__(self):\n",
    "        return len(self.csv) - self.lag - self.n_ahead\n",
    "\n",
    "    def __getitem__(self, idx):\n",
    "        X = self.csv.iloc[idx:idx+self.lag, :4].values\n",
    "        Y = self.csv.iloc[idx+self.lag:idx+self.lag+self.n_ahead, 4:].values\n",
    "        \n",
    "        return (torch.Tensor(X), torch.Tensor(Y))"
   ]
  },
  {
   "cell_type": "code",
   "execution_count": 17,
   "id": "0d117e6b-3162-449d-9b63-e01d1dd9f993",
   "metadata": {},
   "outputs": [],
   "source": [
    "def train_test_model(model, lr, trainLoader, validateLoader, testLoader, EPOCHS, noPrint=False):\n",
    "    Trainer = ModelTrainer(model, nn.MSELoss(), torch.optim.Adam(model.parameters(), lr=lr), nn.MSELoss(), \"Regression\",  device, 0, noPrint=noPrint)\n",
    "    t0 = datetime.now()\n",
    "    Trainer.fit(trainLoader, validateLoader, EPOCHS)\n",
    "    t1 = datetime.now()\n",
    "    Trainer.Test_Model(testLoader)\n",
    "    \n",
    "    if not noPrint:\n",
    "        print(\"\\nTest Loss:\", Trainer.Metrics[\"Test Loss\"], \"\\nTime to Train:\", t1 - t0)\n",
    "        Trainer.Graph_Metrics()\n",
    "    \n",
    "    macs, params = get_model_complexity_info(Trainer.model, (24, 4), as_strings=True, print_per_layer_stat=False, verbose=True)\n",
    "    Trainer.model.to(\"cpu\")\n",
    "    \n",
    "    return Trainer, (macs, params)"
   ]
  },
  {
   "cell_type": "code",
   "execution_count": 18,
   "id": "9af288f4-041d-403e-8d82-bf06f1c5d715",
   "metadata": {},
   "outputs": [
    {
     "data": {
      "text/html": [
       "<div>\n",
       "<style scoped>\n",
       "    .dataframe tbody tr th:only-of-type {\n",
       "        vertical-align: middle;\n",
       "    }\n",
       "\n",
       "    .dataframe tbody tr th {\n",
       "        vertical-align: top;\n",
       "    }\n",
       "\n",
       "    .dataframe thead th {\n",
       "        text-align: right;\n",
       "    }\n",
       "</style>\n",
       "<table border=\"1\" class=\"dataframe\">\n",
       "  <thead>\n",
       "    <tr style=\"text-align: right;\">\n",
       "      <th></th>\n",
       "      <th>L_Quad: EMG 1 (IM) [V]</th>\n",
       "      <th>L_Hamstring: EMG 2 (IM) [V]</th>\n",
       "      <th>L_AntTib: EMG 3 (IM) [V]</th>\n",
       "      <th>L_Calf: EMG 4 (IM) [V]</th>\n",
       "      <th>R_Quad: EMG 5 (IM) [V]</th>\n",
       "      <th>R_Hamstring: EMG 6 (IM) [V]</th>\n",
       "      <th>R_AntTib: EMG 7 (IM) [V]</th>\n",
       "      <th>R_Calf: EMG 8 (IM) [V]</th>\n",
       "    </tr>\n",
       "  </thead>\n",
       "  <tbody>\n",
       "    <tr>\n",
       "      <th>0</th>\n",
       "      <td>0.111732</td>\n",
       "      <td>0.002260</td>\n",
       "      <td>0.111354</td>\n",
       "      <td>0.095514</td>\n",
       "      <td>0.082478</td>\n",
       "      <td>0.034568</td>\n",
       "      <td>0.014811</td>\n",
       "      <td>0.107523</td>\n",
       "    </tr>\n",
       "    <tr>\n",
       "      <th>1</th>\n",
       "      <td>0.106569</td>\n",
       "      <td>0.174243</td>\n",
       "      <td>0.440934</td>\n",
       "      <td>0.071500</td>\n",
       "      <td>0.120523</td>\n",
       "      <td>0.323094</td>\n",
       "      <td>0.035016</td>\n",
       "      <td>0.276876</td>\n",
       "    </tr>\n",
       "    <tr>\n",
       "      <th>2</th>\n",
       "      <td>0.085491</td>\n",
       "      <td>0.366960</td>\n",
       "      <td>0.077289</td>\n",
       "      <td>0.020765</td>\n",
       "      <td>0.142317</td>\n",
       "      <td>0.102857</td>\n",
       "      <td>0.052945</td>\n",
       "      <td>0.009403</td>\n",
       "    </tr>\n",
       "    <tr>\n",
       "      <th>3</th>\n",
       "      <td>0.099687</td>\n",
       "      <td>0.206314</td>\n",
       "      <td>0.367075</td>\n",
       "      <td>0.150406</td>\n",
       "      <td>0.181044</td>\n",
       "      <td>0.076396</td>\n",
       "      <td>0.017372</td>\n",
       "      <td>0.231190</td>\n",
       "    </tr>\n",
       "    <tr>\n",
       "      <th>4</th>\n",
       "      <td>0.006346</td>\n",
       "      <td>0.057149</td>\n",
       "      <td>0.011427</td>\n",
       "      <td>0.020112</td>\n",
       "      <td>0.161338</td>\n",
       "      <td>0.155786</td>\n",
       "      <td>0.071158</td>\n",
       "      <td>0.202951</td>\n",
       "    </tr>\n",
       "    <tr>\n",
       "      <th>...</th>\n",
       "      <td>...</td>\n",
       "      <td>...</td>\n",
       "      <td>...</td>\n",
       "      <td>...</td>\n",
       "      <td>...</td>\n",
       "      <td>...</td>\n",
       "      <td>...</td>\n",
       "      <td>...</td>\n",
       "    </tr>\n",
       "    <tr>\n",
       "      <th>3577</th>\n",
       "      <td>0.021143</td>\n",
       "      <td>0.145937</td>\n",
       "      <td>0.032054</td>\n",
       "      <td>0.004480</td>\n",
       "      <td>0.068054</td>\n",
       "      <td>0.466617</td>\n",
       "      <td>0.049029</td>\n",
       "      <td>0.071574</td>\n",
       "    </tr>\n",
       "    <tr>\n",
       "      <th>3578</th>\n",
       "      <td>0.000854</td>\n",
       "      <td>0.250712</td>\n",
       "      <td>0.057858</td>\n",
       "      <td>0.126241</td>\n",
       "      <td>0.016629</td>\n",
       "      <td>0.378969</td>\n",
       "      <td>0.034104</td>\n",
       "      <td>0.033434</td>\n",
       "    </tr>\n",
       "    <tr>\n",
       "      <th>3579</th>\n",
       "      <td>0.050638</td>\n",
       "      <td>0.073593</td>\n",
       "      <td>0.016769</td>\n",
       "      <td>0.033509</td>\n",
       "      <td>1.000000</td>\n",
       "      <td>0.156686</td>\n",
       "      <td>0.072951</td>\n",
       "      <td>0.065664</td>\n",
       "    </tr>\n",
       "    <tr>\n",
       "      <th>3580</th>\n",
       "      <td>0.059347</td>\n",
       "      <td>0.068247</td>\n",
       "      <td>0.024320</td>\n",
       "      <td>0.084355</td>\n",
       "      <td>0.176838</td>\n",
       "      <td>0.015171</td>\n",
       "      <td>0.037211</td>\n",
       "      <td>0.136361</td>\n",
       "    </tr>\n",
       "    <tr>\n",
       "      <th>3581</th>\n",
       "      <td>0.179148</td>\n",
       "      <td>0.089808</td>\n",
       "      <td>0.025954</td>\n",
       "      <td>0.009350</td>\n",
       "      <td>0.255950</td>\n",
       "      <td>0.178975</td>\n",
       "      <td>0.029054</td>\n",
       "      <td>0.130835</td>\n",
       "    </tr>\n",
       "  </tbody>\n",
       "</table>\n",
       "<p>3582 rows × 8 columns</p>\n",
       "</div>"
      ],
      "text/plain": [
       "      L_Quad: EMG 1 (IM) [V]  L_Hamstring: EMG 2 (IM) [V]  \\\n",
       "0                   0.111732                     0.002260   \n",
       "1                   0.106569                     0.174243   \n",
       "2                   0.085491                     0.366960   \n",
       "3                   0.099687                     0.206314   \n",
       "4                   0.006346                     0.057149   \n",
       "...                      ...                          ...   \n",
       "3577                0.021143                     0.145937   \n",
       "3578                0.000854                     0.250712   \n",
       "3579                0.050638                     0.073593   \n",
       "3580                0.059347                     0.068247   \n",
       "3581                0.179148                     0.089808   \n",
       "\n",
       "      L_AntTib: EMG 3 (IM) [V]  L_Calf: EMG 4 (IM) [V]  \\\n",
       "0                     0.111354                0.095514   \n",
       "1                     0.440934                0.071500   \n",
       "2                     0.077289                0.020765   \n",
       "3                     0.367075                0.150406   \n",
       "4                     0.011427                0.020112   \n",
       "...                        ...                     ...   \n",
       "3577                  0.032054                0.004480   \n",
       "3578                  0.057858                0.126241   \n",
       "3579                  0.016769                0.033509   \n",
       "3580                  0.024320                0.084355   \n",
       "3581                  0.025954                0.009350   \n",
       "\n",
       "      R_Quad: EMG 5 (IM) [V]  R_Hamstring: EMG 6 (IM) [V]  \\\n",
       "0                   0.082478                     0.034568   \n",
       "1                   0.120523                     0.323094   \n",
       "2                   0.142317                     0.102857   \n",
       "3                   0.181044                     0.076396   \n",
       "4                   0.161338                     0.155786   \n",
       "...                      ...                          ...   \n",
       "3577                0.068054                     0.466617   \n",
       "3578                0.016629                     0.378969   \n",
       "3579                1.000000                     0.156686   \n",
       "3580                0.176838                     0.015171   \n",
       "3581                0.255950                     0.178975   \n",
       "\n",
       "      R_AntTib: EMG 7 (IM) [V]  R_Calf: EMG 8 (IM) [V]  \n",
       "0                     0.014811                0.107523  \n",
       "1                     0.035016                0.276876  \n",
       "2                     0.052945                0.009403  \n",
       "3                     0.017372                0.231190  \n",
       "4                     0.071158                0.202951  \n",
       "...                        ...                     ...  \n",
       "3577                  0.049029                0.071574  \n",
       "3578                  0.034104                0.033434  \n",
       "3579                  0.072951                0.065664  \n",
       "3580                  0.037211                0.136361  \n",
       "3581                  0.029054                0.130835  \n",
       "\n",
       "[3582 rows x 8 columns]"
      ]
     },
     "metadata": {},
     "output_type": "display_data"
    },
    {
     "name": "stdout",
     "output_type": "stream",
     "text": [
      "torch.Size([12, 24, 4]) torch.Size([12, 12, 4])\n"
     ]
    },
    {
     "data": {
      "image/png": "[encoded data removed]",
      "text/plain": [
       "<Figure size 640x480 with 1 Axes>"
      ]
     },
     "metadata": {},
     "output_type": "display_data"
    }
   ],
   "source": [
    "total = pd.read_csv(\"datasets/processed/total.csv\").fillna(0, inplace=False)\n",
    "display(total)\n",
    "\n",
    "dataset = EMG_dataset(total, lag=24, n_ahead=12)\n",
    "\n",
    "train_dataset, valid_dataset, test_dataset = random_split(dataset, [0.7, 0.1, 0.2])\n",
    "trainLoader = DataLoader(train_dataset, batch_size=12, num_workers=0, pin_memory=True, shuffle=False)\n",
    "validLoader = DataLoader(valid_dataset, batch_size=12, num_workers=0, pin_memory=True, shuffle=False)\n",
    "testLoader = DataLoader(test_dataset, batch_size=12, num_workers=0, pin_memory=True, shuffle=True)\n",
    "\n",
    "for X, Y in trainLoader:\n",
    "    print(X.shape, Y.shape)\n",
    "    \n",
    "    # Assume Extension \n",
    "    y_range = range(len(X[0]), len(X[0])+validLoader.dataset.dataset.n_ahead)\n",
    "    \n",
    "    # First Batch\n",
    "    plt.plot(X[0][:,0])\n",
    "    plt.plot(y_range, Y[0][:,0])\n",
    "    break"
   ]
  },
  {
   "cell_type": "code",
   "execution_count": 6,
   "id": "b1891512-566d-4587-9a65-30450216c6f5",
   "metadata": {},
   "outputs": [],
   "source": [
    "def test_parameters(EPOCHS=100, lr=0.001):\n",
    "    \n",
    "    dataset = EMG_dataset(total, lag=24, n_ahead=12)\n",
    "\n",
    "    train_dataset, valid_dataset, test_dataset = random_split(dataset, [0.7, 0.1, 0.2])\n",
    "    \n",
    "    \n",
    "    input_size = 4\n",
    "    hidden_sizes = [64, 96, 128]\n",
    "    num_layers = [3, 4, 5]\n",
    "    batch_sizes = [2, 3, 4]\n",
    "    output_size = train_dataset.dataset.n_ahead\n",
    "    \n",
    "    results = []\n",
    "    trainers = []\n",
    "    \n",
    "    for hidden_size in hidden_sizes:\n",
    "        for num_layer in num_layers:\n",
    "            for batch_size in batch_sizes:\n",
    "            \n",
    "                trainLoader = DataLoader(train_dataset, batch_size=batch_size, shuffle=False)\n",
    "                validLoader = DataLoader(valid_dataset, batch_size=batch_size, shuffle=False)\n",
    "                testLoader = DataLoader(test_dataset, batch_size=batch_size, shuffle=True)\n",
    "\n",
    "                model = BasicLSTM(input_size, hidden_size, num_layer, output_size)\n",
    "\n",
    "                Trainer, mp = train_test_model(model, lr, trainLoader, validLoader, testLoader, EPOCHS, noPrint=True)\n",
    "                trainers.append(Trainer)\n",
    "                \n",
    "                test_loss = Trainer.Metrics[\"Test Loss\"]\n",
    "                results.append(f\"Hidden: {hidden_size} | Layers: {num_layer} | Batch Size: {batch_size} | Macs: {mp[0]} | Params: {mp[1]} | Test Loss: {test_loss}\")\n",
    "                print(results[-1])\n",
    "                               \n",
    "    results = np.array(results)\n",
    "    \n",
    "    return results, trainers"
   ]
  },
  {
   "cell_type": "code",
   "execution_count": 11,
   "id": "60b603e6-4231-418e-9c56-7cf2acd944f6",
   "metadata": {
    "scrolled": true,
    "tags": []
   },
   "outputs": [
    {
     "name": "stdout",
     "output_type": "stream",
     "text": [
      "Hidden: 64 | Layers: 3 | Batch Size: 2 | Macs: 2.08 MMac | Params: 87.6 k | Test Loss: 0.03852829836886114\n",
      "Hidden: 64 | Layers: 3 | Batch Size: 3 | Macs: 2.08 MMac | Params: 87.6 k | Test Loss: 0.05379110254064391\n",
      "Hidden: 64 | Layers: 3 | Batch Size: 4 | Macs: 2.08 MMac | Params: 87.6 k | Test Loss: 0.05771690192684699\n",
      "Hidden: 64 | Layers: 4 | Batch Size: 2 | Macs: 2.89 MMac | Params: 120.88 k | Test Loss: 0.027474510929429194\n",
      "Hidden: 64 | Layers: 4 | Batch Size: 3 | Macs: 2.89 MMac | Params: 120.88 k | Test Loss: 0.0301073888780447\n",
      "Hidden: 64 | Layers: 4 | Batch Size: 4 | Macs: 2.89 MMac | Params: 120.88 k | Test Loss: 0.03353911740810014\n",
      "Hidden: 64 | Layers: 5 | Batch Size: 2 | Macs: 3.7 MMac | Params: 154.16 k | Test Loss: 0.19420315852047693\n",
      "Hidden: 64 | Layers: 5 | Batch Size: 3 | Macs: 3.7 MMac | Params: 154.16 k | Test Loss: 0.19426139073155602\n",
      "Hidden: 64 | Layers: 5 | Batch Size: 4 | Macs: 3.7 MMac | Params: 154.16 k | Test Loss: 0.027084436435043144\n",
      "Hidden: 96 | Layers: 3 | Batch Size: 2 | Macs: 4.59 MMac | Params: 192.82 k | Test Loss: 0.018354135989145915\n",
      "Hidden: 96 | Layers: 3 | Batch Size: 3 | Macs: 4.59 MMac | Params: 192.82 k | Test Loss: 0.023365079570671677\n",
      "Hidden: 96 | Layers: 3 | Batch Size: 4 | Macs: 4.59 MMac | Params: 192.82 k | Test Loss: 0.02599003931423754\n",
      "Hidden: 96 | Layers: 4 | Batch Size: 2 | Macs: 6.4 MMac | Params: 267.31 k | Test Loss: 0.02259094557055915\n",
      "Hidden: 96 | Layers: 4 | Batch Size: 3 | Macs: 6.4 MMac | Params: 267.31 k | Test Loss: 0.015441903353271856\n",
      "Hidden: 96 | Layers: 4 | Batch Size: 4 | Macs: 6.4 MMac | Params: 267.31 k | Test Loss: 0.015215227144948218\n",
      "Hidden: 96 | Layers: 5 | Batch Size: 2 | Macs: 8.21 MMac | Params: 341.81 k | Test Loss: 0.028138752559750853\n",
      "Hidden: 96 | Layers: 5 | Batch Size: 3 | Macs: 8.21 MMac | Params: 341.81 k | Test Loss: 0.01905760160580529\n",
      "Hidden: 96 | Layers: 5 | Batch Size: 4 | Macs: 8.21 MMac | Params: 341.81 k | Test Loss: 0.016250657833317358\n",
      "Hidden: 128 | Layers: 3 | Batch Size: 2 | Macs: 8.09 MMac | Params: 338.99 k | Test Loss: 0.01571980871548745\n",
      "Hidden: 128 | Layers: 3 | Batch Size: 3 | Macs: 8.09 MMac | Params: 338.99 k | Test Loss: 0.014225505634293527\n",
      "Hidden: 128 | Layers: 3 | Batch Size: 4 | Macs: 8.09 MMac | Params: 338.99 k | Test Loss: 0.01518362178990429\n",
      "Hidden: 128 | Layers: 4 | Batch Size: 2 | Macs: 11.29 MMac | Params: 471.09 k | Test Loss: 0.011967644840478898\n",
      "Hidden: 128 | Layers: 4 | Batch Size: 3 | Macs: 11.29 MMac | Params: 471.09 k | Test Loss: 0.013977898239602143\n",
      "Hidden: 128 | Layers: 4 | Batch Size: 4 | Macs: 11.29 MMac | Params: 471.09 k | Test Loss: 0.01380843789253928\n",
      "Hidden: 128 | Layers: 5 | Batch Size: 2 | Macs: 14.49 MMac | Params: 603.18 k | Test Loss: 0.014370669010029712\n",
      "Hidden: 128 | Layers: 5 | Batch Size: 3 | Macs: 14.49 MMac | Params: 603.18 k | Test Loss: 0.01119589042665146\n",
      "Hidden: 128 | Layers: 5 | Batch Size: 4 | Macs: 14.49 MMac | Params: 603.18 k | Test Loss: 0.012140138077371743\n"
     ]
    }
   ],
   "source": [
    "re, T = test_parameters(200)"
   ]
  },
  {
   "cell_type": "markdown",
   "id": "2a604feb-c1ee-4caf-88bb-2b352c61b186",
   "metadata": {},
   "source": [
    "Hidden: 64 | Layers: 2 | Batch Size: 4 | Macs: 1.26 MMac | Params: 54.32 k | Test Loss: 0.06733934581279755\n",
    "Hidden: 64 | Layers: 2 | Batch Size: 16 | Macs: 1.26 MMac | Params: 54.32 k | Test Loss: 0.0748613253235817\n",
    "Hidden: 64 | Layers: 2 | Batch Size: 32 | Macs: 1.26 MMac | Params: 54.32 k | Test Loss: 0.08276855945587158\n",
    "Hidden: 64 | Layers: 4 | Batch Size: 4 | Macs: 2.89 MMac | Params: 120.88 k | Test Loss: 0.05407020077109337\n",
    "Hidden: 64 | Layers: 4 | Batch Size: 16 | Macs: 2.89 MMac | Params: 120.88 k | Test Loss: 0.0663127526640892\n",
    "Hidden: 64 | Layers: 4 | Batch Size: 32 | Macs: 2.89 MMac | Params: 120.88 k | Test Loss: 0.07040233165025711\n",
    "Hidden: 64 | Layers: 6 | Batch Size: 4 | Macs: 4.52 MMac | Params: 187.44 k | Test Loss: 0.07566986978054047\n",
    "Hidden: 64 | Layers: 6 | Batch Size: 16 | Macs: 4.52 MMac | Params: 187.44 k | Test Loss: 0.19122886657714844\n",
    "Hidden: 64 | Layers: 6 | Batch Size: 32 | Macs: 4.52 MMac | Params: 187.44 k | Test Loss: 0.06731513887643814\n",
    "Hidden: 128 | Layers: 2 | Batch Size: 4 | Macs: 4.88 MMac | Params: 206.9 k | Test Loss: 0.04985114932060242\n",
    "Hidden: 128 | Layers: 2 | Batch Size: 16 | Macs: 4.88 MMac | Params: 206.9 k | Test Loss: 0.05833622068166733\n",
    "Hidden: 128 | Layers: 2 | Batch Size: 32 | Macs: 4.88 MMac | Params: 206.9 k | Test Loss: 0.06787940114736557\n",
    "Hidden: 128 | Layers: 4 | Batch Size: 4 | Macs: 11.29 MMac | Params: 471.09 k | Test Loss: 0.02661198005080223\n",
    "Hidden: 128 | Layers: 4 | Batch Size: 16 | Macs: 11.29 MMac | Params: 471.09 k | Test Loss: 0.04889538139104843\n",
    "Hidden: 128 | Layers: 4 | Batch Size: 32 | Macs: 11.29 MMac | Params: 471.09 k | Test Loss: 0.05771384760737419\n",
    "Hidden: 128 | Layers: 6 | Batch Size: 4 | Macs: 17.69 MMac | Params: 735.28 k | Test Loss: 0.19148249924182892\n",
    "Hidden: 128 | Layers: 6 | Batch Size: 16 | Macs: 17.69 MMac | Params: 735.28 k | Test Loss: 0.19151681661605835\n",
    "Hidden: 128 | Layers: 6 | Batch Size: 32 | Macs: 17.69 MMac | Params: 735.28 k | Test Loss: 0.05349093675613403\n",
    "Hidden: 256 | Layers: 2 | Batch Size: 4 | Macs: 19.21 MMac | Params: 806.96 k | Test Loss: 0.024070965126156807\n",
    "Hidden: 256 | Layers: 2 | Batch Size: 16 | Macs: 19.21 MMac | Params: 806.96 k | Test Loss: 0.046882450580596924\n",
    "Hidden: 256 | Layers: 2 | Batch Size: 32 | Macs: 19.21 MMac | Params: 806.96 k | Test Loss: 0.05703727528452873\n",
    "Hidden: 256 | Layers: 4 | Batch Size: 4 | Macs: 44.59 MMac | Params: 1.86 M | Test Loss: 0.014045578427612782\n",
    "Hidden: 256 | Layers: 4 | Batch Size: 16 | Macs: 44.59 MMac | Params: 1.86 M | Test Loss: 0.03199911490082741\n",
    "Hidden: 256 | Layers: 4 | Batch Size: 32 | Macs: 44.59 MMac | Params: 1.86 M | Test Loss: 0.05679785832762718\n",
    "Hidden: 256 | Layers: 6 | Batch Size: 4 | Macs: 69.98 MMac | Params: 2.91 M | Test Loss: 0.01443294994533062\n",
    "Hidden: 256 | Layers: 6 | Batch Size: 16 | Macs: 69.98 MMac | Params: 2.91 M | Test Loss: 0.19122442603111267\n",
    "Hidden: 256 | Layers: 6 | Batch Size: 32 | Macs: 69.98 MMac | Params: 2.91 M | Test Loss: 0.04160312935709953\n",
    "\n",
    "\n",
    "Hidden: 64 | Layers: 3 | Batch Size: 2 | Macs: 2.08 MMac | Params: 87.6 k | Test Loss: 0.03852829836886114 -------------- 22\n",
    "Hidden: 64 | Layers: 3 | Batch Size: 3 | Macs: 2.08 MMac | Params: 87.6 k | Test Loss: 0.05379110254064391\n",
    "Hidden: 64 | Layers: 3 | Batch Size: 4 | Macs: 2.08 MMac | Params: 87.6 k | Test Loss: 0.05771690192684699\n",
    "Hidden: 64 | Layers: 4 | Batch Size: 2 | Macs: 2.89 MMac | Params: 120.88 k | Test Loss: 0.027474510929429194 ----------- 44 \n",
    "Hidden: 64 | Layers: 4 | Batch Size: 3 | Macs: 2.89 MMac | Params: 120.88 k | Test Loss: 0.0301073888780447\n",
    "Hidden: 64 | Layers: 4 | Batch Size: 4 | Macs: 2.89 MMac | Params: 120.88 k | Test Loss: 0.03353911740810014\n",
    "Hidden: 64 | Layers: 5 | Batch Size: 2 | Macs: 3.7 MMac | Params: 154.16 k | Test Loss: 0.19420315852047693 \n",
    "Hidden: 64 | Layers: 5 | Batch Size: 3 | Macs: 3.7 MMac | Params: 154.16 k | Test Loss: 0.19426139073155602\n",
    "Hidden: 64 | Layers: 5 | Batch Size: 4 | Macs: 3.7 MMac | Params: 154.16 k | Test Loss: 0.027084436435043144\n",
    "Hidden: 96 | Layers: 3 | Batch Size: 2 | Macs: 4.59 MMac | Params: 192.82 k | Test Loss: 0.018354135989145915 ----------- 105 params/loss\n",
    "Hidden: 96 | Layers: 3 | Batch Size: 3 | Macs: 4.59 MMac | Params: 192.82 k | Test Loss: 0.023365079570671677\n",
    "Hidden: 96 | Layers: 3 | Batch Size: 4 | Macs: 4.59 MMac | Params: 192.82 k | Test Loss: 0.02599003931423754\n",
    "Hidden: 96 | Layers: 4 | Batch Size: 2 | Macs: 6.4 MMac | Params: 267.31 k | Test Loss: 0.02259094557055915 \n",
    "Hidden: 96 | Layers: 4 | Batch Size: 3 | Macs: 6.4 MMac | Params: 267.31 k | Test Loss: 0.015441903353271856 ------------ 178\n",
    "Hidden: 96 | Layers: 4 | Batch Size: 4 | Macs: 6.4 MMac | Params: 267.31 k | Test Loss: 0.015215227144948218\n",
    "Hidden: 96 | Layers: 5 | Batch Size: 2 | Macs: 8.21 MMac | Params: 341.81 k | Test Loss: 0.028138752559750853\n",
    "Hidden: 96 | Layers: 5 | Batch Size: 3 | Macs: 8.21 MMac | Params: 341.81 k | Test Loss: 0.01905760160580529\n",
    "Hidden: 96 | Layers: 5 | Batch Size: 4 | Macs: 8.21 MMac | Params: 341.81 k | Test Loss: 0.016250657833317358\n",
    "Hidden: 128 | Layers: 3 | Batch Size: 2 | Macs: 8.09 MMac | Params: 338.99 k | Test Loss: 0.01571980871548745\n",
    "Hidden: 128 | Layers: 3 | Batch Size: 3 | Macs: 8.09 MMac | Params: 338.99 k | Test Loss: 0.014225505634293527 ----------- 238\n",
    "Hidden: 128 | Layers: 3 | Batch Size: 4 | Macs: 8.09 MMac | Params: 338.99 k | Test Loss: 0.01518362178990429\n",
    "Hidden: 128 | Layers: 4 | Batch Size: 2 | Macs: 11.29 MMac | Params: 471.09 k | Test Loss: 0.011967644840478898\n",
    "Hidden: 128 | Layers: 4 | Batch Size: 3 | Macs: 11.29 MMac | Params: 471.09 k | Test Loss: 0.013977898239602143\n",
    "Hidden: 128 | Layers: 4 | Batch Size: 4 | Macs: 11.29 MMac | Params: 471.09 k | Test Loss: 0.01380843789253928\n",
    "Hidden: 128 | Layers: 5 | Batch Size: 2 | Macs: 14.49 MMac | Params: 603.18 k | Test Loss: 0.014370669010029712\n",
    "Hidden: 128 | Layers: 5 | Batch Size: 3 | Macs: 14.49 MMac | Params: 603.18 k | Test Loss: 0.01119589042665146 ------------- 543\n",
    "Hidden: 128 | Layers: 5 | Batch Size: 4 | Macs: 14.49 MMac | Params: 603.18 k | Test Loss: 0.012140138077371743\n"
   ]
  },
  {
   "cell_type": "code",
   "execution_count": 20,
   "id": "2c2e9f23-1b80-43c6-9d49-eac03b3b2db0",
   "metadata": {
    "scrolled": true,
    "tags": []
   },
   "outputs": [
    {
     "name": "stderr",
     "output_type": "stream",
     "text": [
      "100%|███████████████████████████████████████████████████████████████████████████████| 828/828 [00:04<00:00, 167.88it/s]\n"
     ]
    },
    {
     "name": "stdout",
     "output_type": "stream",
     "text": [
      "EPOCH: 1\n",
      "Training Loss: 0.016783881818331275  | Validation Loss: 0.017281697656548883\n"
     ]
    },
    {
     "name": "stderr",
     "output_type": "stream",
     "text": [
      "100%|███████████████████████████████████████████████████████████████████████████████| 828/828 [00:04<00:00, 183.39it/s]\n"
     ]
    },
    {
     "name": "stdout",
     "output_type": "stream",
     "text": [
      "EPOCH: 2\n",
      "Training Loss: 0.01609276749243159  | Validation Loss: 0.0170361007705836\n"
     ]
    },
    {
     "name": "stderr",
     "output_type": "stream",
     "text": [
      "100%|███████████████████████████████████████████████████████████████████████████████| 828/828 [00:04<00:00, 183.13it/s]\n"
     ]
    },
    {
     "name": "stdout",
     "output_type": "stream",
     "text": [
      "EPOCH: 3\n",
      "Training Loss: 0.015810261805010915  | Validation Loss: 0.016759287127909268\n"
     ]
    },
    {
     "name": "stderr",
     "output_type": "stream",
     "text": [
      "100%|███████████████████████████████████████████████████████████████████████████████| 828/828 [00:04<00:00, 186.09it/s]\n"
     ]
    },
    {
     "name": "stdout",
     "output_type": "stream",
     "text": [
      "EPOCH: 4\n",
      "Training Loss: 0.015592045884619913  | Validation Loss: 0.016490846532949452\n"
     ]
    },
    {
     "name": "stderr",
     "output_type": "stream",
     "text": [
      "100%|███████████████████████████████████████████████████████████████████████████████| 828/828 [00:04<00:00, 180.37it/s]\n"
     ]
    },
    {
     "name": "stdout",
     "output_type": "stream",
     "text": [
      "EPOCH: 5\n",
      "Training Loss: 0.015437482204963115  | Validation Loss: 0.016280036857667362\n"
     ]
    },
    {
     "name": "stderr",
     "output_type": "stream",
     "text": [
      "100%|███████████████████████████████████████████████████████████████████████████████| 828/828 [00:04<00:00, 180.33it/s]\n"
     ]
    },
    {
     "name": "stdout",
     "output_type": "stream",
     "text": [
      "EPOCH: 6\n",
      "Training Loss: 0.015276289579867956  | Validation Loss: 0.016246895637300054\n"
     ]
    },
    {
     "name": "stderr",
     "output_type": "stream",
     "text": [
      "100%|███████████████████████████████████████████████████████████████████████████████| 828/828 [00:04<00:00, 178.81it/s]\n"
     ]
    },
    {
     "name": "stdout",
     "output_type": "stream",
     "text": [
      "EPOCH: 7\n",
      "Training Loss: 0.015128553142559665  | Validation Loss: 0.015917141783698383\n"
     ]
    },
    {
     "name": "stderr",
     "output_type": "stream",
     "text": [
      "100%|███████████████████████████████████████████████████████████████████████████████| 828/828 [00:04<00:00, 181.64it/s]\n"
     ]
    },
    {
     "name": "stdout",
     "output_type": "stream",
     "text": [
      "EPOCH: 8\n",
      "Training Loss: 0.015001538761886925  | Validation Loss: 0.015842510462280805\n"
     ]
    },
    {
     "name": "stderr",
     "output_type": "stream",
     "text": [
      "100%|███████████████████████████████████████████████████████████████████████████████| 828/828 [00:04<00:00, 183.96it/s]\n"
     ]
    },
    {
     "name": "stdout",
     "output_type": "stream",
     "text": [
      "EPOCH: 9\n",
      "Training Loss: 0.014835886095969933  | Validation Loss: 0.01577552776562713\n"
     ]
    },
    {
     "name": "stderr",
     "output_type": "stream",
     "text": [
      "100%|███████████████████████████████████████████████████████████████████████████████| 828/828 [00:04<00:00, 177.13it/s]\n"
     ]
    },
    {
     "name": "stdout",
     "output_type": "stream",
     "text": [
      "EPOCH: 10\n",
      "Training Loss: 0.014645345160931097  | Validation Loss: 0.015607449557569068\n"
     ]
    },
    {
     "name": "stderr",
     "output_type": "stream",
     "text": [
      "100%|███████████████████████████████████████████████████████████████████████████████| 828/828 [00:04<00:00, 171.41it/s]\n"
     ]
    },
    {
     "name": "stdout",
     "output_type": "stream",
     "text": [
      "EPOCH: 11\n",
      "Training Loss: 0.014398425129120764  | Validation Loss: 0.015226959542892242\n"
     ]
    },
    {
     "name": "stderr",
     "output_type": "stream",
     "text": [
      "100%|███████████████████████████████████████████████████████████████████████████████| 828/828 [00:04<00:00, 182.12it/s]\n"
     ]
    },
    {
     "name": "stdout",
     "output_type": "stream",
     "text": [
      "EPOCH: 12\n",
      "Training Loss: 0.01419795574316674  | Validation Loss: 0.014936149005888629\n"
     ]
    },
    {
     "name": "stderr",
     "output_type": "stream",
     "text": [
      "100%|███████████████████████████████████████████████████████████████████████████████| 828/828 [00:04<00:00, 180.71it/s]\n"
     ]
    },
    {
     "name": "stdout",
     "output_type": "stream",
     "text": [
      "EPOCH: 13\n",
      "Training Loss: 0.013852084758815216  | Validation Loss: 0.014443400864473592\n"
     ]
    },
    {
     "name": "stderr",
     "output_type": "stream",
     "text": [
      "100%|███████████████████████████████████████████████████████████████████████████████| 828/828 [00:04<00:00, 184.43it/s]\n"
     ]
    },
    {
     "name": "stdout",
     "output_type": "stream",
     "text": [
      "EPOCH: 14\n",
      "Training Loss: 0.013555509541329933  | Validation Loss: 0.014095307860555033\n"
     ]
    },
    {
     "name": "stderr",
     "output_type": "stream",
     "text": [
      "100%|███████████████████████████████████████████████████████████████████████████████| 828/828 [00:04<00:00, 179.94it/s]\n"
     ]
    },
    {
     "name": "stdout",
     "output_type": "stream",
     "text": [
      "EPOCH: 15\n",
      "Training Loss: 0.013162535645072191  | Validation Loss: 0.013726756576511819\n"
     ]
    },
    {
     "name": "stderr",
     "output_type": "stream",
     "text": [
      "100%|███████████████████████████████████████████████████████████████████████████████| 828/828 [00:05<00:00, 161.23it/s]\n"
     ]
    },
    {
     "name": "stdout",
     "output_type": "stream",
     "text": [
      "EPOCH: 16\n",
      "Training Loss: 0.012772002695791946  | Validation Loss: 0.013376447391869911\n"
     ]
    },
    {
     "name": "stderr",
     "output_type": "stream",
     "text": [
      "100%|███████████████████████████████████████████████████████████████████████████████| 828/828 [00:04<00:00, 176.72it/s]\n"
     ]
    },
    {
     "name": "stdout",
     "output_type": "stream",
     "text": [
      "EPOCH: 17\n",
      "Training Loss: 0.012267842838216735  | Validation Loss: 0.013042731447366335\n"
     ]
    },
    {
     "name": "stderr",
     "output_type": "stream",
     "text": [
      "100%|███████████████████████████████████████████████████████████████████████████████| 828/828 [00:04<00:00, 179.47it/s]\n"
     ]
    },
    {
     "name": "stdout",
     "output_type": "stream",
     "text": [
      "EPOCH: 18\n",
      "Training Loss: 0.011933699063506824  | Validation Loss: 0.012825581367459085\n"
     ]
    },
    {
     "name": "stderr",
     "output_type": "stream",
     "text": [
      "100%|███████████████████████████████████████████████████████████████████████████████| 828/828 [00:04<00:00, 180.35it/s]\n"
     ]
    },
    {
     "name": "stdout",
     "output_type": "stream",
     "text": [
      "EPOCH: 19\n",
      "Training Loss: 0.011540445610194733  | Validation Loss: 0.012347498790250492\n"
     ]
    },
    {
     "name": "stderr",
     "output_type": "stream",
     "text": [
      "100%|███████████████████████████████████████████████████████████████████████████████| 828/828 [00:04<00:00, 181.06it/s]\n"
     ]
    },
    {
     "name": "stdout",
     "output_type": "stream",
     "text": [
      "EPOCH: 20\n",
      "Training Loss: 0.011332146662280666  | Validation Loss: 0.011854977335117884\n"
     ]
    },
    {
     "name": "stderr",
     "output_type": "stream",
     "text": [
      "100%|███████████████████████████████████████████████████████████████████████████████| 828/828 [00:04<00:00, 182.93it/s]\n"
     ]
    },
    {
     "name": "stdout",
     "output_type": "stream",
     "text": [
      "EPOCH: 21\n",
      "Training Loss: 0.01075155597522063  | Validation Loss: 0.011577894437616155\n"
     ]
    },
    {
     "name": "stderr",
     "output_type": "stream",
     "text": [
      "100%|███████████████████████████████████████████████████████████████████████████████| 828/828 [00:04<00:00, 182.40it/s]\n"
     ]
    },
    {
     "name": "stdout",
     "output_type": "stream",
     "text": [
      "EPOCH: 22\n",
      "Training Loss: 0.010264937225717979  | Validation Loss: 0.01150963858748644\n"
     ]
    },
    {
     "name": "stderr",
     "output_type": "stream",
     "text": [
      "100%|███████████████████████████████████████████████████████████████████████████████| 828/828 [00:04<00:00, 182.70it/s]\n"
     ]
    },
    {
     "name": "stdout",
     "output_type": "stream",
     "text": [
      "EPOCH: 23\n",
      "Training Loss: 0.009882295859644667  | Validation Loss: 0.010606385435972173\n"
     ]
    },
    {
     "name": "stderr",
     "output_type": "stream",
     "text": [
      "100%|███████████████████████████████████████████████████████████████████████████████| 828/828 [00:04<00:00, 182.62it/s]\n"
     ]
    },
    {
     "name": "stdout",
     "output_type": "stream",
     "text": [
      "EPOCH: 24\n",
      "Training Loss: 0.009508381184057786  | Validation Loss: 0.010386063168772448\n"
     ]
    },
    {
     "name": "stderr",
     "output_type": "stream",
     "text": [
      "100%|███████████████████████████████████████████████████████████████████████████████| 828/828 [00:04<00:00, 181.78it/s]\n"
     ]
    },
    {
     "name": "stdout",
     "output_type": "stream",
     "text": [
      "EPOCH: 25\n",
      "Training Loss: 0.00914713013343567  | Validation Loss: 0.009988337490802347\n"
     ]
    },
    {
     "name": "stderr",
     "output_type": "stream",
     "text": [
      "100%|███████████████████████████████████████████████████████████████████████████████| 828/828 [00:04<00:00, 175.95it/s]\n"
     ]
    },
    {
     "name": "stdout",
     "output_type": "stream",
     "text": [
      "EPOCH: 26\n",
      "Training Loss: 0.008955861970721542  | Validation Loss: 0.009828797622457525\n"
     ]
    },
    {
     "name": "stderr",
     "output_type": "stream",
     "text": [
      "100%|███████████████████████████████████████████████████████████████████████████████| 828/828 [00:04<00:00, 176.40it/s]\n"
     ]
    },
    {
     "name": "stdout",
     "output_type": "stream",
     "text": [
      "EPOCH: 27\n",
      "Training Loss: 0.008639403345830432  | Validation Loss: 0.009541205065403829\n"
     ]
    },
    {
     "name": "stderr",
     "output_type": "stream",
     "text": [
      "100%|███████████████████████████████████████████████████████████████████████████████| 828/828 [00:04<00:00, 180.77it/s]\n"
     ]
    },
    {
     "name": "stdout",
     "output_type": "stream",
     "text": [
      "EPOCH: 28\n",
      "Training Loss: 0.008421744800910605  | Validation Loss: 0.009293155669692462\n"
     ]
    },
    {
     "name": "stderr",
     "output_type": "stream",
     "text": [
      "100%|███████████████████████████████████████████████████████████████████████████████| 828/828 [00:04<00:00, 182.18it/s]\n"
     ]
    },
    {
     "name": "stdout",
     "output_type": "stream",
     "text": [
      "EPOCH: 29\n",
      "Training Loss: 0.008210755993751585  | Validation Loss: 0.008907436929895715\n"
     ]
    },
    {
     "name": "stderr",
     "output_type": "stream",
     "text": [
      "100%|███████████████████████████████████████████████████████████████████████████████| 828/828 [00:04<00:00, 183.37it/s]\n"
     ]
    },
    {
     "name": "stdout",
     "output_type": "stream",
     "text": [
      "EPOCH: 30\n",
      "Training Loss: 0.007936461450439846  | Validation Loss: 0.008726377541325608\n"
     ]
    },
    {
     "name": "stderr",
     "output_type": "stream",
     "text": [
      "100%|███████████████████████████████████████████████████████████████████████████████| 828/828 [00:04<00:00, 180.35it/s]\n"
     ]
    },
    {
     "name": "stdout",
     "output_type": "stream",
     "text": [
      "EPOCH: 31\n",
      "Training Loss: 0.007693409150385339  | Validation Loss: 0.0084130314447112\n"
     ]
    },
    {
     "name": "stderr",
     "output_type": "stream",
     "text": [
      "100%|███████████████████████████████████████████████████████████████████████████████| 828/828 [00:04<00:00, 180.87it/s]\n"
     ]
    },
    {
     "name": "stdout",
     "output_type": "stream",
     "text": [
      "EPOCH: 32\n",
      "Training Loss: 0.007603246448134131  | Validation Loss: 0.008429742751690417\n"
     ]
    },
    {
     "name": "stderr",
     "output_type": "stream",
     "text": [
      "100%|███████████████████████████████████████████████████████████████████████████████| 828/828 [00:04<00:00, 181.88it/s]\n"
     ]
    },
    {
     "name": "stdout",
     "output_type": "stream",
     "text": [
      "EPOCH: 33\n",
      "Training Loss: 0.007360349063410599  | Validation Loss: 0.008042854211545722\n"
     ]
    },
    {
     "name": "stderr",
     "output_type": "stream",
     "text": [
      "100%|███████████████████████████████████████████████████████████████████████████████| 828/828 [00:05<00:00, 159.75it/s]\n"
     ]
    },
    {
     "name": "stdout",
     "output_type": "stream",
     "text": [
      "EPOCH: 34\n",
      "Training Loss: 0.007180422894990719  | Validation Loss: 0.007804449550981112\n"
     ]
    },
    {
     "name": "stderr",
     "output_type": "stream",
     "text": [
      "100%|███████████████████████████████████████████████████████████████████████████████| 828/828 [00:04<00:00, 173.31it/s]\n"
     ]
    },
    {
     "name": "stdout",
     "output_type": "stream",
     "text": [
      "EPOCH: 35\n",
      "Training Loss: 0.007038364775989492  | Validation Loss: 0.007668066775757756\n"
     ]
    },
    {
     "name": "stderr",
     "output_type": "stream",
     "text": [
      "100%|███████████████████████████████████████████████████████████████████████████████| 828/828 [00:04<00:00, 181.62it/s]\n"
     ]
    },
    {
     "name": "stdout",
     "output_type": "stream",
     "text": [
      "EPOCH: 36\n",
      "Training Loss: 0.0068181277185808955  | Validation Loss: 0.007528244671648589\n"
     ]
    },
    {
     "name": "stderr",
     "output_type": "stream",
     "text": [
      "100%|███████████████████████████████████████████████████████████████████████████████| 828/828 [00:04<00:00, 182.74it/s]\n"
     ]
    },
    {
     "name": "stdout",
     "output_type": "stream",
     "text": [
      "EPOCH: 37\n",
      "Training Loss: 0.006637917250025892  | Validation Loss: 0.00728875038537623\n"
     ]
    },
    {
     "name": "stderr",
     "output_type": "stream",
     "text": [
      "100%|███████████████████████████████████████████████████████████████████████████████| 828/828 [00:04<00:00, 182.92it/s]\n"
     ]
    },
    {
     "name": "stdout",
     "output_type": "stream",
     "text": [
      "EPOCH: 38\n",
      "Training Loss: 0.006482790621584686  | Validation Loss: 0.007253385981607993\n"
     ]
    },
    {
     "name": "stderr",
     "output_type": "stream",
     "text": [
      "100%|███████████████████████████████████████████████████████████████████████████████| 828/828 [00:04<00:00, 182.80it/s]\n"
     ]
    },
    {
     "name": "stdout",
     "output_type": "stream",
     "text": [
      "EPOCH: 39\n",
      "Training Loss: 0.006298409078657123  | Validation Loss: 0.006905421364057998\n"
     ]
    },
    {
     "name": "stderr",
     "output_type": "stream",
     "text": [
      "100%|███████████████████████████████████████████████████████████████████████████████| 828/828 [00:04<00:00, 183.57it/s]\n"
     ]
    },
    {
     "name": "stdout",
     "output_type": "stream",
     "text": [
      "EPOCH: 40\n",
      "Training Loss: 0.006137799564692763  | Validation Loss: 0.00667995168685408\n"
     ]
    },
    {
     "name": "stderr",
     "output_type": "stream",
     "text": [
      "100%|███████████████████████████████████████████████████████████████████████████████| 828/828 [00:04<00:00, 180.43it/s]\n"
     ]
    },
    {
     "name": "stdout",
     "output_type": "stream",
     "text": [
      "EPOCH: 41\n",
      "Training Loss: 0.006039360412289636  | Validation Loss: 0.006357630835135735\n"
     ]
    },
    {
     "name": "stderr",
     "output_type": "stream",
     "text": [
      "100%|███████████████████████████████████████████████████████████████████████████████| 828/828 [00:04<00:00, 172.75it/s]\n"
     ]
    },
    {
     "name": "stdout",
     "output_type": "stream",
     "text": [
      "EPOCH: 42\n",
      "Training Loss: 0.0057996105517155  | Validation Loss: 0.006181861909295795\n"
     ]
    },
    {
     "name": "stderr",
     "output_type": "stream",
     "text": [
      "100%|███████████████████████████████████████████████████████████████████████████████| 828/828 [00:04<00:00, 178.99it/s]\n"
     ]
    },
    {
     "name": "stdout",
     "output_type": "stream",
     "text": [
      "EPOCH: 43\n",
      "Training Loss: 0.0056008990541334455  | Validation Loss: 0.006100781025144004\n"
     ]
    },
    {
     "name": "stderr",
     "output_type": "stream",
     "text": [
      "100%|███████████████████████████████████████████████████████████████████████████████| 828/828 [00:04<00:00, 173.41it/s]\n"
     ]
    },
    {
     "name": "stdout",
     "output_type": "stream",
     "text": [
      "EPOCH: 44\n",
      "Training Loss: 0.005470487165544857  | Validation Loss: 0.005877711674024872\n"
     ]
    },
    {
     "name": "stderr",
     "output_type": "stream",
     "text": [
      "100%|███████████████████████████████████████████████████████████████████████████████| 828/828 [00:04<00:00, 177.47it/s]\n"
     ]
    },
    {
     "name": "stdout",
     "output_type": "stream",
     "text": [
      "EPOCH: 45\n",
      "Training Loss: 0.005316501385464832  | Validation Loss: 0.005636057269885757\n"
     ]
    },
    {
     "name": "stderr",
     "output_type": "stream",
     "text": [
      "100%|███████████████████████████████████████████████████████████████████████████████| 828/828 [00:04<00:00, 180.83it/s]\n"
     ]
    },
    {
     "name": "stdout",
     "output_type": "stream",
     "text": [
      "EPOCH: 46\n",
      "Training Loss: 0.005198710393621743  | Validation Loss: 0.005768205443697082\n"
     ]
    },
    {
     "name": "stderr",
     "output_type": "stream",
     "text": [
      "100%|███████████████████████████████████████████████████████████████████████████████| 828/828 [00:04<00:00, 181.83it/s]\n"
     ]
    },
    {
     "name": "stdout",
     "output_type": "stream",
     "text": [
      "EPOCH: 47\n",
      "Training Loss: 0.005341385731334092  | Validation Loss: 0.005196276701931542\n"
     ]
    },
    {
     "name": "stderr",
     "output_type": "stream",
     "text": [
      "100%|███████████████████████████████████████████████████████████████████████████████| 828/828 [00:04<00:00, 185.01it/s]\n"
     ]
    },
    {
     "name": "stdout",
     "output_type": "stream",
     "text": [
      "EPOCH: 48\n",
      "Training Loss: 0.00485406181612502  | Validation Loss: 0.0049593591583119235\n"
     ]
    },
    {
     "name": "stderr",
     "output_type": "stream",
     "text": [
      "100%|███████████████████████████████████████████████████████████████████████████████| 828/828 [00:04<00:00, 178.29it/s]\n"
     ]
    },
    {
     "name": "stdout",
     "output_type": "stream",
     "text": [
      "EPOCH: 49\n",
      "Training Loss: 0.004718600245499713  | Validation Loss: 0.004983056082106117\n"
     ]
    },
    {
     "name": "stderr",
     "output_type": "stream",
     "text": [
      "100%|███████████████████████████████████████████████████████████████████████████████| 828/828 [00:04<00:00, 181.10it/s]\n"
     ]
    },
    {
     "name": "stdout",
     "output_type": "stream",
     "text": [
      "EPOCH: 50\n",
      "Training Loss: 0.004617918012658098  | Validation Loss: 0.004796012812807083\n"
     ]
    },
    {
     "name": "stderr",
     "output_type": "stream",
     "text": [
      "100%|███████████████████████████████████████████████████████████████████████████████| 828/828 [00:04<00:00, 181.86it/s]\n"
     ]
    },
    {
     "name": "stdout",
     "output_type": "stream",
     "text": [
      "EPOCH: 51\n",
      "Training Loss: 0.004558175311543065  | Validation Loss: 0.004727406882073225\n"
     ]
    },
    {
     "name": "stderr",
     "output_type": "stream",
     "text": [
      "100%|███████████████████████████████████████████████████████████████████████████████| 828/828 [00:05<00:00, 159.71it/s]\n"
     ]
    },
    {
     "name": "stdout",
     "output_type": "stream",
     "text": [
      "EPOCH: 52\n",
      "Training Loss: 0.0044068662908911295  | Validation Loss: 0.004502614859444231\n"
     ]
    },
    {
     "name": "stderr",
     "output_type": "stream",
     "text": [
      "100%|███████████████████████████████████████████████████████████████████████████████| 828/828 [00:04<00:00, 175.35it/s]\n"
     ]
    },
    {
     "name": "stdout",
     "output_type": "stream",
     "text": [
      "EPOCH: 53\n",
      "Training Loss: 0.004259684129285172  | Validation Loss: 0.004350043964469648\n"
     ]
    },
    {
     "name": "stderr",
     "output_type": "stream",
     "text": [
      "100%|███████████████████████████████████████████████████████████████████████████████| 828/828 [00:04<00:00, 180.12it/s]\n"
     ]
    },
    {
     "name": "stdout",
     "output_type": "stream",
     "text": [
      "EPOCH: 54\n",
      "Training Loss: 0.004158982765385072  | Validation Loss: 0.004530351944425601\n"
     ]
    },
    {
     "name": "stderr",
     "output_type": "stream",
     "text": [
      "100%|███████████████████████████████████████████████████████████████████████████████| 828/828 [00:04<00:00, 182.58it/s]\n"
     ]
    },
    {
     "name": "stdout",
     "output_type": "stream",
     "text": [
      "EPOCH: 55\n",
      "Training Loss: 0.004124007310947754  | Validation Loss: 0.0039661310847959146\n"
     ]
    },
    {
     "name": "stderr",
     "output_type": "stream",
     "text": [
      "100%|███████████████████████████████████████████████████████████████████████████████| 828/828 [00:04<00:00, 182.92it/s]\n"
     ]
    },
    {
     "name": "stdout",
     "output_type": "stream",
     "text": [
      "EPOCH: 56\n",
      "Training Loss: 0.00404030307992429  | Validation Loss: 0.003965701763833858\n"
     ]
    },
    {
     "name": "stderr",
     "output_type": "stream",
     "text": [
      "100%|███████████████████████████████████████████████████████████████████████████████| 828/828 [00:04<00:00, 170.21it/s]\n"
     ]
    },
    {
     "name": "stdout",
     "output_type": "stream",
     "text": [
      "EPOCH: 57\n",
      "Training Loss: 0.0038949526440923594  | Validation Loss: 0.003831726088488506\n"
     ]
    },
    {
     "name": "stderr",
     "output_type": "stream",
     "text": [
      "100%|███████████████████████████████████████████████████████████████████████████████| 828/828 [00:04<00:00, 171.77it/s]\n"
     ]
    },
    {
     "name": "stdout",
     "output_type": "stream",
     "text": [
      "EPOCH: 58\n",
      "Training Loss: 0.003831367900413416  | Validation Loss: 0.00368629602253658\n"
     ]
    },
    {
     "name": "stderr",
     "output_type": "stream",
     "text": [
      "100%|███████████████████████████████████████████████████████████████████████████████| 828/828 [00:04<00:00, 179.80it/s]\n"
     ]
    },
    {
     "name": "stdout",
     "output_type": "stream",
     "text": [
      "EPOCH: 59\n",
      "Training Loss: 0.0036978838043816046  | Validation Loss: 0.00339301552828717\n"
     ]
    },
    {
     "name": "stderr",
     "output_type": "stream",
     "text": [
      "100%|███████████████████████████████████████████████████████████████████████████████| 828/828 [00:04<00:00, 181.33it/s]\n"
     ]
    },
    {
     "name": "stdout",
     "output_type": "stream",
     "text": [
      "EPOCH: 60\n",
      "Training Loss: 0.0036365965521581705  | Validation Loss: 0.0033357279090076622\n"
     ]
    },
    {
     "name": "stderr",
     "output_type": "stream",
     "text": [
      "100%|███████████████████████████████████████████████████████████████████████████████| 828/828 [00:04<00:00, 180.87it/s]\n"
     ]
    },
    {
     "name": "stdout",
     "output_type": "stream",
     "text": [
      "EPOCH: 61\n",
      "Training Loss: 0.003577062456965883  | Validation Loss: 0.003274808224424783\n"
     ]
    },
    {
     "name": "stderr",
     "output_type": "stream",
     "text": [
      "100%|███████████████████████████████████████████████████████████████████████████████| 828/828 [00:04<00:00, 180.33it/s]\n"
     ]
    },
    {
     "name": "stdout",
     "output_type": "stream",
     "text": [
      "EPOCH: 62\n",
      "Training Loss: 0.0035134535713080804  | Validation Loss: 0.0032179595609550696\n"
     ]
    },
    {
     "name": "stderr",
     "output_type": "stream",
     "text": [
      "100%|███████████████████████████████████████████████████████████████████████████████| 828/828 [00:04<00:00, 181.12it/s]\n"
     ]
    },
    {
     "name": "stdout",
     "output_type": "stream",
     "text": [
      "EPOCH: 63\n",
      "Training Loss: 0.0034167864352182354  | Validation Loss: 0.002989597128254314\n"
     ]
    },
    {
     "name": "stderr",
     "output_type": "stream",
     "text": [
      "100%|███████████████████████████████████████████████████████████████████████████████| 828/828 [00:04<00:00, 183.45it/s]\n"
     ]
    },
    {
     "name": "stdout",
     "output_type": "stream",
     "text": [
      "EPOCH: 64\n",
      "Training Loss: 0.003367645092362511  | Validation Loss: 0.002947074469174969\n"
     ]
    },
    {
     "name": "stderr",
     "output_type": "stream",
     "text": [
      "100%|███████████████████████████████████████████████████████████████████████████████| 828/828 [00:04<00:00, 181.54it/s]\n"
     ]
    },
    {
     "name": "stdout",
     "output_type": "stream",
     "text": [
      "EPOCH: 65\n",
      "Training Loss: 0.003321238887282021  | Validation Loss: 0.0028833969529733945\n"
     ]
    },
    {
     "name": "stderr",
     "output_type": "stream",
     "text": [
      "100%|███████████████████████████████████████████████████████████████████████████████| 828/828 [00:04<00:00, 181.98it/s]\n"
     ]
    },
    {
     "name": "stdout",
     "output_type": "stream",
     "text": [
      "EPOCH: 66\n",
      "Training Loss: 0.0032520212540554853  | Validation Loss: 0.0026337143489538486\n"
     ]
    },
    {
     "name": "stderr",
     "output_type": "stream",
     "text": [
      "100%|███████████████████████████████████████████████████████████████████████████████| 828/828 [00:04<00:00, 182.00it/s]\n"
     ]
    },
    {
     "name": "stdout",
     "output_type": "stream",
     "text": [
      "EPOCH: 67\n",
      "Training Loss: 0.003211713318754064  | Validation Loss: 0.0025978101529891334\n"
     ]
    },
    {
     "name": "stderr",
     "output_type": "stream",
     "text": [
      "100%|███████████████████████████████████████████████████████████████████████████████| 828/828 [00:04<00:00, 180.59it/s]\n"
     ]
    },
    {
     "name": "stdout",
     "output_type": "stream",
     "text": [
      "EPOCH: 68\n",
      "Training Loss: 0.0031473042350881036  | Validation Loss: 0.0025629570892167484\n"
     ]
    },
    {
     "name": "stderr",
     "output_type": "stream",
     "text": [
      "100%|███████████████████████████████████████████████████████████████████████████████| 828/828 [00:04<00:00, 180.02it/s]\n"
     ]
    },
    {
     "name": "stdout",
     "output_type": "stream",
     "text": [
      "EPOCH: 69\n",
      "Training Loss: 0.00313764554195349  | Validation Loss: 0.0026137226545330833\n"
     ]
    },
    {
     "name": "stderr",
     "output_type": "stream",
     "text": [
      "100%|███████████████████████████████████████████████████████████████████████████████| 828/828 [00:05<00:00, 161.41it/s]\n"
     ]
    },
    {
     "name": "stdout",
     "output_type": "stream",
     "text": [
      "EPOCH: 70\n",
      "Training Loss: 0.0030693111753941553  | Validation Loss: 0.0023826602540547187\n"
     ]
    },
    {
     "name": "stderr",
     "output_type": "stream",
     "text": [
      "100%|███████████████████████████████████████████████████████████████████████████████| 828/828 [00:04<00:00, 167.92it/s]\n"
     ]
    },
    {
     "name": "stdout",
     "output_type": "stream",
     "text": [
      "EPOCH: 71\n",
      "Training Loss: 0.0030270098206071983  | Validation Loss: 0.002353144170799277\n"
     ]
    },
    {
     "name": "stderr",
     "output_type": "stream",
     "text": [
      "100%|███████████████████████████████████████████████████████████████████████████████| 828/828 [00:04<00:00, 176.56it/s]\n"
     ]
    },
    {
     "name": "stdout",
     "output_type": "stream",
     "text": [
      "EPOCH: 72\n",
      "Training Loss: 0.0030354927723483826  | Validation Loss: 0.0022932428262843673\n"
     ]
    },
    {
     "name": "stderr",
     "output_type": "stream",
     "text": [
      "100%|███████████████████████████████████████████████████████████████████████████████| 828/828 [00:04<00:00, 170.59it/s]\n"
     ]
    },
    {
     "name": "stdout",
     "output_type": "stream",
     "text": [
      "EPOCH: 73\n",
      "Training Loss: 0.0029504479323558797  | Validation Loss: 0.0022564701429149923\n"
     ]
    },
    {
     "name": "stderr",
     "output_type": "stream",
     "text": [
      "100%|███████████████████████████████████████████████████████████████████████████████| 828/828 [00:04<00:00, 179.09it/s]\n"
     ]
    },
    {
     "name": "stdout",
     "output_type": "stream",
     "text": [
      "EPOCH: 74\n",
      "Training Loss: 0.0029353141909237985  | Validation Loss: 0.0022133880781238678\n"
     ]
    },
    {
     "name": "stderr",
     "output_type": "stream",
     "text": [
      "100%|███████████████████████████████████████████████████████████████████████████████| 828/828 [00:04<00:00, 186.63it/s]\n"
     ]
    },
    {
     "name": "stdout",
     "output_type": "stream",
     "text": [
      "EPOCH: 75\n",
      "Training Loss: 0.0029481516562313392  | Validation Loss: 0.0022854179788136192\n"
     ]
    },
    {
     "name": "stderr",
     "output_type": "stream",
     "text": [
      "100%|███████████████████████████████████████████████████████████████████████████████| 828/828 [00:04<00:00, 185.28it/s]\n"
     ]
    },
    {
     "name": "stdout",
     "output_type": "stream",
     "text": [
      "EPOCH: 76\n",
      "Training Loss: 0.002930678674250454  | Validation Loss: 0.002153591476814916\n"
     ]
    },
    {
     "name": "stderr",
     "output_type": "stream",
     "text": [
      "100%|███████████████████████████████████████████████████████████████████████████████| 828/828 [00:04<00:00, 182.14it/s]\n"
     ]
    },
    {
     "name": "stdout",
     "output_type": "stream",
     "text": [
      "EPOCH: 77\n",
      "Training Loss: 0.0029375203005696203  | Validation Loss: 0.002137494591159462\n"
     ]
    },
    {
     "name": "stderr",
     "output_type": "stream",
     "text": [
      "100%|███████████████████████████████████████████████████████████████████████████████| 828/828 [00:04<00:00, 182.94it/s]\n"
     ]
    },
    {
     "name": "stdout",
     "output_type": "stream",
     "text": [
      "EPOCH: 78\n",
      "Training Loss: 0.0028746037605918207  | Validation Loss: 0.0020755547295142973\n"
     ]
    },
    {
     "name": "stderr",
     "output_type": "stream",
     "text": [
      "100%|███████████████████████████████████████████████████████████████████████████████| 828/828 [00:04<00:00, 182.72it/s]\n"
     ]
    },
    {
     "name": "stdout",
     "output_type": "stream",
     "text": [
      "EPOCH: 79\n",
      "Training Loss: 0.0028899180936117564  | Validation Loss: 0.0019591181135491737\n"
     ]
    },
    {
     "name": "stderr",
     "output_type": "stream",
     "text": [
      "100%|███████████████████████████████████████████████████████████████████████████████| 828/828 [00:04<00:00, 183.21it/s]\n"
     ]
    },
    {
     "name": "stdout",
     "output_type": "stream",
     "text": [
      "EPOCH: 80\n",
      "Training Loss: 0.0028210842379049403  | Validation Loss: 0.0020636357159858915\n"
     ]
    },
    {
     "name": "stderr",
     "output_type": "stream",
     "text": [
      "100%|███████████████████████████████████████████████████████████████████████████████| 828/828 [00:04<00:00, 181.42it/s]\n"
     ]
    },
    {
     "name": "stdout",
     "output_type": "stream",
     "text": [
      "EPOCH: 81\n",
      "Training Loss: 0.002820838902245168  | Validation Loss: 0.0020034931796421374\n"
     ]
    },
    {
     "name": "stderr",
     "output_type": "stream",
     "text": [
      "100%|███████████████████████████████████████████████████████████████████████████████| 828/828 [00:04<00:00, 180.63it/s]\n"
     ]
    },
    {
     "name": "stdout",
     "output_type": "stream",
     "text": [
      "EPOCH: 82\n",
      "Training Loss: 0.0028209027765765293  | Validation Loss: 0.0019295880214855769\n"
     ]
    },
    {
     "name": "stderr",
     "output_type": "stream",
     "text": [
      "100%|███████████████████████████████████████████████████████████████████████████████| 828/828 [00:04<00:00, 178.62it/s]\n"
     ]
    },
    {
     "name": "stdout",
     "output_type": "stream",
     "text": [
      "EPOCH: 83\n",
      "Training Loss: 0.0027543298179842756  | Validation Loss: 0.0018192172214246782\n"
     ]
    },
    {
     "name": "stderr",
     "output_type": "stream",
     "text": [
      "100%|███████████████████████████████████████████████████████████████████████████████| 828/828 [00:04<00:00, 180.81it/s]\n"
     ]
    },
    {
     "name": "stdout",
     "output_type": "stream",
     "text": [
      "EPOCH: 84\n",
      "Training Loss: 0.0028216094346627018  | Validation Loss: 0.0018893357507403057\n"
     ]
    },
    {
     "name": "stderr",
     "output_type": "stream",
     "text": [
      "100%|███████████████████████████████████████████████████████████████████████████████| 828/828 [00:04<00:00, 182.38it/s]\n"
     ]
    },
    {
     "name": "stdout",
     "output_type": "stream",
     "text": [
      "EPOCH: 85\n",
      "Training Loss: 0.002747128664244277  | Validation Loss: 0.001845473463556303\n"
     ]
    },
    {
     "name": "stderr",
     "output_type": "stream",
     "text": [
      "100%|███████████████████████████████████████████████████████████████████████████████| 828/828 [00:04<00:00, 181.76it/s]\n"
     ]
    },
    {
     "name": "stdout",
     "output_type": "stream",
     "text": [
      "EPOCH: 86\n",
      "Training Loss: 0.002691274779063654  | Validation Loss: 0.0018281395003491602\n"
     ]
    },
    {
     "name": "stderr",
     "output_type": "stream",
     "text": [
      "100%|███████████████████████████████████████████████████████████████████████████████| 828/828 [00:04<00:00, 182.18it/s]\n"
     ]
    },
    {
     "name": "stdout",
     "output_type": "stream",
     "text": [
      "EPOCH: 87\n",
      "Training Loss: 0.002719922529790519  | Validation Loss: 0.0018796709073131304\n"
     ]
    },
    {
     "name": "stderr",
     "output_type": "stream",
     "text": [
      "100%|███████████████████████████████████████████████████████████████████████████████| 828/828 [00:05<00:00, 165.30it/s]\n"
     ]
    },
    {
     "name": "stdout",
     "output_type": "stream",
     "text": [
      "EPOCH: 88\n",
      "Training Loss: 0.0027045832927494  | Validation Loss: 0.001668354999017507\n"
     ]
    },
    {
     "name": "stderr",
     "output_type": "stream",
     "text": [
      "100%|███████████████████████████████████████████████████████████████████████████████| 828/828 [00:04<00:00, 166.50it/s]\n"
     ]
    },
    {
     "name": "stdout",
     "output_type": "stream",
     "text": [
      "EPOCH: 89\n",
      "Training Loss: 0.0027157978285053423  | Validation Loss: 0.0017297740328180904\n"
     ]
    },
    {
     "name": "stderr",
     "output_type": "stream",
     "text": [
      "100%|███████████████████████████████████████████████████████████████████████████████| 828/828 [00:04<00:00, 177.17it/s]\n"
     ]
    },
    {
     "name": "stdout",
     "output_type": "stream",
     "text": [
      "EPOCH: 90\n",
      "Training Loss: 0.0026758271576707354  | Validation Loss: 0.001566959782779785\n"
     ]
    },
    {
     "name": "stderr",
     "output_type": "stream",
     "text": [
      "100%|███████████████████████████████████████████████████████████████████████████████| 828/828 [00:04<00:00, 182.54it/s]\n"
     ]
    },
    {
     "name": "stdout",
     "output_type": "stream",
     "text": [
      "EPOCH: 91\n",
      "Training Loss: 0.0026816279504499915  | Validation Loss: 0.0016390669516729729\n"
     ]
    },
    {
     "name": "stderr",
     "output_type": "stream",
     "text": [
      "100%|███████████████████████████████████████████████████████████████████████████████| 828/828 [00:04<00:00, 182.84it/s]\n"
     ]
    },
    {
     "name": "stdout",
     "output_type": "stream",
     "text": [
      "EPOCH: 92\n",
      "Training Loss: 0.0026465463336047624  | Validation Loss: 0.0015920952255482454\n"
     ]
    },
    {
     "name": "stderr",
     "output_type": "stream",
     "text": [
      "100%|███████████████████████████████████████████████████████████████████████████████| 828/828 [00:04<00:00, 183.29it/s]\n"
     ]
    },
    {
     "name": "stdout",
     "output_type": "stream",
     "text": [
      "EPOCH: 93\n",
      "Training Loss: 0.0026286912490506905  | Validation Loss: 0.0017036784739209877\n"
     ]
    },
    {
     "name": "stderr",
     "output_type": "stream",
     "text": [
      "100%|███████████████████████████████████████████████████████████████████████████████| 828/828 [00:04<00:00, 182.12it/s]\n"
     ]
    },
    {
     "name": "stdout",
     "output_type": "stream",
     "text": [
      "EPOCH: 94\n",
      "Training Loss: 0.002615342721464517  | Validation Loss: 0.0016856536548387386\n"
     ]
    },
    {
     "name": "stderr",
     "output_type": "stream",
     "text": [
      "100%|███████████████████████████████████████████████████████████████████████████████| 828/828 [00:04<00:00, 182.24it/s]\n"
     ]
    },
    {
     "name": "stdout",
     "output_type": "stream",
     "text": [
      "EPOCH: 95\n",
      "Training Loss: 0.002624534911198816  | Validation Loss: 0.0016241712427611259\n",
      "Stopping Model Early\n",
      "\n",
      "Test Loss: 0.0015625284136398716 \n",
      "Time to Train: 0:07:35.345623\n",
      "('14.49 MMac', '603.18 k')\n"
     ]
    },
    {
     "data": {
      "image/png": "[encoded data removed]",
      "text/plain": [
       "<Figure size 1100x400 with 3 Axes>"
      ]
     },
     "metadata": {},
     "output_type": "display_data"
    }
   ],
   "source": [
    "input_size = 4\n",
    "hidden_size = 128\n",
    "num_layers = 5\n",
    "batch_size = 3\n",
    "output_size = train_dataset.dataset.n_ahead\n",
    "\n",
    "trainLoader = DataLoader(train_dataset, batch_size=batch_size, shuffle=False)\n",
    "validLoader = DataLoader(valid_dataset, batch_size=batch_size, shuffle=False)\n",
    "testLoader = DataLoader(test_dataset, batch_size=batch_size, shuffle=True)\n",
    "\n",
    "model = BasicLSTM(input_size, hidden_size, num_layers, output_size)\n",
    "\n",
    "Trainer, mp = train_test_model(model, 0.001, trainLoader, validLoader, testLoader, EPOCHS=300, noPrint=False)\n",
    "print(mp)"
   ]
  },
  {
   "cell_type": "code",
   "execution_count": 27,
   "id": "38407a2d-6211-4866-9921-29e5acd3411d",
   "metadata": {},
   "outputs": [
    {
     "name": "stdout",
     "output_type": "stream",
     "text": [
      "(12,) torch.Size([3, 12, 4]) torch.Size([24, 4])\n"
     ]
    },
    {
     "data": {
      "image/png": "[encoded data removed]",
      "text/plain": [
       "<Figure size 640x480 with 1 Axes>"
      ]
     },
     "metadata": {},
     "output_type": "display_data"
    }
   ],
   "source": [
    "for X, Y in testLoader:\n",
    "    X = X\n",
    "    Y = Y\n",
    "    pred = Trainer.model(X).detach().numpy()\n",
    "    \n",
    "    print(pred[0,:,0].shape, Y.shape, X[0].shape)\n",
    "    \n",
    "    # Assume Extension \n",
    "    y_range = range(len(X[0]), len(X[0])+validLoader.dataset.dataset.n_ahead)\n",
    "\n",
    "    \n",
    "    # plt.plot(X[0,:].detach().cpu())\n",
    "    plt.plot(y_range, pred[0,:])\n",
    "    \n",
    "    plt.plot(y_range, Y[0,:])\n",
    "    \n",
    "    # plt.legend([\"X\", \"Prediction\", \"Actual\"])\n",
    "    \n",
    "    break"
   ]
  },
  {
   "cell_type": "code",
   "execution_count": 13,
   "id": "14f33623-4371-4e02-a155-2c5214381db1",
   "metadata": {},
   "outputs": [
    {
     "name": "stdout",
     "output_type": "stream",
     "text": [
      "torch.Size([3, 24, 4]) torch.Size([3, 12, 3])\n"
     ]
    }
   ],
   "source": [
    "for x, y in trainLoader:\n",
    "    print(x.shape, y.shape)\n",
    "    break\n"
   ]
  },
  {
   "cell_type": "code",
   "execution_count": 11,
   "id": "d7bfdf96-2562-4813-a54e-ae5b085c2df7",
   "metadata": {},
   "outputs": [
    {
     "data": {
      "text/plain": [
       "60"
      ]
     },
     "execution_count": 11,
     "metadata": {},
     "output_type": "execute_result"
    }
   ],
   "source": [
    "len(testLoader)"
   ]
  },
  {
   "cell_type": "code",
   "execution_count": 9,
   "id": "1b3f3e62-a824-48f6-bec4-9a8bc4de6b2a",
   "metadata": {},
   "outputs": [
    {
     "data": {
      "text/plain": [
       "3.962974854046147"
      ]
     },
     "execution_count": 9,
     "metadata": {},
     "output_type": "execute_result"
    }
   ],
   "source": [
    "max((total.values).reshape(-1))"
   ]
  },
  {
   "cell_type": "code",
   "execution_count": 18,
   "id": "91ba3fa4-898d-41ca-9c33-c189d08cbe86",
   "metadata": {},
   "outputs": [],
   "source": [
    "torch.save(Trainer.model.state_dict(), \"models/EMG_P1.pt\")"
   ]
  },
  {
   "cell_type": "code",
   "execution_count": null,
   "id": "0a264e29-e63a-4d89-b88d-ed47b5ffa1ce",
   "metadata": {},
   "outputs": [],
   "source": []
  }
 ],
 "metadata": {
  "kernelspec": {
   "display_name": "Python 3 (ipykernel)",
   "language": "python",
   "name": "python3"
  },
  "language_info": {
   "codemirror_mode": {
    "name": "ipython",
    "version": 3
   },
   "file_extension": ".py",
   "mimetype": "text/x-python",
   "name": "python",
   "nbconvert_exporter": "python",
   "pygments_lexer": "ipython3",
   "version": "3.10.9"
  }
 },
 "nbformat": 4,
 "nbformat_minor": 5
}
