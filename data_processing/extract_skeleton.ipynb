{
 "cells": [
  {
   "cell_type": "code",
   "execution_count": 5,
   "id": "8f375809-8c9e-4bec-8a64-0b1c6a1a5c36",
   "metadata": {},
   "outputs": [],
   "source": [
    "from ultralytics import YOLO\n",
    "from tqdm.auto import tqdm\n",
    "import numpy as np\n",
    "import os\n",
    "import pandas as pd\n",
    "import cv2\n",
    "from ultralytics.yolo.utils.plotting import Annotator"
   ]
  },
  {
   "cell_type": "code",
   "execution_count": 6,
   "id": "f50839f9-b302-4054-9ec5-b5999166b7f0",
   "metadata": {},
   "outputs": [],
   "source": [
    "# Load a model\n",
    "model = YOLO('yolov8n-pose.pt') # load an official model"
   ]
  },
  {
   "cell_type": "code",
   "execution_count": 8,
   "id": "ae0cef3f-97f4-4394-92d0-a3faf801fec3",
   "metadata": {},
   "outputs": [
    {
     "data": {
      "application/vnd.jupyter.widget-view+json": {
       "model_id": "29bd7f9d021f4e03a907b9e0c7dc7aea",
       "version_major": 2,
       "version_minor": 0
      },
      "text/plain": [
       "  0%|          | 0/25 [00:00<?, ?it/s]"
      ]
     },
     "metadata": {},
     "output_type": "display_data"
    },
    {
     "name": "stdout",
     "output_type": "stream",
     "text": [
      "1261.3999\n",
      "1747.9009\n",
      "1750.7336\n",
      "1763.2871\n",
      "1759.3198\n",
      "1755.5724\n",
      "1184.4797\n",
      "1776.809\n",
      "1764.064\n",
      "1828.2532\n",
      "1798.964\n",
      "1765.425\n",
      "1157.1913\n",
      "1735.2177\n",
      "1764.686\n",
      "1750.3223\n",
      "1778.8751\n",
      "1717.9465\n",
      "1779.8052\n",
      "1739.4338\n",
      "1732.6732\n",
      "1743.7256\n",
      "1739.937\n",
      "1763.2083\n",
      "1155.7483\n"
     ]
    }
   ],
   "source": [
    "dataset_path = \"M:/Datasets/shock_walk/Videos/\"\n",
    "files = [i for i in os.listdir(dataset_path) if i.split('.')[-1] == \"mp4\"]\n",
    "lengths  = []\n",
    "\n",
    "for file in tqdm(files[0:]):\n",
    "    \n",
    "    skeletons = None\n",
    "    video = cv2.VideoCapture(dataset_path + file)\n",
    "    ret = True\n",
    "    \n",
    "    while ret:\n",
    "        ret, image = video.read()\n",
    "        \n",
    "        if not ret:\n",
    "            break\n",
    "        \n",
    "        image = image[:,175:-175]\n",
    "        \n",
    "        results = model(image, verbose=False)\n",
    "        keypoint = results[0].keypoints.cpu()\n",
    "        \n",
    "        if keypoint.shape[0] != 1:\n",
    "            keypoint = keypoint[0].view(1, 17, 3)\n",
    "        \n",
    "        if type(skeletons) != type(None):\n",
    "            skeletons = np.concatenate((skeletons, keypoint.numpy()))\n",
    "        else:\n",
    "            skeletons = keypoint.numpy()\n",
    "            q\n",
    "        annotator = Annotator(np.ascontiguousarray(image))\n",
    "        annotator.kpts(keypoint[0])\n",
    "        \n",
    "        cv2.imshow(\"image\", annotator.result())\n",
    "        \n",
    "        if cv2.waitKey(1) & 0xFF == ord('q'):\n",
    "            break\n",
    "    \n",
    "    frame_per_video = 30 * 60\n",
    "    \n",
    "    skeletons = skeletons[:frame_per_video]\n",
    "    print(np.max(skeletons))\n",
    "    \n",
    "    lengths.append(len(skeletons))\n",
    "    # np.save(f\"{dataset_path}skeletons/{file[:-4]}.npy\", skeletons)\n",
    "    \n",
    "cv2.destroyAllWindows()"
   ]
  },
  {
   "cell_type": "code",
   "execution_count": 10,
   "id": "a560cdb8-8eeb-4510-9055-ef6ce86ce0b2",
   "metadata": {},
   "outputs": [
    {
     "name": "stdout",
     "output_type": "stream",
     "text": [
      "[1800, 1800, 1800, 1800, 1800, 1800, 1800, 1800, 1800, 1800, 1800, 1800, 1800, 1800, 1800, 1800, 1800, 1800, 1800, 1800, 1800, 1800, 1800, 1800, 1800]\n"
     ]
    }
   ],
   "source": [
    "print(lengths)"
   ]
  },
  {
   "cell_type": "code",
   "execution_count": 11,
   "id": "cb315451-e2fb-4b7f-bfb5-531a46d6f6c1",
   "metadata": {},
   "outputs": [
    {
     "name": "stdout",
     "output_type": "stream",
     "text": [
      "[[[     461.98       230.5     0.17189]\n",
      "  [        457      209.93    0.038435]\n",
      "  [     469.53      205.73    0.056968]\n",
      "  ...\n",
      "  [     501.63      899.25     0.99934]\n",
      "  [     385.24      1181.6     0.99275]\n",
      "  [     468.72      1155.6     0.99355]]\n",
      "\n",
      " [[     446.11      238.54     0.14644]\n",
      "  [     442.52      216.26    0.040571]\n",
      "  [     453.43      213.42    0.042317]\n",
      "  ...\n",
      "  [      498.8      900.22     0.99944]\n",
      "  [     381.48        1180     0.99459]\n",
      "  [     473.08        1158     0.99511]]\n",
      "\n",
      " [[      451.3      236.64     0.17409]\n",
      "  [     448.75      216.03    0.044848]\n",
      "  [     461.86       212.7    0.053431]\n",
      "  ...\n",
      "  [     500.72      896.56     0.99932]\n",
      "  [     388.23      1180.2     0.99265]\n",
      "  [     479.02        1150     0.99366]]\n",
      "\n",
      " ...\n",
      "\n",
      " [[     461.47      285.25     0.23886]\n",
      "  [     458.12      266.24    0.068536]\n",
      "  [      467.4      265.68     0.10419]\n",
      "  ...\n",
      "  [     469.53      961.57     0.99881]\n",
      "  [     366.07      1172.7     0.99322]\n",
      "  [     431.19      1231.4     0.99328]]\n",
      "\n",
      " [[     465.85      285.79     0.27433]\n",
      "  [     461.64      266.84    0.078895]\n",
      "  [     470.66      265.66     0.12815]\n",
      "  ...\n",
      "  [     469.74      963.27      0.9987]\n",
      "  [     369.09      1178.4     0.99325]\n",
      "  [     431.45      1229.1     0.99292]]\n",
      "\n",
      " [[      464.3       287.6     0.24047]\n",
      "  [     458.66      268.05    0.059202]\n",
      "  [     468.81      265.38     0.10346]\n",
      "  ...\n",
      "  [     467.34      954.97     0.99903]\n",
      "  [      373.1      1180.1     0.99449]\n",
      "  [     434.27      1209.5     0.99389]]]\n"
     ]
    }
   ],
   "source": [
    "skeleton_path = f\"M:/Datasets/shock_walk/Videos/skeletons/{files[0][:-4]}.npy\"\n",
    "skeleton_data = np.load(skeleton_path, allow_pickle=True)\n",
    "print(skeleton_data)"
   ]
  },
  {
   "cell_type": "code",
   "execution_count": null,
   "id": "b9dbcacb-6bba-43e0-89ad-002b2d08c5d1",
   "metadata": {},
   "outputs": [],
   "source": []
  }
 ],
 "metadata": {
  "kernelspec": {
   "display_name": "Python 3 (ipykernel)",
   "language": "python",
   "name": "python3"
  },
  "language_info": {
   "codemirror_mode": {
    "name": "ipython",
    "version": 3
   },
   "file_extension": ".py",
   "mimetype": "text/x-python",
   "name": "python",
   "nbconvert_exporter": "python",
   "pygments_lexer": "ipython3",
   "version": "3.10.9"
  }
 },
 "nbformat": 4,
 "nbformat_minor": 5
}
