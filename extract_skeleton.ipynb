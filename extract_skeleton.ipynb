{
 "cells": [
  {
   "cell_type": "code",
   "execution_count": 1,
   "id": "8f375809-8c9e-4bec-8a64-0b1c6a1a5c36",
   "metadata": {},
   "outputs": [],
   "source": [
    "from ultralytics import YOLO\n",
    "from tqdm.auto import tqdm\n",
    "import numpy as np\n",
    "import os\n",
    "import pandas as pd\n",
    "import cv2\n",
    "from ultralytics.yolo.utils.plotting import Annotator"
   ]
  },
  {
   "cell_type": "code",
   "execution_count": 2,
   "id": "f50839f9-b302-4054-9ec5-b5999166b7f0",
   "metadata": {},
   "outputs": [],
   "source": [
    "# Load a model\n",
    "model = YOLO('yolov8n-pose.pt') # load an official model"
   ]
  },
  {
   "cell_type": "code",
   "execution_count": 3,
   "id": "ae0cef3f-97f4-4394-92d0-a3faf801fec3",
   "metadata": {},
   "outputs": [
    {
     "data": {
      "application/vnd.jupyter.widget-view+json": {
       "model_id": "480642a697c64b3797f2fb67ebfc61ed",
       "version_major": 2,
       "version_minor": 0
      },
      "text/plain": [
       "  0%|          | 0/5 [00:00<?, ?it/s]"
      ]
     },
     "metadata": {},
     "output_type": "display_data"
    },
    {
     "name": "stdout",
     "output_type": "stream",
     "text": [
      "(1920, 588, 3)\n"
     ]
    },
    {
     "ename": "NameError",
     "evalue": "name 'sd' is not defined",
     "output_type": "error",
     "traceback": [
      "\u001b[1;31m---------------------------------------------------------------------------\u001b[0m",
      "\u001b[1;31mNameError\u001b[0m                                 Traceback (most recent call last)",
      "Cell \u001b[1;32mIn[3], line 19\u001b[0m\n\u001b[0;32m     16\u001b[0m         image \u001b[38;5;241m=\u001b[39m image[:,\u001b[38;5;241m300\u001b[39m:\u001b[38;5;241m-\u001b[39m\u001b[38;5;241m200\u001b[39m]\n\u001b[0;32m     17\u001b[0m         \u001b[38;5;28mprint\u001b[39m(image\u001b[38;5;241m.\u001b[39mshape)\n\u001b[1;32m---> 19\u001b[0m         sd \u001b[38;5;241m+\u001b[39m\u001b[38;5;241m=\u001b[39m sd\n\u001b[0;32m     21\u001b[0m \u001b[38;5;66;03m#         results = model(image, verbose=False)\u001b[39;00m\n\u001b[0;32m     22\u001b[0m \u001b[38;5;66;03m#         keypoint = results[0].keypoints.cpu()\u001b[39;00m\n\u001b[0;32m     23\u001b[0m \u001b[38;5;66;03m#         skeletons = np.concatenate((skeletons, keypoint.numpy()))\u001b[39;00m\n\u001b[1;32m   (...)\u001b[0m\n\u001b[0;32m     41\u001b[0m \u001b[38;5;66;03m#     lengths.append(len(skeletons))\u001b[39;00m\n\u001b[0;32m     42\u001b[0m \u001b[38;5;66;03m#     np.save(f\"{dataset_path}skeletons/{file.split('.')[0]}.npy\", skeletons)\u001b[39;00m\n\u001b[0;32m     44\u001b[0m cv2\u001b[38;5;241m.\u001b[39mdestroyAllWindows()\n",
      "\u001b[1;31mNameError\u001b[0m: name 'sd' is not defined"
     ]
    }
   ],
   "source": [
    "dataset_path = \"M:/Datasets/shock_walk/Videos/\"\n",
    "files = [i for i in os.listdir(dataset_path) if i.split('.')[-1] == \"mp4\"]\n",
    "lengths  = []\n",
    "\n",
    "for file in tqdm(files):\n",
    "    \n",
    "    skeletons = np.empty((1,17,3))\n",
    "    video = cv2.VideoCapture(dataset_path + file)\n",
    "    ret = True\n",
    "    \n",
    "    while ret:\n",
    "        ret, image = video.read()\n",
    "        if not ret:\n",
    "            break\n",
    "        \n",
    "        image = image[:,300:-200]\n",
    "        \n",
    "        results = model(image, verbose=False)\n",
    "        keypoint = results[0].keypoints.cpu()\n",
    "        skeletons = np.concatenate((skeletons, keypoint.numpy()))\n",
    "        \n",
    "        annotator = Annotator(np.ascontiguousarray(image))\n",
    "        annotator.kpts(keypoint[0])\n",
    "        \n",
    "        cv2.imshow(\"image\", annotator.result())\n",
    "        \n",
    "        if cv2.waitKey(1) & 0xFF == ord('q'):\n",
    "            break\n",
    "    \n",
    "    frame_per_video = 30 * 60\n",
    "    \n",
    "    if len(skeletons) > 1000:\n",
    "        skeletons = skeletons[:frame_per_video]\n",
    "    \n",
    "    else:\n",
    "        skeletons = skeletons[:315]\n",
    "    \n",
    "    lengths.append(len(skeletons))\n",
    "    np.save(f\"{dataset_path}skeletons/{file.split('.')[0]}.npy\", skeletons)\n",
    "    \n",
    "cv2.destroyAllWindows()"
   ]
  },
  {
   "cell_type": "code",
   "execution_count": 15,
   "id": "a560cdb8-8eeb-4510-9055-ef6ce86ce0b2",
   "metadata": {},
   "outputs": [
    {
     "name": "stdout",
     "output_type": "stream",
     "text": [
      "[1800, 1800, 315, 1800, 1800]\n"
     ]
    }
   ],
   "source": [
    "print(lengths)"
   ]
  },
  {
   "cell_type": "code",
   "execution_count": null,
   "id": "cb315451-e2fb-4b7f-bfb5-531a46d6f6c1",
   "metadata": {},
   "outputs": [],
   "source": []
  }
 ],
 "metadata": {
  "kernelspec": {
   "display_name": "Python 3 (ipykernel)",
   "language": "python",
   "name": "python3"
  },
  "language_info": {
   "codemirror_mode": {
    "name": "ipython",
    "version": 3
   },
   "file_extension": ".py",
   "mimetype": "text/x-python",
   "name": "python",
   "nbconvert_exporter": "python",
   "pygments_lexer": "ipython3",
   "version": "3.10.9"
  }
 },
 "nbformat": 4,
 "nbformat_minor": 5
}
