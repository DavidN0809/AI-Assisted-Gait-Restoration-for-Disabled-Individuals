{
 "cells": [
  {
   "cell_type": "code",
   "execution_count": 9,
   "id": "8f375809-8c9e-4bec-8a64-0b1c6a1a5c36",
   "metadata": {},
   "outputs": [],
   "source": [
    "from ultralytics import YOLO\n",
    "import numpy as np\n",
    "import os\n",
    "import pandas as pd\n",
    "import cv2\n",
    "from ultralytics.yolo.utils.plotting import Annotator"
   ]
  },
  {
   "cell_type": "code",
   "execution_count": 10,
   "id": "f50839f9-b302-4054-9ec5-b5999166b7f0",
   "metadata": {},
   "outputs": [],
   "source": [
    "# Load a model\n",
    "model = YOLO('yolov8n-pose.pt') # load an official model"
   ]
  },
  {
   "cell_type": "code",
   "execution_count": null,
   "id": "ae0cef3f-97f4-4394-92d0-a3faf801fec3",
   "metadata": {},
   "outputs": [
    {
     "name": "stderr",
     "output_type": "stream",
     "text": [
      "\n",
      "0: 640x224 1 person, 10.0ms\n",
      "Speed: 0.5ms preprocess, 10.0ms inference, 2.0ms postprocess per image at shape (1, 3, 640, 640)\n"
     ]
    },
    {
     "name": "stdout",
     "output_type": "stream",
     "text": [
      "(1, 17, 3)\n",
      "(2, 17, 3)\n"
     ]
    },
    {
     "name": "stdin",
     "output_type": "stream",
     "text": [
      " \n"
     ]
    },
    {
     "name": "stderr",
     "output_type": "stream",
     "text": [
      "\n",
      "0: 640x224 1 person, 15.0ms\n",
      "Speed: 0.5ms preprocess, 15.0ms inference, 1.5ms postprocess per image at shape (1, 3, 640, 640)\n"
     ]
    },
    {
     "name": "stdout",
     "output_type": "stream",
     "text": [
      "(3, 17, 3)\n"
     ]
    },
    {
     "name": "stdin",
     "output_type": "stream",
     "text": [
      " \n"
     ]
    },
    {
     "name": "stderr",
     "output_type": "stream",
     "text": [
      "\n",
      "0: 640x224 1 person, 15.0ms\n",
      "Speed: 0.5ms preprocess, 15.0ms inference, 1.0ms postprocess per image at shape (1, 3, 640, 640)\n"
     ]
    },
    {
     "name": "stdout",
     "output_type": "stream",
     "text": [
      "(4, 17, 3)\n"
     ]
    },
    {
     "name": "stdin",
     "output_type": "stream",
     "text": [
      " \n"
     ]
    },
    {
     "name": "stderr",
     "output_type": "stream",
     "text": [
      "\n",
      "0: 640x224 1 person, 14.0ms\n",
      "Speed: 0.5ms preprocess, 14.0ms inference, 1.0ms postprocess per image at shape (1, 3, 640, 640)\n"
     ]
    },
    {
     "name": "stdout",
     "output_type": "stream",
     "text": [
      "(5, 17, 3)\n"
     ]
    }
   ],
   "source": [
    "dataset_path = \"M:/Datasets/shock_walk/Videos/\"\n",
    "skeletons = np.empty((1,17,3))\n",
    "print(skeletons.shape)\n",
    "\n",
    "for file in os.listdir(dataset_path):\n",
    "    \n",
    "    video = cv2.VideoCapture(dataset_path + file)\n",
    "    ret = True\n",
    "    \n",
    "    while ret:\n",
    "        ret, image = video.read()\n",
    "        image = image[:,300:-200]\n",
    "        \n",
    "        \n",
    "        results = model(image, verbose=True)\n",
    "        keypoint = results[0].keypoints.cpu()\n",
    "        skeletons = np.concatenate((skeletons, keypoint.numpy()))\n",
    "        print(skeletons.shape)\n",
    "        \n",
    "        annotator = Annotator(np.ascontiguousarray(image))\n",
    "        annotator.kpts(keypoint[0])\n",
    "        \n",
    "        cv2.imshow(\"image\", annotator.result())\n",
    "        sad = input()\n",
    "        if cv2.waitKey(1) & 0xFF == ord('q'):\n",
    "            break\n",
    "    \n",
    "    break"
   ]
  },
  {
   "cell_type": "code",
   "execution_count": 2,
   "id": "88782bdb-dc31-4255-98b8-63053c0a3fdc",
   "metadata": {},
   "outputs": [],
   "source": [
    "image = cv2.imread('bus.jpg')\n",
    "# print(image.shape)\n",
    "annotator = Annotator(image)\n",
    "annotator.kpts(results[0].keypoints[0])keypoints"
   ]
  },
  {
   "cell_type": "code",
   "execution_count": 18,
   "id": "4ef235f8-7cfb-4d37-8740-c3e72228916e",
   "metadata": {},
   "outputs": [
    {
     "data": {
      "text/html": [
       "<div>\n",
       "<style scoped>\n",
       "    .dataframe tbody tr th:only-of-type {\n",
       "        vertical-align: middle;\n",
       "    }\n",
       "\n",
       "    .dataframe tbody tr th {\n",
       "        vertical-align: top;\n",
       "    }\n",
       "\n",
       "    .dataframe thead th {\n",
       "        text-align: right;\n",
       "    }\n",
       "</style>\n",
       "<table border=\"1\" class=\"dataframe\">\n",
       "  <thead>\n",
       "    <tr style=\"text-align: right;\">\n",
       "      <th></th>\n",
       "      <th>Keypoints</th>\n",
       "    </tr>\n",
       "  </thead>\n",
       "  <tbody>\n",
       "    <tr>\n",
       "      <th>0</th>\n",
       "      <td>[141.72877502441406, 443.0024719238281, 0.8934...</td>\n",
       "    </tr>\n",
       "    <tr>\n",
       "      <th>1</th>\n",
       "      <td>[148.10113525390625, 434.29132080078125, 0.779...</td>\n",
       "    </tr>\n",
       "    <tr>\n",
       "      <th>2</th>\n",
       "      <td>[132.58592224121094, 434.94390869140625, 0.850...</td>\n",
       "    </tr>\n",
       "    <tr>\n",
       "      <th>3</th>\n",
       "      <td>[151.8633575439453, 440.61474609375, 0.4835616...</td>\n",
       "    </tr>\n",
       "    <tr>\n",
       "      <th>4</th>\n",
       "      <td>[108.89498901367188, 440.108642578125, 0.69478...</td>\n",
       "    </tr>\n",
       "    <tr>\n",
       "      <th>5</th>\n",
       "      <td>[167.58482360839844, 492.8768005371094, 0.9346...</td>\n",
       "    </tr>\n",
       "    <tr>\n",
       "      <th>6</th>\n",
       "      <td>[90.7335205078125, 496.858642578125, 0.9277278...</td>\n",
       "    </tr>\n",
       "    <tr>\n",
       "      <th>7</th>\n",
       "      <td>[187.63543701171875, 564.3804931640625, 0.8924...</td>\n",
       "    </tr>\n",
       "    <tr>\n",
       "      <th>8</th>\n",
       "      <td>[113.92884826660156, 567.8281860351562, 0.8944...</td>\n",
       "    </tr>\n",
       "    <tr>\n",
       "      <th>9</th>\n",
       "      <td>[155.60409545898438, 565.8627319335938, 0.8697...</td>\n",
       "    </tr>\n",
       "    <tr>\n",
       "      <th>10</th>\n",
       "      <td>[151.82601928710938, 560.4541625976562, 0.8790...</td>\n",
       "    </tr>\n",
       "    <tr>\n",
       "      <th>11</th>\n",
       "      <td>[159.49029541015625, 638.5155639648438, 0.9499...</td>\n",
       "    </tr>\n",
       "    <tr>\n",
       "      <th>12</th>\n",
       "      <td>[99.59616088867188, 640.9130859375, 0.94777834...</td>\n",
       "    </tr>\n",
       "    <tr>\n",
       "      <th>13</th>\n",
       "      <td>[175.1374969482422, 748.0294799804688, 0.93000...</td>\n",
       "    </tr>\n",
       "    <tr>\n",
       "      <th>14</th>\n",
       "      <td>[86.78317260742188, 761.0116577148438, 0.92890...</td>\n",
       "    </tr>\n",
       "    <tr>\n",
       "      <th>15</th>\n",
       "      <td>[183.65977478027344, 847.5526123046875, 0.8447...</td>\n",
       "    </tr>\n",
       "    <tr>\n",
       "      <th>16</th>\n",
       "      <td>[68.0409164428711, 862.9349975585938, 0.836451...</td>\n",
       "    </tr>\n",
       "  </tbody>\n",
       "</table>\n",
       "</div>"
      ],
      "text/plain": [
       "                                            Keypoints\n",
       "0   [141.72877502441406, 443.0024719238281, 0.8934...\n",
       "1   [148.10113525390625, 434.29132080078125, 0.779...\n",
       "2   [132.58592224121094, 434.94390869140625, 0.850...\n",
       "3   [151.8633575439453, 440.61474609375, 0.4835616...\n",
       "4   [108.89498901367188, 440.108642578125, 0.69478...\n",
       "5   [167.58482360839844, 492.8768005371094, 0.9346...\n",
       "6   [90.7335205078125, 496.858642578125, 0.9277278...\n",
       "7   [187.63543701171875, 564.3804931640625, 0.8924...\n",
       "8   [113.92884826660156, 567.8281860351562, 0.8944...\n",
       "9   [155.60409545898438, 565.8627319335938, 0.8697...\n",
       "10  [151.82601928710938, 560.4541625976562, 0.8790...\n",
       "11  [159.49029541015625, 638.5155639648438, 0.9499...\n",
       "12  [99.59616088867188, 640.9130859375, 0.94777834...\n",
       "13  [175.1374969482422, 748.0294799804688, 0.93000...\n",
       "14  [86.78317260742188, 761.0116577148438, 0.92890...\n",
       "15  [183.65977478027344, 847.5526123046875, 0.8447...\n",
       "16  [68.0409164428711, 862.9349975585938, 0.836451..."
      ]
     },
     "metadata": {},
     "output_type": "display_data"
    }
   ],
   "source": [
    "x = {\"Keypoints\":results[0].keypoints[0].to(\"cpu\").tolist()}\n",
    "x = pd.DataFrame(x)\n",
    "display(x)\n",
    "x.to_csv(\"test.csv\", index=False)"
   ]
  },
  {
   "cell_type": "code",
   "execution_count": null,
   "id": "cb315451-e2fb-4b7f-bfb5-531a46d6f6c1",
   "metadata": {},
   "outputs": [],
   "source": []
  }
 ],
 "metadata": {
  "kernelspec": {
   "display_name": "Python 3 (ipykernel)",
   "language": "python",
   "name": "python3"
  },
  "language_info": {
   "codemirror_mode": {
    "name": "ipython",
    "version": 3
   },
   "file_extension": ".py",
   "mimetype": "text/x-python",
   "name": "python",
   "nbconvert_exporter": "python",
   "pygments_lexer": "ipython3",
   "version": "3.10.9"
  }
 },
 "nbformat": 4,
 "nbformat_minor": 5
}
